{
 "cells": [
  {
   "cell_type": "markdown",
   "metadata": {
    "id": "43uoTY8IrC0M"
   },
   "source": [
    "**Set up some prerequisites**"
   ]
  },
  {
   "cell_type": "code",
   "execution_count": 1,
   "metadata": {
    "id": "p8hSptOwqdCS"
   },
   "outputs": [],
   "source": [
    "# Importing standard Qiskit libraries\n",
    "from qiskit import QuantumCircuit, execute, Aer, IBMQ\n",
    "from qiskit.compiler import transpile, assemble\n",
    "from qiskit.tools.jupyter import *\n",
    "from qiskit.visualization import *"
   ]
  },
  {
   "cell_type": "markdown",
   "metadata": {
    "id": "P11xW9yvrqXF"
   },
   "source": [
    "**Build the Quantum Circuit**"
   ]
  },
  {
   "cell_type": "code",
   "execution_count": 2,
   "metadata": {
    "colab": {
     "base_uri": "https://localhost:8080/"
    },
    "id": "kBCbcTBSrpc9",
    "outputId": "9d4a5f2b-d982-47e4-dcf2-3d2b2582dd4c"
   },
   "outputs": [
    {
     "name": "stdout",
     "output_type": "stream",
     "text": [
      "     \n",
      "q_0: \n",
      "     \n",
      "q_1: \n",
      "     \n",
      "q_2: \n",
      "     \n"
     ]
    }
   ],
   "source": [
    "# initialize the circuit\n",
    "number_of_qubits = 3\n",
    "circuit = QuantumCircuit(number_of_qubits) # call the circuit object paramterized by the number of qubits\n",
    "circui.draw() # print the circuit to see where you are at"
   ]
  },
  {
   "cell_type": "code",
   "execution_count": 3,
   "metadata": {
    "colab": {
     "base_uri": "https://localhost:8080/",
     "height": 93
    },
    "id": "lC95hd1OsYSf",
    "outputId": "6ab110f9-7ae2-46af-85fd-771ea98c9945"
   },
   "outputs": [
    {
     "data": {
      "image/png": "[encoded data removed]",
      "text/plain": [
       "<Figure size 808.852x144.48 with 1 Axes>"
      ]
     },
     "execution_count": 3,
     "metadata": {},
     "output_type": "execute_result"
    }
   ],
   "source": [
    "# add some quantum gates\n",
    "number_of_qubits = 2\n",
    "circuit = QuantumCircuit(number_of_qubits)\n",
    "circuit.x(0)\n",
    "circuit.barrier()\n",
    "circuit.y(1)\n",
    "circuit.barrier()\n",
    "circuit.z(1)\n",
    "circuit.barrier()\n",
    "circuit.rz(3.1415926, 0)\n",
    "circuit.barrier()\n",
    "circuit.cx(0, 1) # CNOT, aka control-x\n",
    "circuit.barrier()\n",
    "circuit.cy(1, 0)\n",
    "circuit.barrier()\n",
    "\n",
    "circuit.draw()\n"
   ]
  },
  {
   "cell_type": "code",
   "execution_count": 4,
   "metadata": {
    "colab": {
     "base_uri": "https://localhost:8080/",
     "height": 93
    },
    "id": "1taeIAO4uy7w",
    "outputId": "8e8626d0-862e-4e7c-f216-d7c8a5d338e1"
   },
   "outputs": [
    {
     "data": {
      "image/png": "[encoded data removed]",
      "text/plain": [
       "<Figure size 327.252x144.48 with 1 Axes>"
      ]
     },
     "execution_count": 4,
     "metadata": {},
     "output_type": "execute_result"
    }
   ],
   "source": [
    "# gates can be parallelized (explain the math in pad)\n",
    "number_of_qubits = 2\n",
    "circuit = QuantumCircuit(number_of_qubits)\n",
    "circuit.x(0) # method/function parameter specify the qubit to operate on\n",
    "circuit.y(1)\n",
    "circuit.z(1)\n",
    "circuit.rz(3.1415926, 0) # rz gate parameterized by the rotation angle and the qubit of operation\n",
    "circuit.cx(0, 1) # CNOT, aka control-x\n",
    "circuit.cy(1, 0)\n",
    "circuit.draw()"
   ]
  },
  {
   "cell_type": "code",
   "execution_count": 6,
   "metadata": {
    "colab": {
     "base_uri": "https://localhost:8080/"
    },
    "id": "1CnqaTl4tLj4",
    "outputId": "afcaa47b-0ce3-48ba-f1ff-19a728754e25"
   },
   "outputs": [
    {
     "data": {
      "image/png": "[encoded data removed]",
      "text/plain": [
       "<Figure size 538.279x204.68 with 1 Axes>"
      ]
     },
     "execution_count": 6,
     "metadata": {},
     "output_type": "execute_result"
    }
   ],
   "source": [
    "# lastly, do the measurements\n",
    "number_of_qubits = 2\n",
    "circuit = QuantumCircuit(number_of_qubits)\n",
    "circuit.x(0)\n",
    "circuit.y(1)\n",
    "circuit.z(1)\n",
    "circuit.rz(3.1415926, 0)\n",
    "circuit.cx(0, 1) # CNOT, aka control-x\n",
    "circuit.cy(1, 0)\n",
    "circuit.measure_all() # measurement results are recorded on the classical bits\n",
    "circuit.draw()"
   ]
  },
  {
   "cell_type": "markdown",
   "metadata": {
    "id": "dkMKeaLJtKzF"
   },
   "source": [
    "\n",
    "Now let's create and measure the bell state: $|\\psi\\rangle = \\left(|00\\rangle+|11\\rangle\\right)/\\sqrt{2}.$\n"
   ]
  },
  {
   "cell_type": "code",
   "execution_count": 8,
   "metadata": {
    "colab": {
     "base_uri": "https://localhost:8080/"
    },
    "id": "o2khkHreweZ5",
    "outputId": "25f75a41-a273-4d25-dcf0-256befaa9a07"
   },
   "outputs": [
    {
     "data": {
      "image/png": "[encoded data removed]",
      "text/plain": [
       "<Figure size 417.879x204.68 with 1 Axes>"
      ]
     },
     "execution_count": 8,
     "metadata": {},
     "output_type": "execute_result"
    }
   ],
   "source": [
    "bell_state_circ = QuantumCircuit(2)\n",
    "bell_state_circ.h(0)\n",
    "bell_state_circ.cx(0, 1)\n",
    "bell_state_circ.measure_all()\n",
    "bell_state_circ.draw()"
   ]
  },
  {
   "cell_type": "markdown",
   "metadata": {
    "id": "jfQEMTI8yA3g"
   },
   "source": [
    "**Now, let's execute the circuit we just built on the quantum machine!**\n",
    "\n",
    "First, we will run it on the quantum computer simulator (aka a simulator that mimics \"perfect\" quantum computer:\n",
    "\n",
    "1) All the quantum gates + measurements have no errors\n",
    "\n",
    "2) No restriction on the multi-qubit connectivity, meaning you can do multiqubit gate between any of the qubits"
   ]
  },
  {
   "cell_type": "code",
   "execution_count": 9,
   "metadata": {
    "colab": {
     "base_uri": "https://localhost:8080/"
    },
    "id": "6jeYJsWCxLp6",
    "outputId": "211e6f94-5cb0-4299-fc8f-6fbfc29383d1"
   },
   "outputs": [
    {
     "name": "stdout",
     "output_type": "stream",
     "text": [
      "{'11': 485, '00': 515}\n"
     ]
    }
   ],
   "source": [
    "# Use Aer's qasm_simulator\n",
    "backend_sim = Aer.get_backend('qasm_simulator')\n",
    "\n",
    "# Execute the circuit on the qasm simulator.\n",
    "# We've set the number of repeats of the circuit\n",
    "# to be 1024, which is the default.\n",
    "job_sim = execute(bell_state_circ, backend_sim, shots=1000)\n",
    "\n",
    "# Grab the results from the job.\n",
    "result_sim = job_sim.result()\n",
    "counts = result_sim.get_counts(bell_state_circ)\n",
    "print(counts)"
   ]
  },
  {
   "cell_type": "code",
   "execution_count": 10,
   "metadata": {
    "colab": {
     "base_uri": "https://localhost:8080/",
     "height": 332
    },
    "id": "DjGLfc5Gypwe",
    "outputId": "d2145e3d-f44d-42a4-d31e-1535b677df91"
   },
   "outputs": [
    {
     "data": {
      "image/png": "[encoded data removed]",
      "text/plain": [
       "<Figure size 504x360 with 1 Axes>"
      ]
     },
     "execution_count": 10,
     "metadata": {},
     "output_type": "execute_result"
    }
   ],
   "source": [
    "# visualize in a histogram\n",
    "from qiskit.visualization import plot_histogram\n",
    "plot_histogram(counts)"
   ]
  },
  {
   "cell_type": "markdown",
   "metadata": {
    "id": "UA-K2qwlzSaX"
   },
   "source": [
    "**What if we run with very few shots?**"
   ]
  },
  {
   "cell_type": "code",
   "execution_count": 12,
   "metadata": {
    "colab": {
     "base_uri": "https://localhost:8080/",
     "height": 349
    },
    "id": "agngcLVHzUpi",
    "outputId": "59f2dafc-4c5e-4bf2-cbb4-e049cce98bd7"
   },
   "outputs": [
    {
     "name": "stdout",
     "output_type": "stream",
     "text": [
      "{'00': 3, '11': 7}\n"
     ]
    },
    {
     "data": {
      "image/png": "[encoded data removed]",
      "text/plain": [
       "<Figure size 504x360 with 1 Axes>"
      ]
     },
     "execution_count": 12,
     "metadata": {},
     "output_type": "execute_result"
    }
   ],
   "source": [
    "job_sim = execute(bell_state_circ, backend_sim, shots=10)\n",
    "\n",
    "result_sim = job_sim.result()\n",
    "counts = result_sim.get_counts(bell_state_circ)\n",
    "print(counts)\n",
    "\n",
    "from qiskit.visualization import plot_histogram\n",
    "plot_histogram(counts)"
   ]
  },
  {
   "cell_type": "markdown",
   "metadata": {
    "id": "kadBY_OuT4HW"
   },
   "source": [
    "**Now let's consider the case of running quantum circuits on real physical device**"
   ]
  },
  {
   "cell_type": "markdown",
   "metadata": {
    "id": "r3P-VeiPVIO3"
   },
   "source": [
    "**Case A: we have imperfect execution of quantum gates and measurement errors**"
   ]
  },
  {
   "cell_type": "code",
   "execution_count": 30,
   "metadata": {
    "id": "8R14cuzKbN3c"
   },
   "outputs": [],
   "source": [
    "from qiskit import QuantumCircuit, transpile\n",
    "from qiskit.visualization import plot_circuit_layout\n",
    "from qiskit.test.mock import FakeVigo, FakeYorktown\n",
    "backend = FakeVigo()"
   ]
  },
  {
   "cell_type": "markdown",
   "metadata": {},
   "source": [
    "(Execute quantum circuits on real machines typically take some waiting time, but you are welcomed try it after the session.)\n",
    "\n",
    "Here we have a \"Fake backend\", meaning we are using a simulated backend that trying to mimic the behavior of a real physical backend. The good thing is that we can get immediate results."
   ]
  },
  {
   "cell_type": "code",
   "execution_count": 17,
   "metadata": {},
   "outputs": [
    {
     "data": {
      "application/vnd.jupyter.widget-view+json": {
       "model_id": "bd3b5bf4b5dc48e2a4755a1f2eb64f07",
       "version_major": 2,
       "version_minor": 0
      },
      "text/plain": [
       "VBox(children=(HTML(value=\"<h1 style='color:#ffffff;background-color:#000000;padding-top: 1%;padding-bottom: 1…"
      ]
     },
     "metadata": {},
     "output_type": "display_data"
    },
    {
     "data": {
      "text/plain": [
       "<FakeVigo('fake_vigo') from None()>"
      ]
     },
     "execution_count": 17,
     "metadata": {},
     "output_type": "execute_result"
    }
   ],
   "source": [
    "# see backend info\n",
    "backend"
   ]
  },
  {
   "cell_type": "code",
   "execution_count": 18,
   "metadata": {
    "colab": {
     "base_uri": "https://localhost:8080/",
     "height": 349
    },
    "id": "Mr2gK0zjckkY",
    "outputId": "becf46d6-e94c-4368-fb2e-a206172c8b4e"
   },
   "outputs": [
    {
     "name": "stdout",
     "output_type": "stream",
     "text": [
      "{'11': 3651, '01': 458, '10': 353, '00': 3538}\n"
     ]
    },
    {
     "data": {
      "image/png": "[encoded data removed]",
      "text/plain": [
       "<Figure size 504x360 with 1 Axes>"
      ]
     },
     "execution_count": 18,
     "metadata": {},
     "output_type": "execute_result"
    }
   ],
   "source": [
    "# Now set the backend to a simulator that mimic the physical behavior of a real device\n",
    "\n",
    "job_sim = execute(bell_state_circ, backend, shots=8000)\n",
    "\n",
    "result_sim = job_sim.result()\n",
    "counts = result_sim.get_counts(bell_state_circ)\n",
    "print(counts)\n",
    "\n",
    "from qiskit.visualization import plot_histogram\n",
    "plot_histogram(counts)"
   ]
  },
  {
   "cell_type": "markdown",
   "metadata": {
    "id": "4z8i1NWUezlU"
   },
   "source": [
    "**Case B: Restriction on Multi-qubit Gate Connectivity**"
   ]
  },
  {
   "cell_type": "code",
   "execution_count": 19,
   "metadata": {
    "colab": {
     "base_uri": "https://localhost:8080/"
    },
    "id": "Upv067DUfML4",
    "outputId": "0baa4d32-a7e8-4eb1-c822-646379efd6fd"
   },
   "outputs": [
    {
     "data": {
      "image/png": "[encoded data removed]",
      "text/plain": [
       "<Figure size 146.797x325.08 with 1 Axes>"
      ]
     },
     "execution_count": 19,
     "metadata": {},
     "output_type": "execute_result"
    }
   ],
   "source": [
    "circ = QuantumCircuit(5)\n",
    "circ.cx(0, 4)\n",
    "circ.draw()"
   ]
  },
  {
   "cell_type": "code",
   "execution_count": 20,
   "metadata": {
    "colab": {
     "base_uri": "https://localhost:8080/"
    },
    "id": "KvtUC1EPfq2o",
    "outputId": "d6f53265-c6a3-418a-e320-0231a75118ea"
   },
   "outputs": [
    {
     "data": {
      "image/png": "[encoded data removed]",
      "text/plain": [
       "<Figure size 365.329x325.08 with 1 Axes>"
      ]
     },
     "execution_count": 20,
     "metadata": {},
     "output_type": "execute_result"
    }
   ],
   "source": [
    "transpiled_circ = transpile(circ, backend=backend, optimization_level=0)\n",
    "transpiled_circ.draw()\n",
    "# need swap gates"
   ]
  },
  {
   "cell_type": "markdown",
   "metadata": {
    "id": "zPmjnGXYgbW4"
   },
   "source": [
    "**Case X: Some gates are not native to the superconducting circuit (aka circuit QED) system**"
   ]
  },
  {
   "cell_type": "code",
   "execution_count": 21,
   "metadata": {
    "colab": {
     "base_uri": "https://localhost:8080/"
    },
    "id": "jNhiN-RSgm9J",
    "outputId": "97c4d2c7-0ea4-4aed-88fc-3449f513dc06"
   },
   "outputs": [
    {
     "data": {
      "image/png": "[encoded data removed]",
      "text/plain": [
       "<Figure size 146.797x325.08 with 1 Axes>"
      ]
     },
     "execution_count": 21,
     "metadata": {},
     "output_type": "execute_result"
    }
   ],
   "source": [
    "# For instance, on the real machine you would need to decompose the Toffoli gate\n",
    "circ = QuantumCircuit(5)\n",
    "circ.ccx(0, 1, 2)\n",
    "circ.draw()"
   ]
  },
  {
   "cell_type": "code",
   "execution_count": 37,
   "metadata": {
    "id": "QRx7xQSyg9V3"
   },
   "outputs": [],
   "source": [
    "# we need another backend that has a full-connectivity between qubit 0, 1, and 2\n",
    "backend = FakeYorktown()"
   ]
  },
  {
   "cell_type": "code",
   "execution_count": 38,
   "metadata": {
    "colab": {
     "base_uri": "https://localhost:8080/",
     "height": 685,
     "referenced_widgets": [
      "38de7952603649479e60350401df6eea",
      "ada4f4c29df9413290c03ea5b1fe4e0e",
      "a4c80ea93d34469c92e646af0d99a7f7",
      "5e3cc9628a35476d87de1aeb74296716",
      "da86cd79989a4156ad6acc026a25093e",
      "3aa15cc36e3f4299ad6db13974cc280f",
      "7d714f274cd14ef6a288a985629213ec",
      "900093837b3a42ae815500d08b0a3a25",
      "1d83b94976054e19909599fcd1f96fce",
      "30773f1f37894fa8b1ec9ca5ca7cb451",
      "65ab9bf187784f919f14fb89a1738be4",
      "2c012f83d69e414d91dabc5dfa872443",
      "7048cb3f7ed54e5584bb5e341fc22fd4",
      "6fdecdb39dd84e70b1177ffa2c0b39cc",
      "b9180a3a20af47e68156cdb5f5359ad3",
      "4a61e89a6dfb401e9347be2993d0d269",
      "5b052439aedc4adc84b5b326ed99ccc0",
      "50211b71057244b88a90a27994bcc9ba",
      "1ce1e346330f4ee398f41a94c72ba46d",
      "9d6e8644250e43348a2fd9094946f353",
      "b930f89901444ef4b3b6c98794e7f717",
      "be391356079e43bd841d7c670658da72",
      "39fcb4d6ce0f41ee955ec94acfc78187",
      "8190121b20fc4566aed084e7db6c18bf",
      "467e5c8e6f5845beb834d9c3d7981e09",
      "92c625974b364381b61bab0ae9b880eb",
      "3e84f4f84f454cf99e83ccc00087562c",
      "adb41ceb01104395997a863702556b7a",
      "02a089cb13294e648f2db3c2699cff60",
      "95d98d7a62664527ba87921f5e82c8a4",
      "e589317a13164f2480a430deafc9cef0",
      "b969523ffebe438fa2c12787e8ff4857",
      "64f1d9162ff84cabb55ef0b2dc470ee6",
      "9bb21e63d8bf478cbf4fd8b3f26e083f",
      "062642eec8a74e00ad4a0ada53ac5ee1",
      "c6a76190fbc44aadbd022a58a0a92fe6",
      "31b59f280a574b5698bf69eb63841c5a",
      "ff767618308a465a987e45cc60064f95",
      "390087458fdb4d10ab07537ee7c71754",
      "26e32803d7274668b91b06ef7e6816da",
      "44d3e785cecc4631936ade6026f9f69e",
      "8bd65c102d4a4b1a9ed8d5df19be3015",
      "c8727b0d37d445b593ebdf5b01e5dcc8"
     ]
    },
    "id": "cufFtcCkg_dp",
    "outputId": "4a9843cb-dc51-4096-ca6d-25d796a931c3"
   },
   "outputs": [
    {
     "data": {
      "application/vnd.jupyter.widget-view+json": {
       "model_id": "9ddc05eb1fc045bda16bbd301e64308d",
       "version_major": 2,
       "version_minor": 0
      },
      "text/plain": [
       "VBox(children=(HTML(value=\"<h1 style='color:#ffffff;background-color:#000000;padding-top: 1%;padding-bottom: 1…"
      ]
     },
     "metadata": {},
     "output_type": "display_data"
    },
    {
     "data": {
      "text/plain": [
       "<FakeYorktown('fake_yorktown') from None()>"
      ]
     },
     "execution_count": 38,
     "metadata": {},
     "output_type": "execute_result"
    }
   ],
   "source": [
    "backend"
   ]
  },
  {
   "cell_type": "code",
   "execution_count": 44,
   "metadata": {
    "colab": {
     "base_uri": "https://localhost:8080/"
    },
    "id": "lInVHpNqhAcU",
    "outputId": "f74cdd5f-3c55-4cb1-f2c9-7fdd891b9797"
   },
   "outputs": [
    {
     "data": {
      "image/png": "[encoded data removed]",
      "text/plain": [
       "<Figure size 907.129x325.08 with 1 Axes>"
      ]
     },
     "execution_count": 44,
     "metadata": {},
     "output_type": "execute_result"
    }
   ],
   "source": [
    "transpiled_circ = transpile(circ, backend=backend, optimization_level=1)\n",
    "transpiled_circ.draw()\n",
    "# need 6 CNOT gates"
   ]
  },
  {
   "cell_type": "markdown",
   "metadata": {},
   "source": [
    "<div>\n",
    "<img src=\"Toffoli.png\" width=\"700\"/>\n",
    "</div>"
   ]
  },
  {
   "cell_type": "markdown",
   "metadata": {
    "id": "sfbcTbnRhgeO"
   },
   "source": [
    "**Note: Toffoli gates are native gates in ion trap/neutral atom quantum machines!**"
   ]
  },
  {
   "cell_type": "code",
   "execution_count": null,
   "metadata": {
    "id": "y3QZZKv6iN0B"
   },
   "outputs": [],
   "source": []
  }
 ],
 "metadata": {
  "colab": {
   "name": "Intro_to_quantum_programming.ipynb",
   "provenance": []
  },
  "kernelspec": {
   "display_name": "Python 3",
   "language": "python",
   "name": "python3"
  },
  "language_info": {
   "codemirror_mode": {
    "name": "ipython",
    "version": 3
   },
   "file_extension": ".py",
   "mimetype": "text/x-python",
   "name": "python",
   "nbconvert_exporter": "python",
   "pygments_lexer": "ipython3",
   "version": "3.8.8"
  },
  "widgets": {
   "application/vnd.jupyter.widget-state+json": {
    "02a089cb13294e648f2db3c2699cff60": {
     "model_module": "@jupyter-widgets/base",
     "model_name": "LayoutModel",
     "state": {
      "_model_module": "@jupyter-widgets/base",
      "_model_module_version": "1.2.0",
      "_model_name": "LayoutModel",
      "_view_count": null,
      "_view_module": "@jupyter-widgets/base",
      "_view_module_version": "1.2.0",
      "_view_name": "LayoutView",
      "align_content": null,
      "align_items": null,
      "align_self": null,
      "border": null,
      "bottom": null,
      "display": null,
      "flex": null,
      "flex_flow": null,
      "grid_area": "bottom",
      "grid_auto_columns": null,
      "grid_auto_flow": null,
      "grid_auto_rows": null,
      "grid_column": null,
      "grid_gap": null,
      "grid_row": null,
      "grid_template_areas": null,
      "grid_template_columns": null,
      "grid_template_rows": null,
      "height": null,
      "justify_content": null,
      "justify_items": null,
      "left": null,
      "margin": null,
      "max_height": null,
      "max_width": null,
      "min_height": null,
      "min_width": null,
      "object_fit": null,
      "object_position": null,
      "order": null,
      "overflow": null,
      "overflow_x": null,
      "overflow_y": null,
      "padding": null,
      "right": null,
      "top": null,
      "visibility": null,
      "width": "auto"
     }
    },
    "0314be2c280248038e8fea995b16b5d6": {
     "model_module": "@jupyter-widgets/controls",
     "model_name": "HTMLModel",
     "state": {
      "_dom_classes": [],
      "_model_module": "@jupyter-widgets/controls",
      "_model_module_version": "1.5.0",
      "_model_name": "HTMLModel",
      "_view_count": null,
      "_view_module": "@jupyter-widgets/controls",
      "_view_module_version": "1.5.0",
      "_view_name": "HTMLView",
      "description": "",
      "description_tooltip": null,
      "layout": "IPY_MODEL_75369fd05ace4006aeb3b6ffabc801d9",
      "placeholder": "​",
      "style": "IPY_MODEL_78f6e038f26c4c608aed9d3866996dea",
      "value": "<div><font style='font-weight:bold'>last_update_date</font>: Mon 10 August 2020 at 02:26 </div>"
     }
    },
    "048a9c1c49494e08877301b849e167ae": {
     "model_module": "@jupyter-widgets/base",
     "model_name": "LayoutModel",
     "state": {
      "_model_module": "@jupyter-widgets/base",
      "_model_module_version": "1.2.0",
      "_model_name": "LayoutModel",
      "_view_count": null,
      "_view_module": "@jupyter-widgets/base",
      "_view_module_version": "1.2.0",
      "_view_name": "LayoutView",
      "align_content": null,
      "align_items": null,
      "align_self": null,
      "border": null,
      "bottom": null,
      "display": null,
      "flex": null,
      "flex_flow": null,
      "grid_area": null,
      "grid_auto_columns": null,
      "grid_auto_flow": null,
      "grid_auto_rows": null,
      "grid_column": null,
      "grid_gap": null,
      "grid_row": null,
      "grid_template_areas": null,
      "grid_template_columns": null,
      "grid_template_rows": null,
      "height": null,
      "justify_content": null,
      "justify_items": null,
      "left": null,
      "margin": null,
      "max_height": null,
      "max_width": null,
      "min_height": null,
      "min_width": null,
      "object_fit": null,
      "object_position": null,
      "order": null,
      "overflow": null,
      "overflow_x": null,
      "overflow_y": "scroll",
      "padding": null,
      "right": null,
      "top": null,
      "visibility": null,
      "width": null
     }
    },
    "062642eec8a74e00ad4a0ada53ac5ee1": {
     "model_module": "@jupyter-widgets/base",
     "model_name": "LayoutModel",
     "state": {
      "_model_module": "@jupyter-widgets/base",
      "_model_module_version": "1.2.0",
      "_model_name": "LayoutModel",
      "_view_count": null,
      "_view_module": "@jupyter-widgets/base",
      "_view_module_version": "1.2.0",
      "_view_name": "LayoutView",
      "align_content": null,
      "align_items": null,
      "align_self": null,
      "border": null,
      "bottom": null,
      "display": null,
      "flex": null,
      "flex_flow": null,
      "grid_area": "top",
      "grid_auto_columns": null,
      "grid_auto_flow": null,
      "grid_auto_rows": null,
      "grid_column": null,
      "grid_gap": null,
      "grid_row": null,
      "grid_template_areas": null,
      "grid_template_columns": null,
      "grid_template_rows": null,
      "height": null,
      "justify_content": null,
      "justify_items": null,
      "left": null,
      "margin": null,
      "max_height": null,
      "max_width": null,
      "min_height": null,
      "min_width": null,
      "object_fit": null,
      "object_position": null,
      "order": null,
      "overflow": null,
      "overflow_x": null,
      "overflow_y": null,
      "padding": null,
      "right": null,
      "top": null,
      "visibility": null,
      "width": null
     }
    },
    "13d9479b5cd54f29862603f59b7e650a": {
     "model_module": "@jupyter-widgets/base",
     "model_name": "LayoutModel",
     "state": {
      "_model_module": "@jupyter-widgets/base",
      "_model_module_version": "1.2.0",
      "_model_name": "LayoutModel",
      "_view_count": null,
      "_view_module": "@jupyter-widgets/base",
      "_view_module_version": "1.2.0",
      "_view_name": "LayoutView",
      "align_content": null,
      "align_items": null,
      "align_self": null,
      "border": null,
      "bottom": null,
      "display": null,
      "flex": null,
      "flex_flow": null,
      "grid_area": "left",
      "grid_auto_columns": null,
      "grid_auto_flow": null,
      "grid_auto_rows": null,
      "grid_column": null,
      "grid_gap": null,
      "grid_row": null,
      "grid_template_areas": null,
      "grid_template_columns": null,
      "grid_template_rows": null,
      "height": null,
      "justify_content": null,
      "justify_items": null,
      "left": null,
      "margin": null,
      "max_height": null,
      "max_width": null,
      "min_height": null,
      "min_width": null,
      "object_fit": null,
      "object_position": null,
      "order": null,
      "overflow": null,
      "overflow_x": null,
      "overflow_y": null,
      "padding": null,
      "right": null,
      "top": null,
      "visibility": null,
      "width": "100%"
     }
    },
    "1ce1e346330f4ee398f41a94c72ba46d": {
     "model_module": "@jupyter-widgets/controls",
     "model_name": "HTMLModel",
     "state": {
      "_dom_classes": [],
      "_model_module": "@jupyter-widgets/controls",
      "_model_module_version": "1.5.0",
      "_model_name": "HTMLModel",
      "_view_count": null,
      "_view_module": "@jupyter-widgets/controls",
      "_view_module_version": "1.5.0",
      "_view_name": "HTMLView",
      "description": "",
      "description_tooltip": null,
      "layout": "IPY_MODEL_64f1d9162ff84cabb55ef0b2dc470ee6",
      "placeholder": "​",
      "style": "IPY_MODEL_b969523ffebe438fa2c12787e8ff4857",
      "value": "<table><style>\ntable {\n    border-collapse: collapse;\n    width: auto;\n}\n\nth, td {\n    text-align: left;\n    padding: 8px;\n}\n\ntr:nth-child(even) {background-color: #f6f6f6;}\n</style><tr><th></th><th>Frequency</th><th>T1</th><th>T2</th><th>U1</th><th>U2</th><th>U3</th><th>Readout error</th></tr><tr><td><font style='font-weight:bold'>Q0</font></td><td>5.30628 GHz</td><td>52.25832 µs</td><td>77.03992 µs</td><td>0</td><td>0.00068</td><td>0.00137</td><td>0.475 </td><tr><td><font style='font-weight:bold'>Q1</font></td><td>5.22415 GHz</td><td>70.57488 µs</td><td>81.80092 µs</td><td>0</td><td>0.00059</td><td>0.00119</td><td>0.471 </td><tr><td><font style='font-weight:bold'>Q2</font></td><td>5.03693 GHz</td><td>45.93731 µs</td><td>73.47297 µs</td><td>0</td><td>0.0007</td><td>0.0014</td><td>0.4795 </td><tr><td><font style='font-weight:bold'>Q3</font></td><td>5.30518 GHz</td><td>48.07428 µs</td><td>39.93042 µs</td><td>0</td><td>0.00089</td><td>0.00178</td><td>0.474 </td><tr><td><font style='font-weight:bold'>Q4</font></td><td>5.0844 GHz</td><td>61.85549 µs</td><td>74.57606 µs</td><td>0</td><td>0.00063</td><td>0.00125</td><td>0.483 </td></table>"
     }
    },
    "1d83b94976054e19909599fcd1f96fce": {
     "model_module": "@jupyter-widgets/controls",
     "model_name": "VBoxModel",
     "state": {
      "_dom_classes": [],
      "_model_module": "@jupyter-widgets/controls",
      "_model_module_version": "1.5.0",
      "_model_name": "VBoxModel",
      "_view_count": null,
      "_view_module": "@jupyter-widgets/controls",
      "_view_module_version": "1.5.0",
      "_view_name": "VBoxView",
      "box_style": "",
      "children": [
       "IPY_MODEL_50211b71057244b88a90a27994bcc9ba",
       "IPY_MODEL_1ce1e346330f4ee398f41a94c72ba46d"
      ],
      "layout": "IPY_MODEL_5b052439aedc4adc84b5b326ed99ccc0"
     }
    },
    "26e32803d7274668b91b06ef7e6816da": {
     "model_module": "@jupyter-widgets/controls",
     "model_name": "DescriptionStyleModel",
     "state": {
      "_model_module": "@jupyter-widgets/controls",
      "_model_module_version": "1.5.0",
      "_model_name": "DescriptionStyleModel",
      "_view_count": null,
      "_view_module": "@jupyter-widgets/base",
      "_view_module_version": "1.2.0",
      "_view_name": "StyleView",
      "description_width": ""
     }
    },
    "27009ebb147a43069d97bdb62cc06293": {
     "model_module": "@jupyter-widgets/controls",
     "model_name": "DescriptionStyleModel",
     "state": {
      "_model_module": "@jupyter-widgets/controls",
      "_model_module_version": "1.5.0",
      "_model_name": "DescriptionStyleModel",
      "_view_count": null,
      "_view_module": "@jupyter-widgets/base",
      "_view_module_version": "1.2.0",
      "_view_name": "StyleView",
      "description_width": ""
     }
    },
    "2c012f83d69e414d91dabc5dfa872443": {
     "model_module": "@jupyter-widgets/controls",
     "model_name": "TabModel",
     "state": {
      "_dom_classes": [],
      "_model_module": "@jupyter-widgets/controls",
      "_model_module_version": "1.5.0",
      "_model_name": "TabModel",
      "_titles": {},
      "_view_count": null,
      "_view_module": "@jupyter-widgets/controls",
      "_view_module_version": "1.5.0",
      "_view_name": "TabView",
      "box_style": "",
      "children": [],
      "layout": "IPY_MODEL_467e5c8e6f5845beb834d9c3d7981e09",
      "selected_index": 0
     }
    },
    "2c2865de4325498b8e3bf65eef4eceee": {
     "model_module": "@jupyter-widgets/controls",
     "model_name": "HTMLModel",
     "state": {
      "_dom_classes": [],
      "_model_module": "@jupyter-widgets/controls",
      "_model_module_version": "1.5.0",
      "_model_name": "HTMLModel",
      "_view_count": null,
      "_view_module": "@jupyter-widgets/controls",
      "_view_module_version": "1.5.0",
      "_view_name": "HTMLView",
      "description": "",
      "description_tooltip": null,
      "layout": "IPY_MODEL_b6d922e4d5774fabb518f106160d6fc9",
      "placeholder": "​",
      "style": "IPY_MODEL_5005178b13f14b6ca272a3a53686ed1d",
      "value": "<table><style>\ntable {\n    border-collapse: collapse;\n    width: auto;\n}\n\nth, td {\n    text-align: left;\n    padding: 8px;\n}\n\ntr:nth-child(even) {background-color: #f6f6f6;};\n</style><tr><th></th><th>Type</th><th>Gate error</th></tr><tr><td><font style='font-weight:bold'>cx3_4</font></td><td>cx</td><td>0.00767</td></tr><tr><td><font style='font-weight:bold'>cx4_3</font></td><td>cx</td><td>0.00767</td></tr></table>"
     }
    },
    "2c8cc3a242774a5e82e7b839d3e63061": {
     "model_module": "@jupyter-widgets/controls",
     "model_name": "GridBoxModel",
     "state": {
      "_dom_classes": [],
      "_model_module": "@jupyter-widgets/controls",
      "_model_module_version": "1.5.0",
      "_model_name": "GridBoxModel",
      "_view_count": null,
      "_view_module": "@jupyter-widgets/controls",
      "_view_module_version": "1.5.0",
      "_view_name": "GridBoxView",
      "box_style": "",
      "children": [
       "IPY_MODEL_435e3a0ca8384e50a97e53ae1324929f",
       "IPY_MODEL_8d91e929ede841a2a192592218db2d8a",
       "IPY_MODEL_61826f2ddd3040a4a823ae676a854405",
       "IPY_MODEL_2c2865de4325498b8e3bf65eef4eceee"
      ],
      "layout": "IPY_MODEL_c3324b7449b446c58c340556eac03786"
     }
    },
    "30773f1f37894fa8b1ec9ca5ca7cb451": {
     "model_module": "@jupyter-widgets/controls",
     "model_name": "GridBoxModel",
     "state": {
      "_dom_classes": [],
      "_model_module": "@jupyter-widgets/controls",
      "_model_module_version": "1.5.0",
      "_model_name": "GridBoxModel",
      "_view_count": null,
      "_view_module": "@jupyter-widgets/controls",
      "_view_module_version": "1.5.0",
      "_view_name": "GridBoxView",
      "box_style": "",
      "children": [
       "IPY_MODEL_b930f89901444ef4b3b6c98794e7f717",
       "IPY_MODEL_be391356079e43bd841d7c670658da72",
       "IPY_MODEL_39fcb4d6ce0f41ee955ec94acfc78187",
       "IPY_MODEL_8190121b20fc4566aed084e7db6c18bf"
      ],
      "layout": "IPY_MODEL_9d6e8644250e43348a2fd9094946f353"
     }
    },
    "31b59f280a574b5698bf69eb63841c5a": {
     "model_module": "@jupyter-widgets/base",
     "model_name": "LayoutModel",
     "state": {
      "_model_module": "@jupyter-widgets/base",
      "_model_module_version": "1.2.0",
      "_model_name": "LayoutModel",
      "_view_count": null,
      "_view_module": "@jupyter-widgets/base",
      "_view_module_version": "1.2.0",
      "_view_name": "LayoutView",
      "align_content": null,
      "align_items": null,
      "align_self": null,
      "border": null,
      "bottom": null,
      "display": null,
      "flex": null,
      "flex_flow": null,
      "grid_area": "left",
      "grid_auto_columns": null,
      "grid_auto_flow": null,
      "grid_auto_rows": null,
      "grid_column": null,
      "grid_gap": null,
      "grid_row": null,
      "grid_template_areas": null,
      "grid_template_columns": null,
      "grid_template_rows": null,
      "height": null,
      "justify_content": null,
      "justify_items": null,
      "left": null,
      "margin": null,
      "max_height": null,
      "max_width": null,
      "min_height": null,
      "min_width": null,
      "object_fit": null,
      "object_position": null,
      "order": null,
      "overflow": null,
      "overflow_x": null,
      "overflow_y": null,
      "padding": null,
      "right": null,
      "top": null,
      "visibility": null,
      "width": null
     }
    },
    "38de7952603649479e60350401df6eea": {
     "model_module": "@jupyter-widgets/controls",
     "model_name": "VBoxModel",
     "state": {
      "_dom_classes": [],
      "_model_module": "@jupyter-widgets/controls",
      "_model_module_version": "1.5.0",
      "_model_name": "VBoxModel",
      "_view_count": null,
      "_view_module": "@jupyter-widgets/controls",
      "_view_module_version": "1.5.0",
      "_view_name": "VBoxView",
      "box_style": "",
      "children": [
       "IPY_MODEL_a4c80ea93d34469c92e646af0d99a7f7",
       "IPY_MODEL_5e3cc9628a35476d87de1aeb74296716"
      ],
      "layout": "IPY_MODEL_ada4f4c29df9413290c03ea5b1fe4e0e"
     }
    },
    "390087458fdb4d10ab07537ee7c71754": {
     "model_module": "@jupyter-widgets/base",
     "model_name": "LayoutModel",
     "state": {
      "_model_module": "@jupyter-widgets/base",
      "_model_module_version": "1.2.0",
      "_model_name": "LayoutModel",
      "_view_count": null,
      "_view_module": "@jupyter-widgets/base",
      "_view_module_version": "1.2.0",
      "_view_name": "LayoutView",
      "align_content": null,
      "align_items": null,
      "align_self": null,
      "border": null,
      "bottom": null,
      "display": null,
      "flex": null,
      "flex_flow": null,
      "grid_area": "middle",
      "grid_auto_columns": null,
      "grid_auto_flow": null,
      "grid_auto_rows": null,
      "grid_column": null,
      "grid_gap": null,
      "grid_row": null,
      "grid_template_areas": null,
      "grid_template_columns": null,
      "grid_template_rows": null,
      "height": null,
      "justify_content": null,
      "justify_items": null,
      "left": null,
      "margin": null,
      "max_height": null,
      "max_width": null,
      "min_height": null,
      "min_width": null,
      "object_fit": null,
      "object_position": null,
      "order": null,
      "overflow": null,
      "overflow_x": null,
      "overflow_y": null,
      "padding": null,
      "right": null,
      "top": null,
      "visibility": null,
      "width": null
     }
    },
    "39fcb4d6ce0f41ee955ec94acfc78187": {
     "model_module": "@jupyter-widgets/controls",
     "model_name": "HTMLModel",
     "state": {
      "_dom_classes": [],
      "_model_module": "@jupyter-widgets/controls",
      "_model_module_version": "1.5.0",
      "_model_name": "HTMLModel",
      "_view_count": null,
      "_view_module": "@jupyter-widgets/controls",
      "_view_module_version": "1.5.0",
      "_view_name": "HTMLView",
      "description": "",
      "description_tooltip": null,
      "layout": "IPY_MODEL_390087458fdb4d10ab07537ee7c71754",
      "placeholder": "​",
      "style": "IPY_MODEL_ff767618308a465a987e45cc60064f95",
      "value": "<table><style>\ntable {\n    border-collapse: collapse;\n    width: auto;\n}\n\nth, td {\n    text-align: left;\n    padding: 8px;\n}\n\ntr:nth-child(even) {background-color: #f6f6f6;};\n</style><tr><th></th><th>Type</th><th>Gate error</th></tr><tr><td><font style='font-weight:bold'>cx2_0</font></td><td>cx</td><td>1</td></tr><tr><td><font style='font-weight:bold'>cx2_1</font></td><td>cx</td><td>1</td></tr><tr><td><font style='font-weight:bold'>cx2_3</font></td><td>cx</td><td>1</td></tr><tr><td><font style='font-weight:bold'>cx2_4</font></td><td>cx</td><td>1</td></tr></table>"
     }
    },
    "3aa15cc36e3f4299ad6db13974cc280f": {
     "model_module": "@jupyter-widgets/base",
     "model_name": "LayoutModel",
     "state": {
      "_model_module": "@jupyter-widgets/base",
      "_model_module_version": "1.2.0",
      "_model_name": "LayoutModel",
      "_view_count": null,
      "_view_module": "@jupyter-widgets/base",
      "_view_module_version": "1.2.0",
      "_view_name": "LayoutView",
      "align_content": null,
      "align_items": null,
      "align_self": null,
      "border": null,
      "bottom": null,
      "display": null,
      "flex": null,
      "flex_flow": null,
      "grid_area": null,
      "grid_auto_columns": null,
      "grid_auto_flow": null,
      "grid_auto_rows": null,
      "grid_column": null,
      "grid_gap": null,
      "grid_row": null,
      "grid_template_areas": null,
      "grid_template_columns": null,
      "grid_template_rows": null,
      "height": null,
      "justify_content": null,
      "justify_items": null,
      "left": null,
      "margin": "0px 0px 0px 0px",
      "max_height": null,
      "max_width": null,
      "min_height": null,
      "min_width": null,
      "object_fit": null,
      "object_position": null,
      "order": null,
      "overflow": null,
      "overflow_x": null,
      "overflow_y": null,
      "padding": null,
      "right": null,
      "top": null,
      "visibility": null,
      "width": null
     }
    },
    "3e84f4f84f454cf99e83ccc00087562c": {
     "model_module": "@jupyter-widgets/base",
     "model_name": "LayoutModel",
     "state": {
      "_model_module": "@jupyter-widgets/base",
      "_model_module_version": "1.2.0",
      "_model_name": "LayoutModel",
      "_view_count": null,
      "_view_module": "@jupyter-widgets/base",
      "_view_module_version": "1.2.0",
      "_view_name": "LayoutView",
      "align_content": null,
      "align_items": null,
      "align_self": null,
      "border": null,
      "bottom": null,
      "display": null,
      "flex": null,
      "flex_flow": null,
      "grid_area": "left",
      "grid_auto_columns": null,
      "grid_auto_flow": null,
      "grid_auto_rows": null,
      "grid_column": null,
      "grid_gap": null,
      "grid_row": null,
      "grid_template_areas": null,
      "grid_template_columns": null,
      "grid_template_rows": null,
      "height": null,
      "justify_content": null,
      "justify_items": null,
      "left": null,
      "margin": null,
      "max_height": null,
      "max_width": null,
      "min_height": null,
      "min_width": null,
      "object_fit": null,
      "object_position": null,
      "order": null,
      "overflow": null,
      "overflow_x": null,
      "overflow_y": null,
      "padding": null,
      "right": null,
      "top": null,
      "visibility": null,
      "width": "100%"
     }
    },
    "416b7ae5c0e04f70b1022d5f32e33196": {
     "model_module": "@jupyter-widgets/base",
     "model_name": "LayoutModel",
     "state": {
      "_model_module": "@jupyter-widgets/base",
      "_model_module_version": "1.2.0",
      "_model_name": "LayoutModel",
      "_view_count": null,
      "_view_module": "@jupyter-widgets/base",
      "_view_module_version": "1.2.0",
      "_view_name": "LayoutView",
      "align_content": null,
      "align_items": null,
      "align_self": null,
      "border": null,
      "bottom": null,
      "display": null,
      "flex": null,
      "flex_flow": null,
      "grid_area": "bottom",
      "grid_auto_columns": null,
      "grid_auto_flow": null,
      "grid_auto_rows": null,
      "grid_column": null,
      "grid_gap": null,
      "grid_row": null,
      "grid_template_areas": null,
      "grid_template_columns": null,
      "grid_template_rows": null,
      "height": null,
      "justify_content": null,
      "justify_items": null,
      "left": null,
      "margin": null,
      "max_height": null,
      "max_width": null,
      "min_height": null,
      "min_width": null,
      "object_fit": null,
      "object_position": null,
      "order": null,
      "overflow": null,
      "overflow_x": null,
      "overflow_y": null,
      "padding": null,
      "right": null,
      "top": null,
      "visibility": null,
      "width": "auto"
     }
    },
    "435e3a0ca8384e50a97e53ae1324929f": {
     "model_module": "@jupyter-widgets/controls",
     "model_name": "HTMLModel",
     "state": {
      "_dom_classes": [],
      "_model_module": "@jupyter-widgets/controls",
      "_model_module_version": "1.5.0",
      "_model_name": "HTMLModel",
      "_view_count": null,
      "_view_module": "@jupyter-widgets/controls",
      "_view_module_version": "1.5.0",
      "_view_name": "HTMLView",
      "description": "",
      "description_tooltip": null,
      "layout": "IPY_MODEL_85e2807655cc4a26bf2c45e41f62d8ea",
      "placeholder": "​",
      "style": "IPY_MODEL_990c002abbc44bd4b25291dfe415f3a3",
      "value": "<div><font style='font-weight:bold'>last_update_date</font>: 2020-08-10 02:26:39-04:00</div>"
     }
    },
    "44d3e785cecc4631936ade6026f9f69e": {
     "model_module": "@jupyter-widgets/base",
     "model_name": "LayoutModel",
     "state": {
      "_model_module": "@jupyter-widgets/base",
      "_model_module_version": "1.2.0",
      "_model_name": "LayoutModel",
      "_view_count": null,
      "_view_module": "@jupyter-widgets/base",
      "_view_module_version": "1.2.0",
      "_view_name": "LayoutView",
      "align_content": null,
      "align_items": null,
      "align_self": null,
      "border": null,
      "bottom": null,
      "display": null,
      "flex": null,
      "flex_flow": null,
      "grid_area": "right",
      "grid_auto_columns": null,
      "grid_auto_flow": null,
      "grid_auto_rows": null,
      "grid_column": null,
      "grid_gap": null,
      "grid_row": null,
      "grid_template_areas": null,
      "grid_template_columns": null,
      "grid_template_rows": null,
      "height": null,
      "justify_content": null,
      "justify_items": null,
      "left": null,
      "margin": null,
      "max_height": null,
      "max_width": null,
      "min_height": null,
      "min_width": null,
      "object_fit": null,
      "object_position": null,
      "order": null,
      "overflow": null,
      "overflow_x": null,
      "overflow_y": null,
      "padding": null,
      "right": null,
      "top": null,
      "visibility": null,
      "width": null
     }
    },
    "467e5c8e6f5845beb834d9c3d7981e09": {
     "model_module": "@jupyter-widgets/base",
     "model_name": "LayoutModel",
     "state": {
      "_model_module": "@jupyter-widgets/base",
      "_model_module_version": "1.2.0",
      "_model_name": "LayoutModel",
      "_view_count": null,
      "_view_module": "@jupyter-widgets/base",
      "_view_module_version": "1.2.0",
      "_view_name": "LayoutView",
      "align_content": null,
      "align_items": null,
      "align_self": null,
      "border": null,
      "bottom": null,
      "display": null,
      "flex": null,
      "flex_flow": null,
      "grid_area": null,
      "grid_auto_columns": null,
      "grid_auto_flow": null,
      "grid_auto_rows": null,
      "grid_column": null,
      "grid_gap": null,
      "grid_row": null,
      "grid_template_areas": null,
      "grid_template_columns": null,
      "grid_template_rows": null,
      "height": null,
      "justify_content": null,
      "justify_items": null,
      "left": null,
      "margin": null,
      "max_height": "620px",
      "max_width": null,
      "min_height": null,
      "min_width": null,
      "object_fit": null,
      "object_position": null,
      "order": null,
      "overflow": null,
      "overflow_x": null,
      "overflow_y": null,
      "padding": null,
      "right": null,
      "top": null,
      "visibility": null,
      "width": null
     }
    },
    "4a61e89a6dfb401e9347be2993d0d269": {
     "model_module": "@jupyter-widgets/controls",
     "model_name": "HTMLMathModel",
     "state": {
      "_dom_classes": [],
      "_model_module": "@jupyter-widgets/controls",
      "_model_module_version": "1.5.0",
      "_model_name": "HTMLMathModel",
      "_view_count": null,
      "_view_module": "@jupyter-widgets/controls",
      "_view_module_version": "1.5.0",
      "_view_name": "HTMLMathView",
      "description": "",
      "description_tooltip": null,
      "layout": "IPY_MODEL_02a089cb13294e648f2db3c2699cff60",
      "placeholder": "​",
      "style": "IPY_MODEL_adb41ceb01104395997a863702556b7a",
      "value": "<table><style>\ntable {\n    border-collapse: collapse;\n    width: auto;\n}\n\nth, td {\n    text-align: left;\n    padding: 8px;\n}\n\ntr:nth-child(even) {background-color: #f6f6f6;}\n</style><tr><th></th><th></th></tr><tr><td>allow_q_object</td><td>True</td></tr><tr><td>meas_map</td><td>[[0, 1, 2, 3, 4]]</td></tr><tr><td>simulator</td><td>False</td></tr><tr><td>coupling_map</td><td>[[0, 1], [0, 2], [1, 0], [1, 2], [2, 0], [2, 1], [2, 3], [2, 4], [3, 2], [3, 4], [4, 2], [4, 3]]</td></tr><tr><td>allow_object_storage</td><td>True</td></tr><tr><td>dynamic_reprate_enabled</td><td>False</td></tr><tr><td>credits_required</td><td>True</td></tr><tr><td>sample_name</td><td>sparrow</td></tr><tr><td>backend_name</td><td>fake_yorktown</td></tr><tr><td>local</td><td>False</td></tr><tr><td>open_pulse</td><td>False</td></tr><tr><td>n_registers</td><td>1</td></tr><tr><td>description</td><td>5 qubit device</td></tr><tr><td>memory</td><td>True</td></tr><tr><td>url</td><td>None</td></tr><tr><td>online_date</td><td>2017-01-24T05:00:00+00:00</td></tr><tr><td>conditional</td><td>False</td></tr></table>"
     }
    },
    "4d5068dc149a451296940d8967cf1c2b": {
     "model_module": "@jupyter-widgets/controls",
     "model_name": "TabModel",
     "state": {
      "_dom_classes": [],
      "_model_module": "@jupyter-widgets/controls",
      "_model_module_version": "1.5.0",
      "_model_name": "TabModel",
      "_titles": {
       "0": "Configuration",
       "1": "Qubit Properties",
       "2": "Multi-Qubit Gates",
       "3": "Error Map",
       "4": "Job History"
      },
      "_view_count": null,
      "_view_module": "@jupyter-widgets/controls",
      "_view_module_version": "1.5.0",
      "_view_name": "TabView",
      "box_style": "",
      "children": [
       "IPY_MODEL_b10a0560c01f4839a4172deb52c2043f",
       "IPY_MODEL_6b6249b33e2e4d86ba8f663ef7e23b69",
       "IPY_MODEL_2c8cc3a242774a5e82e7b839d3e63061",
       "IPY_MODEL_6ffa35d01032458288b89b2b6db517a9",
       "IPY_MODEL_c2a0bef74296414a9816277fd75b68be"
      ],
      "layout": "IPY_MODEL_048a9c1c49494e08877301b849e167ae",
      "selected_index": 0
     }
    },
    "5005178b13f14b6ca272a3a53686ed1d": {
     "model_module": "@jupyter-widgets/controls",
     "model_name": "DescriptionStyleModel",
     "state": {
      "_model_module": "@jupyter-widgets/controls",
      "_model_module_version": "1.5.0",
      "_model_name": "DescriptionStyleModel",
      "_view_count": null,
      "_view_module": "@jupyter-widgets/base",
      "_view_module_version": "1.2.0",
      "_view_name": "StyleView",
      "description_width": ""
     }
    },
    "50211b71057244b88a90a27994bcc9ba": {
     "model_module": "@jupyter-widgets/controls",
     "model_name": "HTMLModel",
     "state": {
      "_dom_classes": [],
      "_model_module": "@jupyter-widgets/controls",
      "_model_module_version": "1.5.0",
      "_model_name": "HTMLModel",
      "_view_count": null,
      "_view_module": "@jupyter-widgets/controls",
      "_view_module_version": "1.5.0",
      "_view_name": "HTMLView",
      "description": "",
      "description_tooltip": null,
      "layout": "IPY_MODEL_e589317a13164f2480a430deafc9cef0",
      "placeholder": "​",
      "style": "IPY_MODEL_95d98d7a62664527ba87921f5e82c8a4",
      "value": "<div><font style='font-weight:bold'>last_update_date</font>: Mon 13 July 2020 at 12:14 UTC</div>"
     }
    },
    "50796e7be94e47849d535e452b4fbe4e": {
     "model_module": "@jupyter-widgets/controls",
     "model_name": "DescriptionStyleModel",
     "state": {
      "_model_module": "@jupyter-widgets/controls",
      "_model_module_version": "1.5.0",
      "_model_name": "DescriptionStyleModel",
      "_view_count": null,
      "_view_module": "@jupyter-widgets/base",
      "_view_module_version": "1.2.0",
      "_view_name": "StyleView",
      "description_width": ""
     }
    },
    "54caa095608c4f779a6ac8e513cc5d19": {
     "model_module": "@jupyter-widgets/base",
     "model_name": "LayoutModel",
     "state": {
      "_model_module": "@jupyter-widgets/base",
      "_model_module_version": "1.2.0",
      "_model_name": "LayoutModel",
      "_view_count": null,
      "_view_module": "@jupyter-widgets/base",
      "_view_module_version": "1.2.0",
      "_view_name": "LayoutView",
      "align_content": null,
      "align_items": null,
      "align_self": null,
      "border": null,
      "bottom": null,
      "display": null,
      "flex": null,
      "flex_flow": null,
      "grid_area": null,
      "grid_auto_columns": null,
      "grid_auto_flow": null,
      "grid_auto_rows": null,
      "grid_column": null,
      "grid_gap": null,
      "grid_row": null,
      "grid_template_areas": null,
      "grid_template_columns": null,
      "grid_template_rows": null,
      "height": null,
      "justify_content": null,
      "justify_items": null,
      "left": null,
      "margin": null,
      "max_height": null,
      "max_width": null,
      "min_height": null,
      "min_width": null,
      "object_fit": null,
      "object_position": null,
      "order": null,
      "overflow": null,
      "overflow_x": null,
      "overflow_y": null,
      "padding": null,
      "right": null,
      "top": null,
      "visibility": null,
      "width": null
     }
    },
    "55d22a1446cf49d89e03c908170ffaf1": {
     "model_module": "@jupyter-widgets/base",
     "model_name": "LayoutModel",
     "state": {
      "_model_module": "@jupyter-widgets/base",
      "_model_module_version": "1.2.0",
      "_model_name": "LayoutModel",
      "_view_count": null,
      "_view_module": "@jupyter-widgets/base",
      "_view_module_version": "1.2.0",
      "_view_name": "LayoutView",
      "align_content": null,
      "align_items": null,
      "align_self": null,
      "border": null,
      "bottom": null,
      "display": null,
      "flex": null,
      "flex_flow": null,
      "grid_area": null,
      "grid_auto_columns": null,
      "grid_auto_flow": null,
      "grid_auto_rows": null,
      "grid_column": null,
      "grid_gap": null,
      "grid_row": null,
      "grid_template_areas": null,
      "grid_template_columns": null,
      "grid_template_rows": null,
      "height": null,
      "justify_content": null,
      "justify_items": null,
      "left": null,
      "margin": null,
      "max_height": "620px",
      "max_width": null,
      "min_height": null,
      "min_width": null,
      "object_fit": null,
      "object_position": null,
      "order": null,
      "overflow": null,
      "overflow_x": null,
      "overflow_y": null,
      "padding": null,
      "right": null,
      "top": null,
      "visibility": null,
      "width": null
     }
    },
    "58622fe099e344d89352eb920317fc69": {
     "model_module": "@jupyter-widgets/controls",
     "model_name": "DescriptionStyleModel",
     "state": {
      "_model_module": "@jupyter-widgets/controls",
      "_model_module_version": "1.5.0",
      "_model_name": "DescriptionStyleModel",
      "_view_count": null,
      "_view_module": "@jupyter-widgets/base",
      "_view_module_version": "1.2.0",
      "_view_name": "StyleView",
      "description_width": ""
     }
    },
    "5b052439aedc4adc84b5b326ed99ccc0": {
     "model_module": "@jupyter-widgets/base",
     "model_name": "LayoutModel",
     "state": {
      "_model_module": "@jupyter-widgets/base",
      "_model_module_version": "1.2.0",
      "_model_name": "LayoutModel",
      "_view_count": null,
      "_view_module": "@jupyter-widgets/base",
      "_view_module_version": "1.2.0",
      "_view_name": "LayoutView",
      "align_content": null,
      "align_items": null,
      "align_self": null,
      "border": null,
      "bottom": null,
      "display": null,
      "flex": null,
      "flex_flow": null,
      "grid_area": null,
      "grid_auto_columns": null,
      "grid_auto_flow": null,
      "grid_auto_rows": null,
      "grid_column": null,
      "grid_gap": null,
      "grid_row": null,
      "grid_template_areas": null,
      "grid_template_columns": null,
      "grid_template_rows": null,
      "height": null,
      "justify_content": null,
      "justify_items": null,
      "left": null,
      "margin": null,
      "max_height": null,
      "max_width": null,
      "min_height": null,
      "min_width": null,
      "object_fit": null,
      "object_position": null,
      "order": null,
      "overflow": null,
      "overflow_x": null,
      "overflow_y": null,
      "padding": null,
      "right": null,
      "top": null,
      "visibility": null,
      "width": null
     }
    },
    "5e3cc9628a35476d87de1aeb74296716": {
     "model_module": "@jupyter-widgets/controls",
     "model_name": "TabModel",
     "state": {
      "_dom_classes": [],
      "_model_module": "@jupyter-widgets/controls",
      "_model_module_version": "1.5.0",
      "_model_name": "TabModel",
      "_titles": {
       "0": "Configuration",
       "1": "Qubit Properties",
       "2": "Multi-Qubit Gates",
       "3": "Error Map",
       "4": "Job History"
      },
      "_view_count": null,
      "_view_module": "@jupyter-widgets/controls",
      "_view_module_version": "1.5.0",
      "_view_name": "TabView",
      "box_style": "",
      "children": [
       "IPY_MODEL_900093837b3a42ae815500d08b0a3a25",
       "IPY_MODEL_1d83b94976054e19909599fcd1f96fce",
       "IPY_MODEL_30773f1f37894fa8b1ec9ca5ca7cb451",
       "IPY_MODEL_65ab9bf187784f919f14fb89a1738be4",
       "IPY_MODEL_2c012f83d69e414d91dabc5dfa872443"
      ],
      "layout": "IPY_MODEL_7d714f274cd14ef6a288a985629213ec",
      "selected_index": 0
     }
    },
    "61826f2ddd3040a4a823ae676a854405": {
     "model_module": "@jupyter-widgets/controls",
     "model_name": "HTMLModel",
     "state": {
      "_dom_classes": [],
      "_model_module": "@jupyter-widgets/controls",
      "_model_module_version": "1.5.0",
      "_model_name": "HTMLModel",
      "_view_count": null,
      "_view_module": "@jupyter-widgets/controls",
      "_view_module_version": "1.5.0",
      "_view_name": "HTMLView",
      "description": "",
      "description_tooltip": null,
      "layout": "IPY_MODEL_dceee5352e5245e38f36a332f5795b19",
      "placeholder": "​",
      "style": "IPY_MODEL_27009ebb147a43069d97bdb62cc06293",
      "value": "<table><style>\ntable {\n    border-collapse: collapse;\n    width: auto;\n}\n\nth, td {\n    text-align: left;\n    padding: 8px;\n}\n\ntr:nth-child(even) {background-color: #f6f6f6;};\n</style><tr><th></th><th>Type</th><th>Gate error</th></tr><tr><td><font style='font-weight:bold'>cx1_3</font></td><td>cx</td><td>0.01543</td></tr><tr><td><font style='font-weight:bold'>cx2_1</font></td><td>cx</td><td>0.0083</td></tr><tr><td><font style='font-weight:bold'>cx3_1</font></td><td>cx</td><td>0.01543</td></tr></table>"
     }
    },
    "64f1d9162ff84cabb55ef0b2dc470ee6": {
     "model_module": "@jupyter-widgets/base",
     "model_name": "LayoutModel",
     "state": {
      "_model_module": "@jupyter-widgets/base",
      "_model_module_version": "1.2.0",
      "_model_name": "LayoutModel",
      "_view_count": null,
      "_view_module": "@jupyter-widgets/base",
      "_view_module_version": "1.2.0",
      "_view_name": "LayoutView",
      "align_content": null,
      "align_items": null,
      "align_self": null,
      "border": null,
      "bottom": null,
      "display": null,
      "flex": null,
      "flex_flow": null,
      "grid_area": null,
      "grid_auto_columns": null,
      "grid_auto_flow": null,
      "grid_auto_rows": null,
      "grid_column": null,
      "grid_gap": null,
      "grid_row": null,
      "grid_template_areas": null,
      "grid_template_columns": null,
      "grid_template_rows": null,
      "height": null,
      "justify_content": null,
      "justify_items": null,
      "left": null,
      "margin": null,
      "max_height": null,
      "max_width": null,
      "min_height": null,
      "min_width": null,
      "object_fit": null,
      "object_position": null,
      "order": null,
      "overflow": null,
      "overflow_x": null,
      "overflow_y": null,
      "padding": null,
      "right": null,
      "top": null,
      "visibility": null,
      "width": null
     }
    },
    "65ab9bf187784f919f14fb89a1738be4": {
     "model_module": "@jupyter-widgets/output",
     "model_name": "OutputModel",
     "state": {
      "_dom_classes": [],
      "_model_module": "@jupyter-widgets/output",
      "_model_module_version": "1.0.0",
      "_model_name": "OutputModel",
      "_view_count": null,
      "_view_module": "@jupyter-widgets/output",
      "_view_module_version": "1.0.0",
      "_view_name": "OutputView",
      "layout": "IPY_MODEL_8bd65c102d4a4b1a9ed8d5df19be3015",
      "msg_id": "",
      "outputs": [
       {
        "image/png": "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\n",
        "metadata": {
         "tags": []
        },
        "output_type": "display_data",
        "text/plain": "<Figure size 792x648 with 5 Axes>"
       }
      ]
     }
    },
    "68abaf5a80314fc1b4a3aeccf7438e87": {
     "model_module": "@jupyter-widgets/controls",
     "model_name": "VBoxModel",
     "state": {
      "_dom_classes": [],
      "_model_module": "@jupyter-widgets/controls",
      "_model_module_version": "1.5.0",
      "_model_name": "VBoxModel",
      "_view_count": null,
      "_view_module": "@jupyter-widgets/controls",
      "_view_module_version": "1.5.0",
      "_view_name": "VBoxView",
      "box_style": "",
      "children": [
       "IPY_MODEL_e9b1a6b24c574fe5b7ec18040c6e1f1b",
       "IPY_MODEL_4d5068dc149a451296940d8967cf1c2b"
      ],
      "layout": "IPY_MODEL_e1e3f313a57540b79b363e953a178f77"
     }
    },
    "6b6249b33e2e4d86ba8f663ef7e23b69": {
     "model_module": "@jupyter-widgets/controls",
     "model_name": "VBoxModel",
     "state": {
      "_dom_classes": [],
      "_model_module": "@jupyter-widgets/controls",
      "_model_module_version": "1.5.0",
      "_model_name": "VBoxModel",
      "_view_count": null,
      "_view_module": "@jupyter-widgets/controls",
      "_view_module_version": "1.5.0",
      "_view_name": "VBoxView",
      "box_style": "",
      "children": [
       "IPY_MODEL_0314be2c280248038e8fea995b16b5d6",
       "IPY_MODEL_6ee2474c1f404db4ae2589498a34189d"
      ],
      "layout": "IPY_MODEL_fb9fa83bd7674b28aca90358b9e787ea"
     }
    },
    "6d99dc9919f44e1c8a152771f142520d": {
     "model_module": "@jupyter-widgets/controls",
     "model_name": "DescriptionStyleModel",
     "state": {
      "_model_module": "@jupyter-widgets/controls",
      "_model_module_version": "1.5.0",
      "_model_name": "DescriptionStyleModel",
      "_view_count": null,
      "_view_module": "@jupyter-widgets/base",
      "_view_module_version": "1.2.0",
      "_view_name": "StyleView",
      "description_width": ""
     }
    },
    "6ee2474c1f404db4ae2589498a34189d": {
     "model_module": "@jupyter-widgets/controls",
     "model_name": "HTMLModel",
     "state": {
      "_dom_classes": [],
      "_model_module": "@jupyter-widgets/controls",
      "_model_module_version": "1.5.0",
      "_model_name": "HTMLModel",
      "_view_count": null,
      "_view_module": "@jupyter-widgets/controls",
      "_view_module_version": "1.5.0",
      "_view_name": "HTMLView",
      "description": "",
      "description_tooltip": null,
      "layout": "IPY_MODEL_54caa095608c4f779a6ac8e513cc5d19",
      "placeholder": "​",
      "style": "IPY_MODEL_50796e7be94e47849d535e452b4fbe4e",
      "value": "<table><style>\ntable {\n    border-collapse: collapse;\n    width: auto;\n}\n\nth, td {\n    text-align: left;\n    padding: 8px;\n}\n\ntr:nth-child(even) {background-color: #f6f6f6;}\n</style><tr><th></th><th>Frequency</th><th>T1</th><th>T2</th><th>U1</th><th>U2</th><th>U3</th><th>Readout error</th></tr><tr><td><font style='font-weight:bold'>Q0</font></td><td>4.79646 GHz</td><td>143.57746 µs</td><td>13.28137 µs</td><td>0</td><td>0.00035</td><td>0.0007</td><td>0.013 </td><tr><td><font style='font-weight:bold'>Q1</font></td><td>4.94013 GHz</td><td>98.23832 µs</td><td>129.12224 µs</td><td>0</td><td>0.00061</td><td>0.00122</td><td>0.019 </td><tr><td><font style='font-weight:bold'>Q2</font></td><td>4.83351 GHz</td><td>108.41889 µs</td><td>109.37933 µs</td><td>0</td><td>0.00037</td><td>0.00074</td><td>0.003 </td><tr><td><font style='font-weight:bold'>Q3</font></td><td>4.80797 GHz</td><td>110.70002 µs</td><td>62.3225 µs</td><td>0</td><td>0.00056</td><td>0.00112</td><td>0.013 </td><tr><td><font style='font-weight:bold'>Q4</font></td><td>4.74967 GHz</td><td>157.41419 µs</td><td>56.17975 µs</td><td>0</td><td>0.00044</td><td>0.00089</td><td>0.016 </td></table>"
     }
    },
    "6fdecdb39dd84e70b1177ffa2c0b39cc": {
     "model_module": "@jupyter-widgets/controls",
     "model_name": "HTMLMathModel",
     "state": {
      "_dom_classes": [],
      "_model_module": "@jupyter-widgets/controls",
      "_model_module_version": "1.5.0",
      "_model_name": "HTMLMathModel",
      "_view_count": null,
      "_view_module": "@jupyter-widgets/controls",
      "_view_module_version": "1.5.0",
      "_view_name": "HTMLMathView",
      "description": "",
      "description_tooltip": null,
      "layout": "IPY_MODEL_3e84f4f84f454cf99e83ccc00087562c",
      "placeholder": "​",
      "style": "IPY_MODEL_92c625974b364381b61bab0ae9b880eb",
      "value": "<table><style>\ntable {\n    border-collapse: collapse;\n    width: auto;\n}\n\nth, td {\n    text-align: left;\n    padding: 8px;\n}\n\ntr:nth-child(even) {background-color: #f6f6f6;}\n</style><tr><th>Property</th><th>Value</th></tr><tr><td><font style='font-weight:bold'>n_qubits</font></td><td>5</td></tr><tr><td><font style='font-weight:bold'>quantum_volume</font></td><td>8</td></tr><tr><td><font style='font-weight:bold'>operational</font></td><td>True</td></tr><tr><td><font style='font-weight:bold'>status_msg</font></td><td></td></tr><tr><td><font style='font-weight:bold'>pending_jobs</font></td><td>0</td></tr><tr><td><font style='font-weight:bold'>backend_version</font></td><td>2.0.6</td></tr><tr><td><font style='font-weight:bold'>basis_gates</font></td><td>['id', 'u1', 'u2', 'u3', 'cx']</td></tr><tr><td><font style='font-weight:bold'>max_shots</font></td><td>8192</td></tr><tr><td><font style='font-weight:bold'>max_experiments</font></td><td>75</td></tr></table>"
     }
    },
    "6ffa35d01032458288b89b2b6db517a9": {
     "model_module": "@jupyter-widgets/output",
     "model_name": "OutputModel",
     "state": {
      "_dom_classes": [],
      "_model_module": "@jupyter-widgets/output",
      "_model_module_version": "1.0.0",
      "_model_name": "OutputModel",
      "_view_count": null,
      "_view_module": "@jupyter-widgets/output",
      "_view_module_version": "1.0.0",
      "_view_name": "OutputView",
      "layout": "IPY_MODEL_b72c6238e6dc4eefb95c4bb2c1e85bcf",
      "msg_id": "",
      "outputs": [
       {
        "image/png": "iVBORw0KGgoAAAANSUhEUgAAAoQAAAIACAYAAAAbln2BAAAABHNCSVQICAgIfAhkiAAAAAlwSFlzAAALEgAACxIB0t1+/AAAADh0RVh0U29mdHdhcmUAbWF0cGxvdGxpYiB2ZXJzaW9uMy4yLjIsIGh0dHA6Ly9tYXRwbG90bGliLm9yZy+WH4yJAAAgAElEQVR4nOzdeZxcVZ3//9cnewJhCasIBgGXAAaUoIBiCLsoI60jGHH5Mjo6uP0UZVxGEVHHGUBRERxUFA0YQbAVIS4sGRRRh0alFYIswRj2QCcQsi/n98ethkqnb1LVXbequu/r+Xj0I1237j33U1VdN+86955TkVJCkiRJ5TWi1QVIkiSptQyEkiRJJWcglCRJKjkDoSRJUskZCCVJkkrOQChJklRyBkJJkqSSMxBKkiSVnIFQkiSp5AyEkiRJJWcglCRJKjkDoSRJUskZCCVJkkrOQChJklRyBkJJkqSSMxBKkiSVnIFQkiSp5AyEkiRJJWcglCRJKjkDoSRJUskZCCVJkkrOQChJklRyBkJJkqSSMxBKkiSVnIFQkiSp5AyEkiRJJWcglCRJKjkDoSRJUskZCCVJkkrOQChJklRyBkJJkqSSMxBKkiSVnIFQkiSp5AyEkiRJJWcglCRJKjkDoSRJUskZCCVJkkrOQChJklRyBkJJkqSSMxBKkiSVnIFQkiSp5AyEkiRJJWcglCRJKjkDoSRJUskZCCVJkkrOQChJklRyBkJJkqSSMxBKkiSVnIFQkiSp5AyEkiRJJWcglCRJKjkDoSRJUskZCCVJkkrOQChJklRyBkJJkqSSMxBKkiSVnIFQkiSp5AyEkiRJJWcglCRJKjkDoSRJUskZCCVJkkrOQChJklRyBkJJkqSSMxBKkiSVnIFQkiSp5AyEkiRJJWcglCRJKjkDoSRJUsm1VSCMiBQRe7W6jmaKiNkRccIAthsbEXdFxA5F1CVJkspjs4EwIv4eESsi4umIeCQiLomILZtR3EBFxP9GxLs2cf/ulfD5dJ+fk5pc51RgP+Cnldv7RcQdEfF4RJxWtd7oiPhDROzWuyyltAr4DvDxZtYsSZKGn1p7CI9PKW0J7A+8FPhEcSU11TYppS2rfi7vb6WIGNnn9qh6drKJ9d8DXJZSSpXbXwQ+ShYS/yMidq4sPw24KqW0sM/2PwDeERFj66lHkiSpWl2njFNKjwC/JAuGAETEQRFxS0QsiYjbI+KwqvtOiYh5EbE0IuZHxHuq24uI0yPi4Yh4KCL+pc99W0fE9yNiUUQsiIhPRcSIyn1nRsSlVev29viNiogvAIcCX6/0+n29nsdYae+SiPhGRMyJiGXAjEpP6cciohtYVtnXP1V69JZUeiWnVLWx0fr97Oo1wE1Vt58P3JhSehC4B3heREwG3gic13fjlNIDwGLgoHofoyRJUq+6AmFE7EoWYu6t3H4ucC3weWASWe/WVVXXtT0GvA7YCjgFOC8iXlbZ9tjK+kcBLwCO7LO784GtgT2A6cDbK21sUkrpP4DfAO+v9Pq9v57HWOUtwBeAicDNlWUzgdcC21Tqmg18CNgBmAP8LCLGVLXxzPoppbXVjUfEFmQB8G9Vi/8KHF15nncH7gO+CpyeUlqTU+c8sh5FSZKkAak1EP4kIpYCC8lC3mcqy98KzEkpzUkprU8pXQd0AccBpJSuTSndlzI3Ab8i670DOBH4bkrprymlZcCZvTurnKJ9M/CJlNLSlNLfgS8BbxvEY+3P45Xevd6fKVX3/TSl9NvK41pZWfa1lNLClNIK4CTg2pTSdZWwdi4wHjikqo3q9fvapvLv0qplHwVOBa4GPgy8snL//RHx04i4KSLe1KedpVVtSZIk1a3Wa+FOSCldHxHTya5b2x5YAkwG3hQRx1etOxqYCxARryELjy8kC58TgL9U1tsFuK1quwVVv29faWdBn/ufW2O9tdq+b89dlb7X6/VdtgtV9aWU1kfEQjassb82ei2p/DsRWFlpYwGVMB0RE4DfAUeT9ZZeTtYb+9eIuCGl1FO1/RIkSZIGqN5rCG8CLiHrDYMs8MxKKW1T9bNFSum/KgMdrqqsu1NKaRuy06pR2fZhYLeq5p9X9fvjwBqywFl9/4OV35eRhcteO7OhxOD110b1soeoqi8iguzxPJiz/oYNZb2i95GF5f6cAXwrpfQo8BKgK6X0JPAAUD01zxTg9vyHIUmStGkDmYfwK8BREbEfcClwfEQcExEjI2JcRBxWuQZuDDAWWASsrfQWHl3VzhXA/4uIvSu9Yb2noUkpravc/4WImFgZWHFaZX8AfwZeHRHPi4it2XjU86Nk1/gV6QrgtRFxRESMBj4CrAJuqaONOWTXR24gIvYGDgO+UVl0P3B4ROxEdr3lPyrrPZfs2s3fD/AxSJIk1R8IU0qLgO8DZ1SmQXk98Emy4LcQOB0YkVJaCnyQLDgtJhukcXVVOz8nC5c3kg1SubHPrj5A1hM4n2xQxw/I5t2jcq3i5UA32Wnna/ps+1XgnyNicUR8bRMPZ0mfeQhP28S6fZ+Hv5FdQ3k+WY/m8WTT86yutQ3gm8DJld7FahcA/18lGEMWeD8I3AH8Z2W0N2TP6fcqcxJKkiQNSDw7BZ5aISJ+AFyRUvpJnduNJTtV/OqU0mOFFCdJkkrBQChJklRybfVdxpIkSWo+A6EkSVLJGQglSZJKrtaJqQdjSF6kOHPmTABmz57drF32HWksSZLUFPYQSpIklVwzRhkPyR7Cnp7sm+EmTZrUrF3aQyhJklrCQNg+DISSJKklPGWc48orr+TKK69sdRmSJEmFMxDmuOqqq7jqqqtaXYYkSVLhDISSJEklZyCUJEkqOQOhJElSyRkIJUmSSs5pZ3KsWLECgPHjxzdrl047I0mSWsJA2D4MhJIkqSU8ZZxj1qxZzJo1q9VlSJIkFc5AmGPOnDnMmTOn1WVIkiQVzkAoSZJUcgZCSZKkkhtV9A7mX39d0bsoxIrFi1tdgiRJUlPYQyhJklRyhfcQDlVf/uhHWl2CJElSU9hDKEmSVHL2EOa44le/AuDjRx7V4kokNVtPd9dU4FDgVcD+wARgHfA48BvgD8D1k6ZO62lZkZLUQAbCHL/v/kurS5DURD3dXWOAmcDHgOeRnUHp+92VzwcOAJ4GxvR0d/0EOGfS1Gl/bGatktRonjKWVHo93V0vA+YBXwemAFuwcRjsNQLYChgHvAn4TU9310U93V1bNKNWSSqCgVBSafV0d0VPd9cngJvJev+2rLOJkWSnk98G3NPT3fWSBpcoSU1hIJRUZucAnyLrDYxBtDMe2Bn4bU9310sbUZgkNZOBMMfY0aMZO3p0q8uQVJCe7q7TgH8j6+FrhAAmAnN7urue16A2JakpIqVU6A7mX39dsTso2B7NG2U8mN4JSXXo6e7aG7iVxoXBamvJRiEfOmnqtCF9/JNUHvYQSiqVnu6ukcAVZINCijCKbKqadxXUviQ1nIEwx6XXXMul11zb6jIkNd6xwGSKPf5tAXyxEj4lqe05D2GOP951V6tLkFSMf6f+0cQDMQZ4LXB1E/YlSYNiIJRUGj3dXc8BXl7r+mO335Gx227PyHHjiQhWPPoQKx59qNbNJwIfxEAoaQjwlLGkMnkFsKrWlUeN34K0bh3r16we6P4O7OnucsCYpLZnIJRUJgdSx+niZQvvZ+n8v7FuxfKB7m8MsMtAN5akZvGUcY6ttvBbqKRh6KVk3y7SLKuAFwEPNnGfklQ3A2GOM0/9t1aXIKnxiph3cHPyvhNZktqGp4wllcmakuxTkupiD2GOb/+4E4D/bN43lUgq3t+bvL8RwMNN3qck1c1AmOPO+fNbXYKkxrsFeDM1DiwZO2l7Rk3YkpHjszPNo7fahhGjx7D6qSWseWpJLU2MA+YNtFhJapa6ThlHxKSI6IyIZRGxICLeUlRhklSArnpWHjVhS8ZO2p6RY8Zmt8dPyELi+JovRbxn0tRpa+usUZKart4ewguA1cBOZN/VeW1E3J5SuqPhlUlS4/0VeJIaewiXPfB3lj3w94Huazlw8UA3lqRmqrmHMCK2AN4IfDql9HRK6WayGfjfVlRxktRIk6ZOS8C5ZGGtaCOAS5qwH0katHpOGb8QWJtSurtq2e3APn1XjIh3R0RXRHTNvvbawdbYEjtsuw07bLtNq8uQ1HiXAOsL3sdK4IeTpk7rKXg/ktQQkVKqbcWIQ4EfpZR2rlr2r8DJKaXD8rabf/11te2gTe3RvFHGfr2V1CRP3H7rW9P69J0RI0eMLmgXTwGTJ02dVtPIE0lqtXquIXwa2KrPsq2ApY0rR5KK9aNTvxLAgfu/bp/R2zxnK0aOKuSLS0YDe5ONapaktlfPKeO7gVER8YKqZfsBw3JAyYWXX86Fl1/e6jIkNVAlDH4F+OBffnkXK5euYt3aQs4ejwd+0dPddUgRjUtSo9UcCFNKy4AfA2dFxBYR8Urg9cCsooprpXsXPsC9Cx9odRmSGqQ6DAKsW7OOrh/fzvIly1m3Zl0Ru5yIoVDSEFHvV9e9l+yT72PAbOBUp5yR1O76hsFea1ev49arbqfngSW/TSmtAAZyzfMKYBFwfz/3GQolDQl1BcKUUk9K6YSU0hYppeellH5QVGGS1Ah5YbBXWp/O6v7FvEMrA+duJhshvLqGpp+u/FwI7AG8gmyew74MhZLanl9dJ2nY2lwYBM4CznzTNz6UgNuAV/d0d+0BvBs4BnjxylWrx61fnwhg1KhRLF++kq233uJXwA+AKyZNnbai0tbTPd1dhwM3Avv22U9vKDx20tRpDjSR1HZqnnZmoIbqtDNfnpVdGvn1732/Wbt02hmpgeoMg/3q6e4a8Z73nr9u7LjRrF+3nqVLV/D0spXMndeZ+37t6e7agf5DIWSzMhgKJbUdA+FmOA+hNPQ0Igz2mjGlY6N1NhUIwVAoaeipd1CJJLW1RobBgZo0ddoi4HC8plDSEGEgzPHlWbOeOW0saWhohzDYy1AoaSgxEOZ44NHHeODRx1pdhqQatVMY7GUolDRUGAglDXntGAZ7GQolDQUGQklDWjuHwV6GQkntzkAoacgaCmGwl6FQUjszEObYa7dd2Wu3XVtdhqQcQykM9jIUSmpXBsIc7z3pJN570kmtLkNSP4ZiGOxlKJTUjgyEkoaUoRwGexkKJbUbA2GOL158MV+8+OJWlyGpynAIg70MhZLaiYEwx6LFS1i0eEmry5BUMZzCYC9DoaR2YSCU1PaGYxjsZSiU1A4MhJLa2nAOg70MhZJazUAoqW2VIQz2MhRKaiUDYY6999iDvffYo9VlSKVVpjDYy1AoqVUipcKPpcPmYF2waHUBUrtopzA4Y0rHRvuYO6+z0PdrT3fXDsCNwL793L0UOHbS1Gm3FFmDpHKxh1BSW2mnMNgq9hRKajYDYY5TTz2VU089tdVlSKViGHyWoVBSMxkIcyxZsoQlS5yHUGoWw+DGDIWSmsVAKKnlDIP5DIWSmsFAKKmlDIObZyiUVDQDoaSWMQzWzlAoqUgGwhyHHHIIhxzisVUqimGwfoZCSUVxHsL24TyEKo2hFAZbMQ/h5jhPoaRGs4dQUlMNpTDYruwplNRoBsIcp5xyCqecckqry5CGFcNg4xgKJTWSgTDHypUrWblyZavLkIYNw2DjGQolNYqBUFLhDIPFMRRKaoRRRe9g/vXXFb2LQqxYvBgorv49jjyqkHaldmMYLN6kqdMW9XR3HU7/A016Q6EDTSTlsodQUmEMg81jT6GkwTAQ5jho6ks4aOpLWl2GNGQZBpvPUChpoAyEOU48+mhOPProVpchDUmGwdYxFEoaCAOhpIYyDLaeoVBSvQyEOU4790ucdu6XWl2GNKQYBtuHoVBSPQyEkhrCMNh+DIWSamUglDRohsH2ZSiUVAsDoaRBqYTB32MYbFs1hMIbe7q73t3cqiS1EwOhpAGrhME/Ai/PWcUw2CY2EwrHAhcZCqXyMhDmmD7tAKZPO6DVZUhtqyoM7p+zimGwzWwmFIKhUCotA2GO1x92GK8/7LBWlyG1pUoY/C35YfBLGAbbUlUofChnlYt6urve1MSSJLUBA2GOlatWs3LV6laXIbWdqgEkB+eschNwumGwfVVC4ZHAqpxVLnagiVQuBsIcnzz/fD55/vmtLkNqKzWMJr4JmGEYbH+Tpk6bB7yU/kOho4+lkjEQSqqJYXD4MRRK6mUglLRZNYTB/8YwOCRVQuE+OE+hVGoGQkmbVOOk058wDA5dk6ZOuw84AkOhVFoGQkm5/AaS8pg0ddpjGAql0jIQ5jjmkIM55pC8QZTS8GcYLB9DoVReBsIcxxxyCMcc4nFP5WQYLC9DoVROBsIcTy59mieXPt3qMqSmMwzKUCiVj4Ewx2cvuojPXnRRq8uQmsowqF6GQqlc6gqEEfH+iOiKiFURcUlBNUlqAcOg+jIUSuVRbw/hQ8Dnge8UUIukFjEMKo+hUCqHugJhSunHKaWfAE8UVI+kJjMManMMhdLw5zWEUokZBlUrQ6E0vBUSCCPi3ZVrDbtmX3ttEbso3PHTX83x01/d6jKkwhgGVS9DoTR8FRIIU0rfTClNSylNm/na1xaxi8LNOPBAZhx4YKvLkAphGNRAGQql4clTxjke6+nhsZ6eVpchNZxhUINlKJSGn3qnnRkVEeOAkcDIiBgXEaOKKa21/us73+W/vvPdVpchNZRhUI1iKJSGl3p7CD8FrAA+Dry18vunGl2UpMYzDKrRDIXS8FHvtDNnppSiz8+ZBdUmqUEMgyqKoVAaHryGUBrmDIMqmqFQGvoMhNIwZhhUsxgKpaHNQJjjTUcdyZuOOrLVZUgDZhhUsxkKpaHLQJjj4P324+D99mt1GdKAGAbVKoZCaWgyEOZY+MgjLHzkkVaXIdXNMKhWMxRKQ4+BMMd5l17GeZde1uoypLoYBtUuDIXS0GIglIYJw6DajaFQGjoMhNIwYBhUuzIUSkODgVAa4gyDaneGQqn9GQilIcwwqKHCUCi1NwNhjpOPO46Tjzuu1WVIuQyDGmoMhVL7MhDmOGDvKRyw95RWlyH1yzCoocpQKLUnA2GOexcu5N6FC1tdhrQRw6CGOkOh1H4MhDkuvPwKLrz8ilaXIW3AMKjhwlAotRcDoTREGAY13BgKpfZhIJSGAMOghitDodQeDIRSmzMMargzFEqtZyCU2phhUGVhKJRay0CY450dJ/DOjhNaXYZKzDCosjEUSq0TKRX+f4n/WdUmWl2A2odhsH3MmNKx0XM8d16n79cC9XR37QjcAOzbz91LgWMnTZ12S3OrkoY3ewhz3Hbbbdx2222tLkMlZBhU2dlTKDWfPYQ5Zs6cCcDs2bObtUt7HIaRqZOnPx84BDgIeBkwHlgLPAj8BugCft+94KbV1dsZBtvDjCkdu5G9fq8APtzPKkcAt8yd17myqYWVzEB7Cu+b3bkz8Erg5WSv4USy/4sWATcDtwK37Dmz4+mCSpeGHANhDgOh6jV18vRRwOuBj5H9B7YW2JKNX9tVlZ8EXAhc2L3gpgcMg601Y0rHCOA1ZK/fgcBqstevvzMpT1WWfxs4f+68zvnNqrNsag2F983uDOBw4HTgMLL3WH+v3xpgOTAGuBQ4b8+ZHfOKqV4aOgyEOQyEqsfUydP3BX4E7Er2n1CtVgHrgDM+eezrJ48cMeIDOesZBgs0Y0rHXsDlwAup7/VbTfb6nQt8bu68zjUFlFd6mwuFq59c/tZlDzzxYWAasAW1H0/XkgXEbwEf33Nmx4pG1CsNRQbCHAZC1WLq5OkBfIQssI1jgK/jyBixZvuJE0e/5cBD2HLsuL53GwYLNGNKxzuBrwFjgZEDbGY58ABw7Nx5nfc3qjY9Ky8UrnpyGcsfXAwprQVGDbD55cATwHF7zuzo77pFadhzUIk0QJUweC7wWbJrBAcc6tel9aMXLX2Kb918I0+t2KCTwjBYoBlTOj5GFgYnMPAwSGX7PYGuGVM6XtiI2rSh/gaarFz8dG8YhIGHQchev12B3943u/NlgypUGqLsIcxx5513ArD33ns3a5f2EA4xUydP/xjwabJTVA0REUwcO45/O/QIxo4ebRgs0IwpHacAXycLA42ynqyn6SVz53U+2sB2VdHbU7j6qRX7Lnvgid4w2EhPAi/dc2aHPb0qFQNh+zAQDiFTJ0/fD/gdWc9gQ40cMYLnbLXN7accMv2lhsFizJjS8XyynqZGhsFeq4EbgePmzuv09SvAg9ddv/fKJ57+CykVcZZrHfAn4BV7zuxYX0D7UlvylHGOm2++mZtvvrnVZagNTZ08fTRwBdk1gw23bv16HljS84LPzek8ooj2y27GlI4Afkh2zWARxgCHAicW1H7prXx86dmVawaLMBKYAryvoPaltmQgzHHBBRdwwQUXtLoMtac3ALtQbK/uBOCrBbZfZocDezO4awY3Zwvgy5WpbNRA983u3B+YQRa8i7IF8Pn7ZncW9aFBajserKT6fYz6piYZqN2nTp5+QBP2Uzan08DrPjdhK7JBEGqsD1NsGOwVZB/+pFIYzKgsqXSmTp7+AuDFta4/ZuwYTvvkqRz7uhlM2HIC8/56N+d+7gL+8uea5sEdS3ba6l8GWK76mDGlYweySYtr6t396Ofey74vncKOO2/H6jVrmdd9Nxed+33+fs8/atl8C+BDwHUDLlgbuG9253iyU/E1/9+140EHMH6nHRg5dgzr165lVc8Snrj9DlYvfnJzm04ETgOaNveY1EqFB8L519d+LNzjyKMKrERqiFeSXXRek38/4/2c+NbXc89d8/nDb//IMcfP4KJLv8Rxh85kyeb/QxpJdmpMjfMKYCU1Xj/42n8+ijv+/Df+8sd5HHDwVA569QHs+cLJnHzMe1mzerNzUAdw8CDr1Yb2Ixu0U/P1u6MmjGfFY4+zfs0axu+0AxOesxOjt5rIP67+ZS2bT71vdufIPWd21Pyel4Yqewil+hxMjaeLJ223DR0nHse6dev417d8mJ4nlrB23TqOf8PRzHxHB9/4yiW1NLPr1MnTx3cvuMlvUGiMA6njdPF73vgR7r4z+1a6nXbZgR/e8E122Hl7dt9rN+65s6Zvq5swY0rHTk5B0zAHAKPr2eChG58dHDhm263Z7djDGTV+PETUMmXNarIzAnfUW6g01BgIc3zhC19odQlqTy+tdcU9X/h8Ro8ZzYMLH6bniSUA3Nl9F8e/4WhetPdetTazAtgL+Evdlao/L6OO497dVaFv9Jgsh6xbu44nFi2utYmVZCNWDYSNsT8DmOppqxfswZitJzJ+px0AWPK3e2qdv3A92etnINSwZyDMsccee7S6BLWnmuet2277bQFYvuzZzr0VK1YCsP0Ok2ptZn09+9RmDWgw0LgJ4/jYF94PwI++dzU9tQdCaM4AlrLYaiAbbbnbLs+EwbXLlrNyUU+tm47A959KwlHGOW644QZuuOGGVpeh9lPz3GdPPJ6FhglbPNuhMWFC9vvjtf+HBLDZi9VUs7rnrtt6260475Kz2PdlU7jmil9x0bnfr7cJX7/GGdBz+dCNNzP/8p/y8K9/z8jx49n5VS9n1ISaOhoTA/ibkYYiewhzfPvb3wbgiCOcNUIbeITswvbNuu+ev7Nm9Rp23mVHJm2/LT2PL2af/bIBynfPu6/W/Y0BFg2oUvXngXpW3mmXHTj725/hec9/LpdddCXf/spl9e5vBPBYvRsp1wKyXvOaOjNi5AjS+vWQIK1fz/KHH2X92rWMHDOaUVtuwdrlm700dz2+fioJA6FUn1+TTWy82Qvbex5fzE+v/AX//Jbj+fYPvsw9f7ufY143g2VPL2f2935c6/7WUmeI0SbdAryJGk/jnv+DL7LDTtvxyEOPMXb8WN73iWwGoBuu+Q13/eWeWpoYh9efNVIX8DQ1njoeu90kdjp4GisWPcH61asZv8P2jBwzmnUrV7F68ZJamhgP/HEQ9UpDhoFQqs+tZAM9ahrp+N9nfo21a9dy9GtncPjk59L9pzs59/MXsrhns1PO9PpL94Kb/D7cxuki6/WpyQ47bQfAzrvsyD+//fhnlt877/5aA+H8ufM6PWXcOLdRxyjjdStWsmbp00zYeUdGjBrFulWrePofD7D4r3exfk1NZ4KX7Dmzo67rO6ShykAo1edm6rj2dtWq1fznp7/Cf376KwPZ19NA3ResaZO6yUb+Tqxl5RlTOgazrxVA3eeYtUkLyXrMX1DLymuWPr3BtDN1WgP8aKAbS0ONg0qkOlTmA7yYbH6yoo3AQNFQc+d1rgPOIwtrRQvgoibspzT2nNmRgLPJPiwVbS1+n7hKxB7CHF/60pdaXYLa19eAdxe8j5XAd7sX3NSM//jK5tvApwrex2rgmrnzOh2Q0HizgXML3sda4P/2nNlR03UB0nBgD2GOXXbZhV122aXVZagNdS+4aT5ZL8WyAnezFPhEge2X1tx5nYuAj1Ls67eS7Huo1WB7zuxYBrxr7bp1RfbSrwZOKbB9qe0YCHNcc801XHPNNa0uQ+3rC2TXMhXxHafLgbd0L7hpaQFtK3MR2be/FBEqlgP/au9gcTo+/pWd/nT3gjGraxsYUq9lwMf2nNlxfxGNS+3KQJjjsssu47LLvHxL/etecNMa4GighzpGrdZgOXBm94Kbrm9gm+pj7rzO9cA/kc0r2chRwMuAC+bO67yigW2qytTJ098HfP28H/6CR3ueZM3ahobC5WQDSS5oZKPSUGAglAaoe8FN/wAOIpu4dlUDmuwNg+c0oC1tRuXU8UFkI1dXNqDJ5cCFwMca0Jb60RsGAVasWs0n/ucKHly0mJWrG5LplwGXA++qDF6RSsVAKA1C5XrCfYBrGfg1aSuBx4EOw2BzzZ3X+TCwP9lAheUDbGYV8CTwtrnzOv997rxOw0QBqsNgr2UrVvHvF/yQrnnz/5ZSGujI8TVko5bfB7xzz5kdRVwGIrU9A6E0SN0LburpXnDTG4GTgflk/7nUchp5Gdn0J5cAe3YvuOlXhRWpXHPndS6dO6/zX8hOId9JFgxrCQXLycL8j4C95s7rrPnrZ1Sf/sJgrzVr183+0uyf7xsRh5N9q8gKavv+4RVkr981wLnEO+IAACAASURBVIv3nNnxPXsGVWZOOyM1SPeCm346dfL0q4GDgQ8ArwZ2YMOep95vWbiDLAjOcvBIe5g7r/MGYJ8ZUzoOIHv9ZgDPIQsOqfIzGhgJ3EU2R+R35s7r9JssCrSpMEjWs/v27gU3rQV+Dxxw3+zOfYAPAkcBu5G9/3qD3kiy1/Bu4Ergoj1ndjxaYPnSkBEpFfuBaP7119W8gz2OPKrIUurS05Md4ydNmtSsXUazdqTmmTp5+kTghcAEslNTjwH3+3V0Q8OMKR1bAC8i++7jtWSn9u+rDEpRweoIg/26b3bneLLXb0uyXvse4B5PC0sbMxC2DwOhJFUMNgxKqo/XEOa48sorufLKK1tdhiSVjmFQaj4DYY6rrrqKq666qtVlSFKpGAal1qg5EEbE2Ii4OCIWRMTSiPhzRLymyOIkSeVhGJRap54ewlFkE7hOB7Ym+3L4KyJi98aXJUkqE8Og1Fo1TzuTUloGnFm16JqIuB84APh7Y8uSJJWFYVBqvQFfQxgRO5FNp3FHP/e9OyK6IqJr9rXXDqY+SdIwZhiU2sOApp2JiNHAz4H7Ukrv2dS6Q3XamRUrsm9BGj9+fLN26bQzkkrFMCi1j7q/qSQiRgCzgNXA+xteUZtoYhCUpNIxDErtpa5AGBEBXAzsBByXUlpTSFVtYNasWQC87W1va3ElkjS8GAal9lPvNYTfAKYAx6eUVhRQT9uYM2cOc+bMaXUZkjSsGAal9lTPPISTgfcA+wOPRMTTlZ+TC6tOkjRsGAal9lXPtDMLcOCDJGkADINSe/Or6yRJhTIMSu3PQChJKoxhUBoa6p52pixmz57d6hIkaUgzDEpDhz2EkqSGMwxKQ4uBMMe3vvUtvvWtb7W6DEkacgyD0tBjIMxx4403cuONN7a6DEkaUgyD0tBkIJQkNYRhUBq6DISSpEEzDEpDm4FQkjQohkFp6HPamRzjxo1rdQmS1PYMg9LwYCDM8d3vfrfVJUhSWzMMSsOHp4wlSXUzDErDi4Ewx/nnn8/555/f6jIkqe0YBqXhx0CY45ZbbuGWW25pdRmS1FYMg9LwZCCUJNXEMCgNXwZCSdJmGQal4c1AKEnaJMOgNPw57UyObbbZptUlSFLLGQalcjAQ5vjGN77R6hIkqaUMg1J5REqp6H0UvoNhIlpdgCT1MgxK5eI1hDnOPvtszj777FaXIUlNZxiUysdTxjn+9Kc/tboESWo6w6BUTvYQSpIAw6BUZgZCSZJhUCo5TxlLUslNnTz9MuAtOXcbBqUSMBDm2HnnnVtdgiQVburk6ZcDJ+bcbRiUSsJpZ9qH085IairDoKReXkMoSSU0dfL075MfBq/GMCiVij2EOc466ywAzjjjjGbt0h5CSU2xmQEkC4AXdS+4aVUTS5LUYl5DmGPevHmtLkGSGs4wKKk/njKWpJIwDErKU3gP4fzrryt6F4VYsXhxq0uQpIbZTBjsBGYaBqXysodQkoa5GiadPtEwKJWb1xDm2HWnHVtdgiQNmt9AIqkWBsIcp73tba0uQZIGxTAoqVaeMpakYcgwKKke9hDm+PKsWQB8/cijWlyJJNXHMCipXgbCHA88+lirS5CkuhkGJQ2Ep4wlaZgwDEoaKAOhJA0DhkFJg2EglKQhzjAoabC8hjDHXrvt2uoSJGmzDIOSGsFAmOO9J53U6hIkaZMMg5IaxVPGkjQEGQYlNZI9hDm+ePHFAHzLeQgltRnDoKRGMxDmWLR4SatLkKSNGAYlFcFTxpI0RBgGJRXFQChJQ4BhUFKRDISS1OYMg5KK5jWEOfbeY49WlyBJhkFJTWEgzPGuN3S0ugRJJWcYlNQsnjKWpDZkGJTUTPYQ5jjzG/8DwPedh1BSkxkGJTVbXT2EEXFpRDwcEU9FxN0R8a6iCmu1p5Yt46lly1pdhqSSMQxKaoV6Txl/Edg9pbQV8E/A5yPigMaXJUnlYxiU1Cp1BcKU0h0ppVW9Nys/eza8KkkqGcOgpFaqe1BJRFwYEcuBu4CHgTkNr0qSSsQwKKnV6g6EKaX3AhOBQ4EfA6v6rhMR746Irojomn3ttYOvsgVe9uIX87IXv7jVZUga5gyDktpBpJQGvnHE/wB3ppS+lrfO/OuvG/gO2sAezRtlHM3akaT2YBiU1C4GOw/hKLyGUJLqZhiU1E5qnocwInYEDgeuAVYARwIzKz/Dzie+mnV6Xu48hJIazDAoqd3UMzF1Ak4F/oesZ3EB8KGU0tVFFNZqq9asaXUJkoYhw6CkdlRzIEwpLQKmF1iLJA1rhkFJ7crvMpakJjAMSmpnBkJJKphhUFK7q+cawlI5aOpLWl2CpGHAMChpKDAQ5jjx6KNbXYKkIc4wKGmo8JSxJBXAMChpKLGHMMdp534JgJ84D6GkOhkGJQ01BkJJ6uOcjrO2BqYBBwAHkn1/+zrgQeD3QBdwx+mdZ6zru61hUNJQZCCUJOCcjrMCeDnwUeB1wCpgPDCmz6q938604pyOs84DvnV65xmPg2FQ0tBlIJRUeud0nLUz8D3glWQhcAQwLmf1Lav+/TTwqXM6zvr4pX+8MQHn52xjGJTU1hxUIqnUzuk4qwO4G5gBbEF9x8XxwIT169efe+yLDjh/3Ki+nYmAYVDSEGAgzDF92gFMn3ZAq8uQVKBzOs76F+AysmsERw+0nREjRoyZNH4ir33xgUwYPbb6LsOgpCEhUkqF7mD+9dcVu4OC7dG8UcbRrB1JgnM6znoDcClZL19DrF+/nhVrV/OzeX9gzbq1hkFJQ4Y9hDlWrlrNylWrW12GpAKc03HWc4BLaGAYBBgxYgTjRo3msD1esgDDoKQhxEElOT55fnZt+E9e+9oWVyKpkSqjiWeRP2hkUEaOGMlOW267w9tedsQxwLVF7EOSGs0eQkllczBwEIO4ZnBzImICcEElfEpS2zMQSiqb02nwqeIc2wGvasJ+JGnQPGUsqTTO6ThrW+A11Plh+MWv2ofjP/JGALp+9nvmfudXtWy2BfAh4Dd1lilJTWcPoaQyeQWwsp4NttxuIke95zjWrd3oW+o2J4BX17uRJLWCgTDHMYcczDGHHNzqMiQ11jRgQj0bHPfBE3i6Zyl3/27eQPa31TkdZ203kA0lqZkKP2XcxHn8GurUIVq3pE16OXUMJjng+Ffw3Cm7cdm/X8wBx79iIPtbAewL3DSQjSWpWewhzNHT00NPT0+ry5DUWBNrXXH75+3Aq996BL+d/b889vdHB7PPLTe/iiS1loNKcrzvfe8DYPbs2S2uRFID1Xwh4AsPmsLIUSPZbZ/J7Lr389hh950A2OvAF7F29Vp+c+mNtTbl5NSS2p6BUFKZPFzzmhHEiGCPA16wweJtdt6WXV60a82tAI/XvE9JahEDoaQyuQV4AzUMLLnl8pu45fJnL/17zQf+iX0P37+eaWcgm+/wrwMpVJKayWsIJZVJF809hfuP0zvPWNXE/UnSgNhDKKlM/gysH8iGPz//an5+/tX1bLISuGIg+5KkZrOHMMfJJ5/MySef3OoyJDXQ6Z1nrAG+Tp2TUw/ChU3ajyQNij2EOV73ute1ugRJxfgG8JGC97EWuPH0zjMeKHg/ktQQ9hDmeOihh3jooYdaXYakBju984yHgM8BywrczSrg3wpsX5IaykCY4yMf+Qgf+UjRnQiSWuRs4H7qmJewDsuAD53eecbCAtqWpEIYCCWVzumdZ6wDXgv0MMBBJjmWkw0kubiBbUpS4QyEkkrp9M4z/gEcDCwCVjegyWXA5cC/nt55RmpAe5LUNIUPKpl//XVF76IQKxYvBuqrf48jjyqqHEkFOL3zjPvO6TjrJcB3gRnUMGF1P9aSXTP4EeCbhkFJQ5GjjCWV2umdZywCXndOx1lvAr4GbAFsSfa1c5uymux086/JegX/UWihklSgSKnYD7Pzr79uSH5a/t3ttwNw8H771bzNIHsIN/efj6SCndNx1gjgSODDwCHAGLLev2pbAA+RXSv49dM7z1jQ1CIlqQAGwgYyEErDxzkdZwWwC7APWQhcCzwOdJ/eeUaRU9ZIUtMZCHMsfOQRAHbbeeeatzEQSpKkochRxjnOu/Qyzrv0slaXIUmSVDgDoSRJUskZCCVJkkrOQChJklRyBkJJkqSSc2LqHCcfd1yrS5AkSWoKA2GOA/ae0uoSJEmSmsJTxjnuXbiQexcubHUZkiRJhTMQ5rjw8iu48PIrWl2GJElS4QyEkiRJJWcglCRJKjkDoSRJUskZCCVJkkrOaWdyvLPjhFaXIEmS1BQGwhz77Llnq0uQJElqCk8Z57jjvvu44777Wl2GJElS4QyEOS7u/AkXd/6k1WVIkiQVbkCBMCJeEBErI+LSRhckSZKk5hpoD+EFwK2NLESSJEmtUXcgjIg3A0uAGxpfjiRJkpqtrkAYEVsBZwGnbWa9d0dEV0R0zb722sHUJ0mSpILVO+3M54CLU0oPRETuSimlbwLfBJh//XVp4OW1zntPOrHVJUiSJDVFzYEwIvYHjgReWlw57WOv3XZrdQmSJElNUU8P4WHA7sA/Kr2DWwIjI2LvlNLLGl9aa9125zwADth7SosrkSRJKlY9gfCbwA+rbn+ULCCe2siC2sVlc+YABkJJkjT81RwIU0rLgeW9tyPiaWBlSmlREYVJkiSpOQb8XcYppTMbWIckSZJaxK+ukyRJKjkDoSRJUskN+JTxcPfht57c6hIkSZKawkCYY7edd251CZIkSU3hKeMcv7v9dn53++2tLkOSJKlw9hDm+NF11wNw8H77tbgSSZKkYtlDKEmSVHIGQkmSpJIzEEqSJJWcgVCSJKnkHFSS4+P/ckqrS5AkSWoKA2GOHSdNanUJkiRJTeEp4xxzb72Vubfe2uoyJEmSCmcPYY6f3fRrAGYceGCLK5EkSSqWPYSSJEklZyCUJEkqOQOhJElSyRkIJUmSSs5BJTk+8573tLoESZKkpoiUUtH7KHwHw0S0ugBJklROnjLOceWVV3LllVe2ugxJkqTCGQhzXHXVVVx11VWtLkOSJKlwBkJJkqSSMxBKkiSVnIFQkiSp5AyEkiRJJee0MzlWrFgBwPjx45u1S6edkSRJLWEgbB8GQkmS1BKeMs4xa9YsZs2a1eoyJEmSCmcgzDFnzhzmzJnT6jIkSZIKZyCUJEkqOQOhJElSyRkIJUmSSs5AKEmSVHKFTzsTEe9OKX2z0J0UpMjah/LzIkmShpdm9BC+uwn7KEqRtQ/l50WSJA0jnjKWJEkqOQOhJElSyTUjEA7l6+SKrH0oPy+SJGkYacZ3GUuSJKmNecpYkiSp5AyEkiRJJTeoQBgRx0bE3yLi3oj4eD/3j42Iyyv3/yEidq+67xOV5X+LiGMGU8cA6v5ORDwWEX/Nuf/kiOiOiL9ExC0RsV/VfR+OiDsi4q8RMTsixtXZ9rYR0Vlp//8iYt+q+zb5fEqSJBVhwIEwIkYCFwCvAfYGZkbE3n1WeyewOKW0F3Ae8N+VbfcG3gzsAxwLXFhpr1kuqew3z/3A9JTSS4DPURkAEhHPBT4ITEsp7QuMJHsc9bT9SeDPKaWpwNuBr1baruX5lCRJarjB9BC+HLg3pTQ/pbQa+CHw+j7rvB74XuX3K4EjIiIqy3+YUlqVUrofuLfSXlOklH4N9Gzi/ltSSosrN38P7Fp19yhgfESMAiYAD9XTNlnYu7Gy7l3A7hGxE7U9n5IkSQ03mED4XGBh1e0HKsv6XSeltBZ4Etiuxm3bxTuBnwOklB4EzgX+ATwMPJlS+lWd7d0OvAEgIl4OTCYLnEPpOZEkScOIg0o2ISJmkAXCj1Vub0vWa/d8YBdgi4h4a53N/hewTUT8GfgA8CdgXcOKliRJqtOoQWz7ILBb1e1dK8v6W+eByinWrYEnaty2pSJiKvBt4DUppScqi48E7k8pLaqs82PgEODSWttNKT0FnFLZPsiuV5wPjKfNnxNJkjQ8DaaH8FbgBRHx/IgYQza44uo+61wNvKPy+z8DN6ZsJuyrgTdXRiE/H3gB8H+DqKWhIuJ5wI+Bt6WU7q666x/AQRExoRLmjgDm1dn2NpXnC+BdwK8rIbGW51OSJKnhBtxDmFJaGxHvB35JNtr2OymlOyLiLKArpXQ1cDEwKyLuJRto8ebKtndExBXAncBa4H0ppaadNo2I2cBhwPYR8QDwGWB0pbb/Ac4gu9bxwiz3sTalNC2l9IeIuBL4Y6XuP9HnK+hqaHsK8L2ISMAdZKekc5/Pop4DSZKkXn51nSRJUsk5qESSJKnkDISSJEklZyCUJEkqOQOhJElSyRkIJUmSSs5AKEmSVHIGQkmSpJIzEEqSJJWcgVCSJKnkDISSJEklZyCUJEkqOQOhJElSyRkIJUmSSs5AKEmSVHIGQkmSpJIzEEqSJJWcgVCSJKnkDITKFRF7R0RXRMQAtv1ARPz3Ju7fPSJSRDwdEe8eXKXlFhGfjYhlledzVKvrkdQ+PI4PDRHxzsrzmCJir1bUULpAGBF/j4gj+yz7fxFxc6tqKkJEnBkRlw6ymc8B56aUUqXNr0TE4oj4XUTsWrWvt0TE1/ps+y3g5IjYcTP72Cal9M0+tT8/ItZHxDcGWX/hIuLDEfFIRDwVEd+JiLGbWPeIiLgrIpZHxNyImNzPOpMiYlH132NEnFw5UPT+LK8cNA4ASCl9BtinkAcoDUDlmNBV+Xt9OCJ+HhGvqtx3ZuXv98Sq9UdVlu1eteyQiLgxIpZGxJMR8bOI2LtyX/V7YkXlePHMe6TZj7coHseLFxH7RsQvI+LxiEg1rL9/RNxWOQ7fFhH7V9338z7H6tUR8Zd+2phe+Xv/fO+ylNLFKaUtG/fI6le6QFi0iBjZ53ZdPTa1rN+MXqCIeA4wA/hJ5fbLgQOAnYGbgY9Xlm8NnA58qnr7lNJK4OfA2wew+7cDi4GTNhWwWi0ijiF7Ho4AJgN7AJ/NWXd74MfAp4FJQBdweT+r/jcwr3pBSumylNKWvT/Ae4H5wB8b9FCkhomI04CvAP8J7AQ8D7gQeH3Vaj3AZ/seL6vaOBj4FfBTYBfg+cDtwG8jYo/q9wTwGuChPu+RwT4Gj+OU4zgOrAGuAN65uRUjYgzZ3+SlwLbA94CfVpaTUnpNn7/DW4Af9WljNPBV4A8NfRQNYCCsQUS8OCKui4ieiPhbn0+2l0TENyJiTkQsA2ZE1gv5sYjoBpZVPv3+U0TcERFLIuJ/I2JKVRsbrd9PDSki3hcR9wD3VJZ9NSIWRtY7dVtEHFpZfizwSbI34tMRcXtl+dYRcXHlE/uDEfH5vAMycBTwx8oBAbID8s0ppVXADWThB+ALwDkppaf6aeN/gdfW9CQ/+ziD7EDyKbI36vGV5SdFRFefdT8cEVdXft+u0oPwVETcWnlsRff6vgO4OKV0R0ppMdkn8f+Xs+4bgDtSSj+qPKdnAvtFxIt7V4iIQ4B9ge/WsN/v937il9pFJVicBbwvpfTjlNKylNKalNLPUkqnV636C2A18Nacps4m+xv/akppaUqpJ6X0KeD3ZO+dgdTmcdzj+EZSSn9LKV0M3FHD6ocBo4CvpJRWpZS+BgRweN8VI+vtPhT4fp+7PkL2YeeugVddDAPhZkTEFsB1wA+AHYE3AxdG5dRFxVvI3lATyT51AcwkexNtQ/ammw18CNgBmAP8rPdTRd/1U0prc8o5AXgF0LvvW4H9yXqcfgD8KCLGpZR+Qfbp/PLKJ5X9KutfAqwF9gJeChwNvCtnXy8B/lZ1+w7g0IgYT9YjdkdETANelFL6QU4b84D9cu7L8ypgV+CHZJ/a3lFZ/jPgRRHxgqp130L2uAEuAJaRffJ9R9V2mxURr6oc4PN+XpWz6T5kvRa9bgd2iojtNrduSmkZcF9leW+PxNeB9wO5QS+y08yvZuODjNQODgbGAZ2bWS+R9ZZ/ptJj8oyImAAcQp+elYoryEJOXTyOP8Pj+ODsA3T3+TDeTf+X7Lwd+E1K6e9VNU4G/oXsQ1PbKWsg/En1HwrZ6Yw8rwP+nlL6bkppbUrpT8BVwJuq1vlpSum3KaX1VZ/EvpZSWphSWgGcBFybUroupbQGOBcYT3bQo5/183yx8kl5BUBK6dKU0hOVur4EjAVe1N+GEbETcBzwocqn9seA88gOjP3ZBljaeyOl9NfK4/492Smgs4GvAR+MiA9GxK8j4rKI2KaqjaXA1pt4PP15B/DzSo/bD4BjI2LHlNJysq76mZXH8wLgxcDVlTD1RuAzKaXlKaU7ybrya5JSujmltM0mfvI+oW4JPFl1u/f3iTWs27t+77ofBP6QUrptM+X2HmTu38x6UitsBzy+iTD0jJTS1cAiNg4zk8j+b3q4n80eBrYfQF0ex/E4Xudj6M/mjuPV3k4W3qt9Dfh0Sqktr3MtayA8ofoPheyarDyTgVf0CZAnk32C6bWwn+2ql+0CLOi9kVJaX7n/uZtpY1NtEhEfjYh5kV1wvYTsTZt3sJwMjAYernocF5F9Wu7PYvr8kaeUzksp7ZdSOgk4Efg12d/Qu8k+bc6jck1KxUQ2fvPkqnxqfRNwWWV/vwP+QfYJErIDy8zK728BflI5wOxA1o1f/fzU8nwO1tPAVlW3e39fWsO6vesvjYhdyALhf9Swz7dTx0FSarIngO37O12a41Nkf/fjqpYtBtYDz+ln/ecAjw+gLo/jz9btcXzgco/j1QsqvZE7A1dWLTsemJhS6u/a8bZQ1kBYj4XATX0+aWyZUjq1ap3+TvFVL3uI7I0MPHN9xW7Ag5tpI7fNynUm/072ht62EmyfJLueob/2FgKrgO2rHsdWKaW80andwAv7u6PyKfXdZN3e+5J1oa8hO/UxtWrVKWx4SnVzOsjeXBdGNnL3EbKDbe9pg+uAHSIb1TWTZ08zLCI7hbJrVVu71brTiDg0NhwZ1vfn0JxN72DDUyn7AY+mlJ7Y3LqVU1h7Vpa/nOw/ujsrj/mrwMsrz8HIqm1eSfaf0pVI7el3ZMeZE2pZOaV0HXAvVR/KK5dT/I4Ne+96nUh27Vu9PI734XF8QO4AplZe+15T2fj6w3cAP+7TE3gEMK3qOTkJ+FBE/LQBdTWEgXDzrgFeGBFvi4jRlZ8Do+pi4hpcAbw2smlHRpNdVLqKbATSQE0ke/MsAkZFxBls+MnlUWD3iBgBkFJ6mOxC1i9FxFYRMSIi9oyI6TntXwe8LCLG9XPfl4EzK5/q7gcOjIgtyS64nV+13nSyEWq1egfwHbLrXvav/LySbPDFSyoHqx8B55CdVrqu8tjWkY3gPTMiJkQ2UKPmUXEppd+kqpFh/fz8JmfT7wPvjGyer23IejsuyVm3E9g3It5YeU7PIDsA30X2HO1e9ZjPAP4E7F95bNXPz1Uppf56IKWWSyk9Sfb3e0FEnFB5P46OiNdExNk5m/0HWSiq9nHgHZXTmBMjYtvIpug4mJyR/JvhcXxjHsfJgn3l+RlTuT0u8kdF/y+wjuwU+9iIeH9l+Y1V7Y0nC/iX9Nn202ThvPc5uZpsWp9Tan2MRTMQbkblP9+jya7ReAh4hGxqkJqH0aeU/kY2mu58stMdxwPHp5RWD6K0X5KN1Lub7DTGSjbsXu+9IPuJiOidnuTtZH/0d5KdSriS/k/LkFJ6lOyPvHqqCCLicLILpjsr6/0fcG1l3zOA/6qsN47sWpeaTm9GxHPJPkF9JaX0SNXPbZXH2fvp8gfAkcCP+lyn9H6yUy2PALPILv5eVdX+HRFxci211CplF32fDcwlOyWyAPhMf/tMKS0iuz7mC2TP/SuoXPeTstFqzzxmsh6CNZXfe9saR3aQ8XSx2lrlOrjTyD4gLSI7NryfytQn/az/W+D/+iy7GTiGbHT+w2TvrZcCr0op3TOAmjyOV/E4voHJwAqe7eVbQdVAnMjmFvwkQOW1PoHsNVhCNkDkhD5/AydU7ptbvZOUjZavPs6vAJallHoa/HgGLJIzVyhHZCPwvge8PNX5hxIRHwB2Syn1/eTfe/9ksjfdSuD0lNK3Bltvn/b/G9g5pVTzKLWhKiI+Q/Yf8Fhgiz69ipJKzOP40BARp5ANEBoH7J1Smr+ZTRpfg4FQw0Hl9MIY4C/AgWRTQrwrpdRvr4Qkqb14HG8tv/dUw8VEstMLu5Bdd/MlsukNJElDg8fxFrKHUJIkqeQcVCJJklRyBkJJkqSSK/wawonjJ6V169fw7DybVb9FP8uqbsVGd0aN62285kZbRP/77btV9Nd431uRt7fKermPs/+a+lsv+i944/Yi+l0eOQVGzk43bnfjVzDnqenz3Gy4ZOP78vfXT4Ub3Je/TT9b5d3MKSg2uq/vapH7WDZYnNdQf/XU9IT2//7pf92qx7PxH1SN+8p7smupIfvl9jvn/TKldGxOC2qyVhyTiz4eb7TEY3J+TR6T+7/TY3LxgXDd+jW84DkHEDGCEb1/tBGMiBHEM2+U7Paz9/UuH9Hndt56G7YHMCLimSduU+tWrzciop9189qIDdvY4D422OaZ9ei7zYa1buq+Z+ugxjaeXS+r49maItjgsWzQRp/99N2uer3IvW/D5dVt9vc4en/vr72N6u273YjNt0HfxzVi0/vq/Z0RG9fY+zsRG+27+j6o2k+/9T57NI/e+kb0uZ29QM9sQ5/nkxF91quqiU22EZBTx4bLI2df/eyn6jFXPYkAbLffgQP57lkVpBXH5CKPx9X3eUzOu2/D5R6TPSbTD08ZS5IklZyBUJIkqeQMhJIkSSVnIJQkSSo5A6EkSVLJGQglSZJKzkAoSZJUcgZCSZKkkjMQSpIklZyBUJIkqeQMhJIkSSVnIJQkSSo5A6EkSVLJGQglSZJKzkAoSZJUcgZCSZKkkouUUrE7iPgFsP1mVtseeLzQQtqLj3d48/Fu6PGU0rHNKkabVuMxuVfZ/pbz+DxkfB4yQ/156PeYXHggrEVEdKWUprW6RCf9ugAABxtJREFUjmbx8Q5vPl4NF762GZ+HjM9D5v9v7+5i5CrrOI5/f9mhUtC2xGoCLXUXgi+oILWFqgUxTQz0ptT0AsOLGLzAxkZBYtELrWi8MIqGGNsgIvKOLlU3sQYvULmAri+FvmuzFAKLq5SKYEXFtT8vnqdmLLvdszNz5szO/D/JpOfMec7J//88Z3b+55xnt93aD/HIOIQQQgihx0VBGEIIIYTQ4zqlILyl6gDaLPLtbpFv6BYxtkn0QxL9kHRlP3TEHMIQQgghhFCdTrlDGEIIIYQQKlJKQSjpIkl/kDQi6YYJtr9G0v15+7Ck/vz+uZIez6/tklbX7TNP0qCk30vaK+k9ZcTeiEbzrdu+SNIhSdfn9VMl/ULSHkm7JX2yPZkU0+p883vX5lx3SbpX0vHlZzK1Js7lfkn/qDufN02w75CkXeVnUVwzYyvpLEmP5nHceWQMJb07r49IulmS2pdRmEqBMV+Ufx49JmmHpJVVxFk2SbdJem6yz6SSm3M/7ZC0uN0xtkOBfrgs579T0iOSzm53jO0yVV/UtVsqaVzSmnbFVgrbLX0BfcATwGnALGA7cOZRbdYCm/LypcD9efkEoJaXTwaeq1v/PvCxvDwLmNfq2Nudb932QeCHwPV1uS/Oy68D9h19zC7LdwHwJDA7r/8AuGom5wr0A7uOcewPAfccq80My7cG7ADOzuuvB/ry8q+BZYCAnwEXV51rvKY15rcAH8/LZwJPVR13SX1xAbB4ss8ksDKfv8rn83DVMVfUD+8FTsrLF3drPxTpi9ymD3gI2AKsqTrmZl5l3CE8Fxixvd/2K8B9wKqj2qwiFXiQioMVkmT7Zdvj+f3jAQNImpsH5rsAtl+x/dcSYm9Ew/kCSLqEVAztPtLY9pjtbXn5b8BeUtHUCVqeb1YDZkuqkS4M/lhS/NPRVK6TkfRa4Drgyy2Ot1nN5PtBYIft7QC2D9r+j6STgTm2tzr99LwDuKQdyYRCioy5gTl5eS6d8dlsOdsPA385RpNVwB1OtgLz8vndVabqB9uP2H4hr24FFrYlsAoUOCcA1gEPkG5gzWhlFIQLgGfq1kd5dTHzvza5AHyRdEcBSedJ2g3sBK7J2weAA8D38mOLWyWdWELsjWg431wYrAe+ONnB8yO5c4DhlkXcnJbna/tZ4GvA08AY8KLtn5cS/fQ0dS4DA/l8/ZWk8+v2+RLwdeDlUqJuXDP5vhmwpAclbZP0mbr2o1McM1SnyJhvAC6XNEq6C7KuPaF1nCJ91WuuJt017UmSFgCrgY1Vx9IKHfdLJbaHbb8dWAp8Ns9DqpFu2260fQ7wd+BVc11moA3AN2wfmmhjLqAeAD5l+6V2BlaSDUyQr6STSFffA8ApwImSLm9/eC01BizK5+t1wD2S5kh6F3C67R9VG17L1YDlwGX539WSVlQbUmiRDwO3215Iemx6p6SO++4I7SXpA6SCcH3VsVTom8B624erDqQVaiUc81ng1Lr1hfm9idqM5keEc4GD9Q1s75V0CHgH6Ups1PaRu2SDdE5B2Ey+5wFrJH0VmAcclvRP29+SdBypGLzb9uayk5iGlucL/Bl40vYBAEmbSfNU7iozkQIazjU/Hv0XgO3fSXqCdBdtKbBE0lOkz98bJf3S9oVlJlJQM2M7Cjxs+3kASVtIF3F38f+PlCY6ZqhOkTG/GrgIwPaj+SJ9Pl3wiGyaivRVT5B0FnAraT7wwanad7ElwH15ltB8YKWkcds/rjasxpRxlfcb4AxJA5JmkSaeDx3VZgj4SF5eAzxk23mfGoCkNwFvJU1g/hPwjKS35H1WAHtKiL0RDedr+3zb/bb7SVcaX8nFoEjzJffavqk9aRTW8nxJj4qXSToh576CNG+yas2cy2+Q1Acg6TTgDGC/7Y22T8l9sBzY1yHFIDSRL/Ag8M48hjXg/cAe22PAS5KW5bG9EvhJO5IJhRQZ86dJn0kkvY00v/tAW6PsDEPAlfm3jZeRpraMVR1Uu0laBGwGrrC9r+p4qmR7oO47bRBYO1OLQSjhDqHtcUmfIH1B9AG32d4t6Ubgt7aHSMXOnZJGSBM2L827LwdukPRv4DCpc5/P29YBd+cfWvuBj7Y69kY0me9k3gdcAeyU9Hh+73O2t5STRXFl5Gt7WNIgsA0YBx6jA/4SfJO5XgDcWHcuX2N7qsnJlWomX9svSLqJVGAY2GL7p/nQa4Hbgdmk+UY9O+eo0xQc808D35F0LWlsr8oXAV1F0r3AhcD8PF/yC8BxALY3keZPrgRGSPN/O+I7qNUK9MPnSfOGv53vjI3bXlJNtOUq0BddJf6nkhBCCCGEHhcTg0MIIYQQelwUhCGEEEIIPS4KwhBCCCGEHhcFYQghhBBCj4uCMIQQQgihx0VBGEIIIYTQ46IgDCGEEELocVEQhhBCCCH0uP8CNV3T6+IDcBUAAAAASUVORK5CYII=\n",
        "metadata": {
         "tags": []
        },
        "output_type": "display_data",
        "text/plain": "<Figure size 792x648 with 5 Axes>"
       }
      ]
     }
    },
    "7048cb3f7ed54e5584bb5e341fc22fd4": {
     "model_module": "@jupyter-widgets/base",
     "model_name": "LayoutModel",
     "state": {
      "_model_module": "@jupyter-widgets/base",
      "_model_module_version": "1.2.0",
      "_model_name": "LayoutModel",
      "_view_count": null,
      "_view_module": "@jupyter-widgets/base",
      "_view_module_version": "1.2.0",
      "_view_name": "LayoutView",
      "align_content": null,
      "align_items": null,
      "align_self": null,
      "border": null,
      "bottom": null,
      "display": null,
      "flex": null,
      "flex_flow": null,
      "grid_area": null,
      "grid_auto_columns": null,
      "grid_auto_flow": null,
      "grid_auto_rows": null,
      "grid_column": null,
      "grid_gap": "0px 0px",
      "grid_row": null,
      "grid_template_areas": "\n                               \"left right right right\"\n                               \"bottom bottom bottom bottom\"\n                               ",
      "grid_template_columns": "31% 23% 23% 23%",
      "grid_template_rows": "auto auto",
      "height": null,
      "justify_content": null,
      "justify_items": null,
      "left": null,
      "margin": null,
      "max_height": null,
      "max_width": null,
      "min_height": null,
      "min_width": null,
      "object_fit": null,
      "object_position": null,
      "order": null,
      "overflow": null,
      "overflow_x": null,
      "overflow_y": null,
      "padding": null,
      "right": null,
      "top": null,
      "visibility": null,
      "width": null
     }
    },
    "725754b2beb642f9a977ae27d93209e6": {
     "model_module": "@jupyter-widgets/base",
     "model_name": "LayoutModel",
     "state": {
      "_model_module": "@jupyter-widgets/base",
      "_model_module_version": "1.2.0",
      "_model_name": "LayoutModel",
      "_view_count": null,
      "_view_module": "@jupyter-widgets/base",
      "_view_module_version": "1.2.0",
      "_view_name": "LayoutView",
      "align_content": null,
      "align_items": "center",
      "align_self": null,
      "border": null,
      "bottom": null,
      "display": "flex-inline",
      "flex": null,
      "flex_flow": null,
      "grid_area": "right",
      "grid_auto_columns": null,
      "grid_auto_flow": null,
      "grid_auto_rows": null,
      "grid_column": null,
      "grid_gap": null,
      "grid_row": null,
      "grid_template_areas": null,
      "grid_template_columns": null,
      "grid_template_rows": null,
      "height": null,
      "justify_content": null,
      "justify_items": null,
      "left": null,
      "margin": null,
      "max_height": "325px",
      "max_width": null,
      "min_height": null,
      "min_width": null,
      "object_fit": null,
      "object_position": null,
      "order": null,
      "overflow": null,
      "overflow_x": null,
      "overflow_y": null,
      "padding": "10px 10px 10px 10px",
      "right": null,
      "top": null,
      "visibility": null,
      "width": "auto"
     }
    },
    "75369fd05ace4006aeb3b6ffabc801d9": {
     "model_module": "@jupyter-widgets/base",
     "model_name": "LayoutModel",
     "state": {
      "_model_module": "@jupyter-widgets/base",
      "_model_module_version": "1.2.0",
      "_model_name": "LayoutModel",
      "_view_count": null,
      "_view_module": "@jupyter-widgets/base",
      "_view_module_version": "1.2.0",
      "_view_name": "LayoutView",
      "align_content": null,
      "align_items": null,
      "align_self": null,
      "border": null,
      "bottom": null,
      "display": null,
      "flex": null,
      "flex_flow": null,
      "grid_area": null,
      "grid_auto_columns": null,
      "grid_auto_flow": null,
      "grid_auto_rows": null,
      "grid_column": null,
      "grid_gap": null,
      "grid_row": null,
      "grid_template_areas": null,
      "grid_template_columns": null,
      "grid_template_rows": null,
      "height": null,
      "justify_content": null,
      "justify_items": null,
      "left": null,
      "margin": null,
      "max_height": null,
      "max_width": null,
      "min_height": null,
      "min_width": null,
      "object_fit": null,
      "object_position": null,
      "order": null,
      "overflow": null,
      "overflow_x": null,
      "overflow_y": null,
      "padding": null,
      "right": null,
      "top": null,
      "visibility": null,
      "width": null
     }
    },
    "78f6e038f26c4c608aed9d3866996dea": {
     "model_module": "@jupyter-widgets/controls",
     "model_name": "DescriptionStyleModel",
     "state": {
      "_model_module": "@jupyter-widgets/controls",
      "_model_module_version": "1.5.0",
      "_model_name": "DescriptionStyleModel",
      "_view_count": null,
      "_view_module": "@jupyter-widgets/base",
      "_view_module_version": "1.2.0",
      "_view_name": "StyleView",
      "description_width": ""
     }
    },
    "7d714f274cd14ef6a288a985629213ec": {
     "model_module": "@jupyter-widgets/base",
     "model_name": "LayoutModel",
     "state": {
      "_model_module": "@jupyter-widgets/base",
      "_model_module_version": "1.2.0",
      "_model_name": "LayoutModel",
      "_view_count": null,
      "_view_module": "@jupyter-widgets/base",
      "_view_module_version": "1.2.0",
      "_view_name": "LayoutView",
      "align_content": null,
      "align_items": null,
      "align_self": null,
      "border": null,
      "bottom": null,
      "display": null,
      "flex": null,
      "flex_flow": null,
      "grid_area": null,
      "grid_auto_columns": null,
      "grid_auto_flow": null,
      "grid_auto_rows": null,
      "grid_column": null,
      "grid_gap": null,
      "grid_row": null,
      "grid_template_areas": null,
      "grid_template_columns": null,
      "grid_template_rows": null,
      "height": null,
      "justify_content": null,
      "justify_items": null,
      "left": null,
      "margin": null,
      "max_height": null,
      "max_width": null,
      "min_height": null,
      "min_width": null,
      "object_fit": null,
      "object_position": null,
      "order": null,
      "overflow": null,
      "overflow_x": null,
      "overflow_y": "scroll",
      "padding": null,
      "right": null,
      "top": null,
      "visibility": null,
      "width": null
     }
    },
    "8190121b20fc4566aed084e7db6c18bf": {
     "model_module": "@jupyter-widgets/controls",
     "model_name": "HTMLModel",
     "state": {
      "_dom_classes": [],
      "_model_module": "@jupyter-widgets/controls",
      "_model_module_version": "1.5.0",
      "_model_name": "HTMLModel",
      "_view_count": null,
      "_view_module": "@jupyter-widgets/controls",
      "_view_module_version": "1.5.0",
      "_view_name": "HTMLView",
      "description": "",
      "description_tooltip": null,
      "layout": "IPY_MODEL_44d3e785cecc4631936ade6026f9f69e",
      "placeholder": "​",
      "style": "IPY_MODEL_26e32803d7274668b91b06ef7e6816da",
      "value": "<table><style>\ntable {\n    border-collapse: collapse;\n    width: auto;\n}\n\nth, td {\n    text-align: left;\n    padding: 8px;\n}\n\ntr:nth-child(even) {background-color: #f6f6f6;};\n</style><tr><th></th><th>Type</th><th>Gate error</th></tr><tr><td><font style='font-weight:bold'>cx3_2</font></td><td>cx</td><td>1</td></tr><tr><td><font style='font-weight:bold'>cx3_4</font></td><td>cx</td><td>1</td></tr><tr><td><font style='font-weight:bold'>cx4_2</font></td><td>cx</td><td>1</td></tr><tr><td><font style='font-weight:bold'>cx4_3</font></td><td>cx</td><td>1</td></tr></table>"
     }
    },
    "85e2807655cc4a26bf2c45e41f62d8ea": {
     "model_module": "@jupyter-widgets/base",
     "model_name": "LayoutModel",
     "state": {
      "_model_module": "@jupyter-widgets/base",
      "_model_module_version": "1.2.0",
      "_model_name": "LayoutModel",
      "_view_count": null,
      "_view_module": "@jupyter-widgets/base",
      "_view_module_version": "1.2.0",
      "_view_name": "LayoutView",
      "align_content": null,
      "align_items": null,
      "align_self": null,
      "border": null,
      "bottom": null,
      "display": null,
      "flex": null,
      "flex_flow": null,
      "grid_area": "top",
      "grid_auto_columns": null,
      "grid_auto_flow": null,
      "grid_auto_rows": null,
      "grid_column": null,
      "grid_gap": null,
      "grid_row": null,
      "grid_template_areas": null,
      "grid_template_columns": null,
      "grid_template_rows": null,
      "height": null,
      "justify_content": null,
      "justify_items": null,
      "left": null,
      "margin": null,
      "max_height": null,
      "max_width": null,
      "min_height": null,
      "min_width": null,
      "object_fit": null,
      "object_position": null,
      "order": null,
      "overflow": null,
      "overflow_x": null,
      "overflow_y": null,
      "padding": null,
      "right": null,
      "top": null,
      "visibility": null,
      "width": null
     }
    },
    "8ad0752833644a95a4e01eb62ad2fb9b": {
     "model_module": "@jupyter-widgets/base",
     "model_name": "LayoutModel",
     "state": {
      "_model_module": "@jupyter-widgets/base",
      "_model_module_version": "1.2.0",
      "_model_name": "LayoutModel",
      "_view_count": null,
      "_view_module": "@jupyter-widgets/base",
      "_view_module_version": "1.2.0",
      "_view_name": "LayoutView",
      "align_content": null,
      "align_items": null,
      "align_self": null,
      "border": null,
      "bottom": null,
      "display": null,
      "flex": null,
      "flex_flow": null,
      "grid_area": "left",
      "grid_auto_columns": null,
      "grid_auto_flow": null,
      "grid_auto_rows": null,
      "grid_column": null,
      "grid_gap": null,
      "grid_row": null,
      "grid_template_areas": null,
      "grid_template_columns": null,
      "grid_template_rows": null,
      "height": null,
      "justify_content": null,
      "justify_items": null,
      "left": null,
      "margin": null,
      "max_height": null,
      "max_width": null,
      "min_height": null,
      "min_width": null,
      "object_fit": null,
      "object_position": null,
      "order": null,
      "overflow": null,
      "overflow_x": null,
      "overflow_y": null,
      "padding": null,
      "right": null,
      "top": null,
      "visibility": null,
      "width": null
     }
    },
    "8bd65c102d4a4b1a9ed8d5df19be3015": {
     "model_module": "@jupyter-widgets/base",
     "model_name": "LayoutModel",
     "state": {
      "_model_module": "@jupyter-widgets/base",
      "_model_module_version": "1.2.0",
      "_model_name": "LayoutModel",
      "_view_count": null,
      "_view_module": "@jupyter-widgets/base",
      "_view_module_version": "1.2.0",
      "_view_name": "LayoutView",
      "align_content": null,
      "align_items": "center",
      "align_self": null,
      "border": null,
      "bottom": null,
      "display": "flex-inline",
      "flex": null,
      "flex_flow": null,
      "grid_area": null,
      "grid_auto_columns": null,
      "grid_auto_flow": null,
      "grid_auto_rows": null,
      "grid_column": null,
      "grid_gap": null,
      "grid_row": null,
      "grid_template_areas": null,
      "grid_template_columns": null,
      "grid_template_rows": null,
      "height": null,
      "justify_content": null,
      "justify_items": null,
      "left": null,
      "margin": null,
      "max_height": null,
      "max_width": null,
      "min_height": null,
      "min_width": null,
      "object_fit": null,
      "object_position": null,
      "order": null,
      "overflow": null,
      "overflow_x": null,
      "overflow_y": null,
      "padding": null,
      "right": null,
      "top": null,
      "visibility": null,
      "width": null
     }
    },
    "8d91e929ede841a2a192592218db2d8a": {
     "model_module": "@jupyter-widgets/controls",
     "model_name": "HTMLModel",
     "state": {
      "_dom_classes": [],
      "_model_module": "@jupyter-widgets/controls",
      "_model_module_version": "1.5.0",
      "_model_name": "HTMLModel",
      "_view_count": null,
      "_view_module": "@jupyter-widgets/controls",
      "_view_module_version": "1.5.0",
      "_view_name": "HTMLView",
      "description": "",
      "description_tooltip": null,
      "layout": "IPY_MODEL_8ad0752833644a95a4e01eb62ad2fb9b",
      "placeholder": "​",
      "style": "IPY_MODEL_b2873635db2946e998f16f3402085f24",
      "value": "<table><style>\ntable {\n    border-collapse: collapse;\n    width: auto;\n}\n\nth, td {\n    text-align: left;\n    padding: 8px;\n}\n\ntr:nth-child(even) {background-color: #f6f6f6;};\n</style><tr><th></th><th>Type</th><th>Gate error</th></tr><tr><td><font style='font-weight:bold'>cx0_1</font></td><td>cx</td><td>0.01156</td></tr><tr><td><font style='font-weight:bold'>cx1_0</font></td><td>cx</td><td>0.01156</td></tr><tr><td><font style='font-weight:bold'>cx1_2</font></td><td>cx</td><td>0.0083</td></tr></table>"
     }
    },
    "900093837b3a42ae815500d08b0a3a25": {
     "model_module": "@jupyter-widgets/controls",
     "model_name": "GridBoxModel",
     "state": {
      "_dom_classes": [],
      "_model_module": "@jupyter-widgets/controls",
      "_model_module_version": "1.5.0",
      "_model_name": "GridBoxModel",
      "_view_count": null,
      "_view_module": "@jupyter-widgets/controls",
      "_view_module_version": "1.5.0",
      "_view_name": "GridBoxView",
      "box_style": "",
      "children": [
       "IPY_MODEL_6fdecdb39dd84e70b1177ffa2c0b39cc",
       "IPY_MODEL_b9180a3a20af47e68156cdb5f5359ad3",
       "IPY_MODEL_4a61e89a6dfb401e9347be2993d0d269"
      ],
      "layout": "IPY_MODEL_7048cb3f7ed54e5584bb5e341fc22fd4"
     }
    },
    "92c625974b364381b61bab0ae9b880eb": {
     "model_module": "@jupyter-widgets/controls",
     "model_name": "DescriptionStyleModel",
     "state": {
      "_model_module": "@jupyter-widgets/controls",
      "_model_module_version": "1.5.0",
      "_model_name": "DescriptionStyleModel",
      "_view_count": null,
      "_view_module": "@jupyter-widgets/base",
      "_view_module_version": "1.2.0",
      "_view_name": "StyleView",
      "description_width": ""
     }
    },
    "95d98d7a62664527ba87921f5e82c8a4": {
     "model_module": "@jupyter-widgets/controls",
     "model_name": "DescriptionStyleModel",
     "state": {
      "_model_module": "@jupyter-widgets/controls",
      "_model_module_version": "1.5.0",
      "_model_name": "DescriptionStyleModel",
      "_view_count": null,
      "_view_module": "@jupyter-widgets/base",
      "_view_module_version": "1.2.0",
      "_view_name": "StyleView",
      "description_width": ""
     }
    },
    "990c002abbc44bd4b25291dfe415f3a3": {
     "model_module": "@jupyter-widgets/controls",
     "model_name": "DescriptionStyleModel",
     "state": {
      "_model_module": "@jupyter-widgets/controls",
      "_model_module_version": "1.5.0",
      "_model_name": "DescriptionStyleModel",
      "_view_count": null,
      "_view_module": "@jupyter-widgets/base",
      "_view_module_version": "1.2.0",
      "_view_name": "StyleView",
      "description_width": ""
     }
    },
    "9bb21e63d8bf478cbf4fd8b3f26e083f": {
     "model_module": "@jupyter-widgets/controls",
     "model_name": "DescriptionStyleModel",
     "state": {
      "_model_module": "@jupyter-widgets/controls",
      "_model_module_version": "1.5.0",
      "_model_name": "DescriptionStyleModel",
      "_view_count": null,
      "_view_module": "@jupyter-widgets/base",
      "_view_module_version": "1.2.0",
      "_view_name": "StyleView",
      "description_width": ""
     }
    },
    "9d6e8644250e43348a2fd9094946f353": {
     "model_module": "@jupyter-widgets/base",
     "model_name": "LayoutModel",
     "state": {
      "_model_module": "@jupyter-widgets/base",
      "_model_module_version": "1.2.0",
      "_model_name": "LayoutModel",
      "_view_count": null,
      "_view_module": "@jupyter-widgets/base",
      "_view_module_version": "1.2.0",
      "_view_name": "LayoutView",
      "align_content": null,
      "align_items": null,
      "align_self": null,
      "border": null,
      "bottom": null,
      "display": null,
      "flex": null,
      "flex_flow": null,
      "grid_area": null,
      "grid_auto_columns": null,
      "grid_auto_flow": null,
      "grid_auto_rows": null,
      "grid_column": null,
      "grid_gap": "0px 0px",
      "grid_row": null,
      "grid_template_areas": "\n                                                   \"top top top\"\n                                                   \"left middle right\"\n                                                   ",
      "grid_template_columns": "33% 33% 33%",
      "grid_template_rows": "auto auto",
      "height": null,
      "justify_content": null,
      "justify_items": null,
      "left": null,
      "margin": null,
      "max_height": null,
      "max_width": null,
      "min_height": null,
      "min_width": null,
      "object_fit": null,
      "object_position": null,
      "order": null,
      "overflow": null,
      "overflow_x": null,
      "overflow_y": null,
      "padding": null,
      "right": null,
      "top": null,
      "visibility": null,
      "width": null
     }
    },
    "a4c80ea93d34469c92e646af0d99a7f7": {
     "model_module": "@jupyter-widgets/controls",
     "model_name": "HTMLModel",
     "state": {
      "_dom_classes": [],
      "_model_module": "@jupyter-widgets/controls",
      "_model_module_version": "1.5.0",
      "_model_name": "HTMLModel",
      "_view_count": null,
      "_view_module": "@jupyter-widgets/controls",
      "_view_module_version": "1.5.0",
      "_view_name": "HTMLView",
      "description": "",
      "description_tooltip": null,
      "layout": "IPY_MODEL_3aa15cc36e3f4299ad6db13974cc280f",
      "placeholder": "​",
      "style": "IPY_MODEL_da86cd79989a4156ad6acc026a25093e",
      "value": "<h1 style='color:#ffffff;background-color:#000000;padding-top: 1%;padding-bottom: 1%;padding-left: 1%; margin-top: 0px'>fake_yorktown</h1>"
     }
    },
    "a4db8c98e2a4418ebc613be8b40a7b78": {
     "model_module": "@jupyter-widgets/output",
     "model_name": "OutputModel",
     "state": {
      "_dom_classes": [],
      "_model_module": "@jupyter-widgets/output",
      "_model_module_version": "1.0.0",
      "_model_name": "OutputModel",
      "_view_count": null,
      "_view_module": "@jupyter-widgets/output",
      "_view_module_version": "1.0.0",
      "_view_name": "OutputView",
      "layout": "IPY_MODEL_725754b2beb642f9a977ae27d93209e6",
      "msg_id": "",
      "outputs": [
       {
        "image/png": "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\n",
        "metadata": {
         "tags": []
        },
        "output_type": "display_data",
        "text/plain": "<Figure size 360x360 with 1 Axes>"
       }
      ]
     }
    },
    "acb35ab1e4e947af966163225207c0ed": {
     "model_module": "@jupyter-widgets/controls",
     "model_name": "HTMLMathModel",
     "state": {
      "_dom_classes": [],
      "_model_module": "@jupyter-widgets/controls",
      "_model_module_version": "1.5.0",
      "_model_name": "HTMLMathModel",
      "_view_count": null,
      "_view_module": "@jupyter-widgets/controls",
      "_view_module_version": "1.5.0",
      "_view_name": "HTMLMathView",
      "description": "",
      "description_tooltip": null,
      "layout": "IPY_MODEL_416b7ae5c0e04f70b1022d5f32e33196",
      "placeholder": "​",
      "style": "IPY_MODEL_fd6c3703ab7445bd8b184085922ebe4b",
      "value": "<table><style>\ntable {\n    border-collapse: collapse;\n    width: auto;\n}\n\nth, td {\n    text-align: left;\n    padding: 8px;\n}\n\ntr:nth-child(even) {background-color: #f6f6f6;}\n</style><tr><th></th><th></th></tr><tr><td>sample_name</td><td>Giraffe</td></tr><tr><td>conditional</td><td>False</td></tr><tr><td>n_registers</td><td>1</td></tr><tr><td>online_date</td><td>2019-07-03T04:00:00+00:00</td></tr><tr><td>dynamic_reprate_enabled</td><td>False</td></tr><tr><td>simulator</td><td>False</td></tr><tr><td>credits_required</td><td>True</td></tr><tr><td>memory</td><td>True</td></tr><tr><td>allow_q_object</td><td>True</td></tr><tr><td>coupling_map</td><td>[[0, 1], [1, 0], [1, 2], [1, 3], [2, 1], [3, 1], [3, 4], [4, 3]]</td></tr><tr><td>meas_map</td><td>[[0, 1, 2, 3, 4]]</td></tr><tr><td>backend_name</td><td>fake_vigo</td></tr><tr><td>local</td><td>False</td></tr><tr><td>description</td><td>5 qubit device Vigo</td></tr><tr><td>allow_object_storage</td><td>True</td></tr><tr><td>url</td><td>None</td></tr><tr><td>open_pulse</td><td>False</td></tr></table>"
     }
    },
    "ada4f4c29df9413290c03ea5b1fe4e0e": {
     "model_module": "@jupyter-widgets/base",
     "model_name": "LayoutModel",
     "state": {
      "_model_module": "@jupyter-widgets/base",
      "_model_module_version": "1.2.0",
      "_model_name": "LayoutModel",
      "_view_count": null,
      "_view_module": "@jupyter-widgets/base",
      "_view_module_version": "1.2.0",
      "_view_name": "LayoutView",
      "align_content": null,
      "align_items": null,
      "align_self": null,
      "border": "4px solid #000000",
      "bottom": null,
      "display": null,
      "flex": null,
      "flex_flow": null,
      "grid_area": null,
      "grid_auto_columns": null,
      "grid_auto_flow": null,
      "grid_auto_rows": null,
      "grid_column": null,
      "grid_gap": null,
      "grid_row": null,
      "grid_template_areas": null,
      "grid_template_columns": null,
      "grid_template_rows": null,
      "height": null,
      "justify_content": null,
      "justify_items": null,
      "left": null,
      "margin": null,
      "max_height": "650px",
      "max_width": null,
      "min_height": "650px",
      "min_width": null,
      "object_fit": null,
      "object_position": null,
      "order": null,
      "overflow": null,
      "overflow_x": null,
      "overflow_y": "hidden",
      "padding": null,
      "right": null,
      "top": null,
      "visibility": null,
      "width": null
     }
    },
    "adb41ceb01104395997a863702556b7a": {
     "model_module": "@jupyter-widgets/controls",
     "model_name": "DescriptionStyleModel",
     "state": {
      "_model_module": "@jupyter-widgets/controls",
      "_model_module_version": "1.5.0",
      "_model_name": "DescriptionStyleModel",
      "_view_count": null,
      "_view_module": "@jupyter-widgets/base",
      "_view_module_version": "1.2.0",
      "_view_name": "StyleView",
      "description_width": ""
     }
    },
    "b10a0560c01f4839a4172deb52c2043f": {
     "model_module": "@jupyter-widgets/controls",
     "model_name": "GridBoxModel",
     "state": {
      "_dom_classes": [],
      "_model_module": "@jupyter-widgets/controls",
      "_model_module_version": "1.5.0",
      "_model_name": "GridBoxModel",
      "_view_count": null,
      "_view_module": "@jupyter-widgets/controls",
      "_view_module_version": "1.5.0",
      "_view_name": "GridBoxView",
      "box_style": "",
      "children": [
       "IPY_MODEL_f4e91141facf4c05aaf48babd9a49595",
       "IPY_MODEL_a4db8c98e2a4418ebc613be8b40a7b78",
       "IPY_MODEL_acb35ab1e4e947af966163225207c0ed"
      ],
      "layout": "IPY_MODEL_f13a004435a2410d8b89d2ffb2b64723"
     }
    },
    "b2873635db2946e998f16f3402085f24": {
     "model_module": "@jupyter-widgets/controls",
     "model_name": "DescriptionStyleModel",
     "state": {
      "_model_module": "@jupyter-widgets/controls",
      "_model_module_version": "1.5.0",
      "_model_name": "DescriptionStyleModel",
      "_view_count": null,
      "_view_module": "@jupyter-widgets/base",
      "_view_module_version": "1.2.0",
      "_view_name": "StyleView",
      "description_width": ""
     }
    },
    "b6d922e4d5774fabb518f106160d6fc9": {
     "model_module": "@jupyter-widgets/base",
     "model_name": "LayoutModel",
     "state": {
      "_model_module": "@jupyter-widgets/base",
      "_model_module_version": "1.2.0",
      "_model_name": "LayoutModel",
      "_view_count": null,
      "_view_module": "@jupyter-widgets/base",
      "_view_module_version": "1.2.0",
      "_view_name": "LayoutView",
      "align_content": null,
      "align_items": null,
      "align_self": null,
      "border": null,
      "bottom": null,
      "display": null,
      "flex": null,
      "flex_flow": null,
      "grid_area": "right",
      "grid_auto_columns": null,
      "grid_auto_flow": null,
      "grid_auto_rows": null,
      "grid_column": null,
      "grid_gap": null,
      "grid_row": null,
      "grid_template_areas": null,
      "grid_template_columns": null,
      "grid_template_rows": null,
      "height": null,
      "justify_content": null,
      "justify_items": null,
      "left": null,
      "margin": null,
      "max_height": null,
      "max_width": null,
      "min_height": null,
      "min_width": null,
      "object_fit": null,
      "object_position": null,
      "order": null,
      "overflow": null,
      "overflow_x": null,
      "overflow_y": null,
      "padding": null,
      "right": null,
      "top": null,
      "visibility": null,
      "width": null
     }
    },
    "b72c6238e6dc4eefb95c4bb2c1e85bcf": {
     "model_module": "@jupyter-widgets/base",
     "model_name": "LayoutModel",
     "state": {
      "_model_module": "@jupyter-widgets/base",
      "_model_module_version": "1.2.0",
      "_model_name": "LayoutModel",
      "_view_count": null,
      "_view_module": "@jupyter-widgets/base",
      "_view_module_version": "1.2.0",
      "_view_name": "LayoutView",
      "align_content": null,
      "align_items": "center",
      "align_self": null,
      "border": null,
      "bottom": null,
      "display": "flex-inline",
      "flex": null,
      "flex_flow": null,
      "grid_area": null,
      "grid_auto_columns": null,
      "grid_auto_flow": null,
      "grid_auto_rows": null,
      "grid_column": null,
      "grid_gap": null,
      "grid_row": null,
      "grid_template_areas": null,
      "grid_template_columns": null,
      "grid_template_rows": null,
      "height": null,
      "justify_content": null,
      "justify_items": null,
      "left": null,
      "margin": null,
      "max_height": null,
      "max_width": null,
      "min_height": null,
      "min_width": null,
      "object_fit": null,
      "object_position": null,
      "order": null,
      "overflow": null,
      "overflow_x": null,
      "overflow_y": null,
      "padding": null,
      "right": null,
      "top": null,
      "visibility": null,
      "width": null
     }
    },
    "b9180a3a20af47e68156cdb5f5359ad3": {
     "model_module": "@jupyter-widgets/output",
     "model_name": "OutputModel",
     "state": {
      "_dom_classes": [],
      "_model_module": "@jupyter-widgets/output",
      "_model_module_version": "1.0.0",
      "_model_name": "OutputModel",
      "_view_count": null,
      "_view_module": "@jupyter-widgets/output",
      "_view_module_version": "1.0.0",
      "_view_name": "OutputView",
      "layout": "IPY_MODEL_c8727b0d37d445b593ebdf5b01e5dcc8",
      "msg_id": "",
      "outputs": [
       {
        "image/png": "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\n",
        "metadata": {
         "tags": []
        },
        "output_type": "display_data",
        "text/plain": "<Figure size 360x360 with 1 Axes>"
       }
      ]
     }
    },
    "b930f89901444ef4b3b6c98794e7f717": {
     "model_module": "@jupyter-widgets/controls",
     "model_name": "HTMLModel",
     "state": {
      "_dom_classes": [],
      "_model_module": "@jupyter-widgets/controls",
      "_model_module_version": "1.5.0",
      "_model_name": "HTMLModel",
      "_view_count": null,
      "_view_module": "@jupyter-widgets/controls",
      "_view_module_version": "1.5.0",
      "_view_name": "HTMLView",
      "description": "",
      "description_tooltip": null,
      "layout": "IPY_MODEL_062642eec8a74e00ad4a0ada53ac5ee1",
      "placeholder": "​",
      "style": "IPY_MODEL_9bb21e63d8bf478cbf4fd8b3f26e083f",
      "value": "<div><font style='font-weight:bold'>last_update_date</font>: 2020-07-13 12:14:07+00:00</div>"
     }
    },
    "b969523ffebe438fa2c12787e8ff4857": {
     "model_module": "@jupyter-widgets/controls",
     "model_name": "DescriptionStyleModel",
     "state": {
      "_model_module": "@jupyter-widgets/controls",
      "_model_module_version": "1.5.0",
      "_model_name": "DescriptionStyleModel",
      "_view_count": null,
      "_view_module": "@jupyter-widgets/base",
      "_view_module_version": "1.2.0",
      "_view_name": "StyleView",
      "description_width": ""
     }
    },
    "be391356079e43bd841d7c670658da72": {
     "model_module": "@jupyter-widgets/controls",
     "model_name": "HTMLModel",
     "state": {
      "_dom_classes": [],
      "_model_module": "@jupyter-widgets/controls",
      "_model_module_version": "1.5.0",
      "_model_name": "HTMLModel",
      "_view_count": null,
      "_view_module": "@jupyter-widgets/controls",
      "_view_module_version": "1.5.0",
      "_view_name": "HTMLView",
      "description": "",
      "description_tooltip": null,
      "layout": "IPY_MODEL_31b59f280a574b5698bf69eb63841c5a",
      "placeholder": "​",
      "style": "IPY_MODEL_c6a76190fbc44aadbd022a58a0a92fe6",
      "value": "<table><style>\ntable {\n    border-collapse: collapse;\n    width: auto;\n}\n\nth, td {\n    text-align: left;\n    padding: 8px;\n}\n\ntr:nth-child(even) {background-color: #f6f6f6;};\n</style><tr><th></th><th>Type</th><th>Gate error</th></tr><tr><td><font style='font-weight:bold'>cx0_1</font></td><td>cx</td><td>1</td></tr><tr><td><font style='font-weight:bold'>cx0_2</font></td><td>cx</td><td>1</td></tr><tr><td><font style='font-weight:bold'>cx1_0</font></td><td>cx</td><td>1</td></tr><tr><td><font style='font-weight:bold'>cx1_2</font></td><td>cx</td><td>1</td></tr></table>"
     }
    },
    "c2a0bef74296414a9816277fd75b68be": {
     "model_module": "@jupyter-widgets/controls",
     "model_name": "TabModel",
     "state": {
      "_dom_classes": [],
      "_model_module": "@jupyter-widgets/controls",
      "_model_module_version": "1.5.0",
      "_model_name": "TabModel",
      "_titles": {},
      "_view_count": null,
      "_view_module": "@jupyter-widgets/controls",
      "_view_module_version": "1.5.0",
      "_view_name": "TabView",
      "box_style": "",
      "children": [],
      "layout": "IPY_MODEL_55d22a1446cf49d89e03c908170ffaf1",
      "selected_index": 0
     }
    },
    "c3324b7449b446c58c340556eac03786": {
     "model_module": "@jupyter-widgets/base",
     "model_name": "LayoutModel",
     "state": {
      "_model_module": "@jupyter-widgets/base",
      "_model_module_version": "1.2.0",
      "_model_name": "LayoutModel",
      "_view_count": null,
      "_view_module": "@jupyter-widgets/base",
      "_view_module_version": "1.2.0",
      "_view_name": "LayoutView",
      "align_content": null,
      "align_items": null,
      "align_self": null,
      "border": null,
      "bottom": null,
      "display": null,
      "flex": null,
      "flex_flow": null,
      "grid_area": null,
      "grid_auto_columns": null,
      "grid_auto_flow": null,
      "grid_auto_rows": null,
      "grid_column": null,
      "grid_gap": "0px 0px",
      "grid_row": null,
      "grid_template_areas": "\n                                                   \"top top top\"\n                                                   \"left middle right\"\n                                                   ",
      "grid_template_columns": "33% 33% 33%",
      "grid_template_rows": "auto auto",
      "height": null,
      "justify_content": null,
      "justify_items": null,
      "left": null,
      "margin": null,
      "max_height": null,
      "max_width": null,
      "min_height": null,
      "min_width": null,
      "object_fit": null,
      "object_position": null,
      "order": null,
      "overflow": null,
      "overflow_x": null,
      "overflow_y": null,
      "padding": null,
      "right": null,
      "top": null,
      "visibility": null,
      "width": null
     }
    },
    "c6a76190fbc44aadbd022a58a0a92fe6": {
     "model_module": "@jupyter-widgets/controls",
     "model_name": "DescriptionStyleModel",
     "state": {
      "_model_module": "@jupyter-widgets/controls",
      "_model_module_version": "1.5.0",
      "_model_name": "DescriptionStyleModel",
      "_view_count": null,
      "_view_module": "@jupyter-widgets/base",
      "_view_module_version": "1.2.0",
      "_view_name": "StyleView",
      "description_width": ""
     }
    },
    "c8727b0d37d445b593ebdf5b01e5dcc8": {
     "model_module": "@jupyter-widgets/base",
     "model_name": "LayoutModel",
     "state": {
      "_model_module": "@jupyter-widgets/base",
      "_model_module_version": "1.2.0",
      "_model_name": "LayoutModel",
      "_view_count": null,
      "_view_module": "@jupyter-widgets/base",
      "_view_module_version": "1.2.0",
      "_view_name": "LayoutView",
      "align_content": null,
      "align_items": "center",
      "align_self": null,
      "border": null,
      "bottom": null,
      "display": "flex-inline",
      "flex": null,
      "flex_flow": null,
      "grid_area": "right",
      "grid_auto_columns": null,
      "grid_auto_flow": null,
      "grid_auto_rows": null,
      "grid_column": null,
      "grid_gap": null,
      "grid_row": null,
      "grid_template_areas": null,
      "grid_template_columns": null,
      "grid_template_rows": null,
      "height": null,
      "justify_content": null,
      "justify_items": null,
      "left": null,
      "margin": null,
      "max_height": "325px",
      "max_width": null,
      "min_height": null,
      "min_width": null,
      "object_fit": null,
      "object_position": null,
      "order": null,
      "overflow": null,
      "overflow_x": null,
      "overflow_y": null,
      "padding": "10px 10px 10px 10px",
      "right": null,
      "top": null,
      "visibility": null,
      "width": "auto"
     }
    },
    "da86cd79989a4156ad6acc026a25093e": {
     "model_module": "@jupyter-widgets/controls",
     "model_name": "DescriptionStyleModel",
     "state": {
      "_model_module": "@jupyter-widgets/controls",
      "_model_module_version": "1.5.0",
      "_model_name": "DescriptionStyleModel",
      "_view_count": null,
      "_view_module": "@jupyter-widgets/base",
      "_view_module_version": "1.2.0",
      "_view_name": "StyleView",
      "description_width": ""
     }
    },
    "dceee5352e5245e38f36a332f5795b19": {
     "model_module": "@jupyter-widgets/base",
     "model_name": "LayoutModel",
     "state": {
      "_model_module": "@jupyter-widgets/base",
      "_model_module_version": "1.2.0",
      "_model_name": "LayoutModel",
      "_view_count": null,
      "_view_module": "@jupyter-widgets/base",
      "_view_module_version": "1.2.0",
      "_view_name": "LayoutView",
      "align_content": null,
      "align_items": null,
      "align_self": null,
      "border": null,
      "bottom": null,
      "display": null,
      "flex": null,
      "flex_flow": null,
      "grid_area": "middle",
      "grid_auto_columns": null,
      "grid_auto_flow": null,
      "grid_auto_rows": null,
      "grid_column": null,
      "grid_gap": null,
      "grid_row": null,
      "grid_template_areas": null,
      "grid_template_columns": null,
      "grid_template_rows": null,
      "height": null,
      "justify_content": null,
      "justify_items": null,
      "left": null,
      "margin": null,
      "max_height": null,
      "max_width": null,
      "min_height": null,
      "min_width": null,
      "object_fit": null,
      "object_position": null,
      "order": null,
      "overflow": null,
      "overflow_x": null,
      "overflow_y": null,
      "padding": null,
      "right": null,
      "top": null,
      "visibility": null,
      "width": null
     }
    },
    "e1e3f313a57540b79b363e953a178f77": {
     "model_module": "@jupyter-widgets/base",
     "model_name": "LayoutModel",
     "state": {
      "_model_module": "@jupyter-widgets/base",
      "_model_module_version": "1.2.0",
      "_model_name": "LayoutModel",
      "_view_count": null,
      "_view_module": "@jupyter-widgets/base",
      "_view_module_version": "1.2.0",
      "_view_name": "LayoutView",
      "align_content": null,
      "align_items": null,
      "align_self": null,
      "border": "4px solid #000000",
      "bottom": null,
      "display": null,
      "flex": null,
      "flex_flow": null,
      "grid_area": null,
      "grid_auto_columns": null,
      "grid_auto_flow": null,
      "grid_auto_rows": null,
      "grid_column": null,
      "grid_gap": null,
      "grid_row": null,
      "grid_template_areas": null,
      "grid_template_columns": null,
      "grid_template_rows": null,
      "height": null,
      "justify_content": null,
      "justify_items": null,
      "left": null,
      "margin": null,
      "max_height": "650px",
      "max_width": null,
      "min_height": "650px",
      "min_width": null,
      "object_fit": null,
      "object_position": null,
      "order": null,
      "overflow": null,
      "overflow_x": null,
      "overflow_y": "hidden",
      "padding": null,
      "right": null,
      "top": null,
      "visibility": null,
      "width": null
     }
    },
    "e589317a13164f2480a430deafc9cef0": {
     "model_module": "@jupyter-widgets/base",
     "model_name": "LayoutModel",
     "state": {
      "_model_module": "@jupyter-widgets/base",
      "_model_module_version": "1.2.0",
      "_model_name": "LayoutModel",
      "_view_count": null,
      "_view_module": "@jupyter-widgets/base",
      "_view_module_version": "1.2.0",
      "_view_name": "LayoutView",
      "align_content": null,
      "align_items": null,
      "align_self": null,
      "border": null,
      "bottom": null,
      "display": null,
      "flex": null,
      "flex_flow": null,
      "grid_area": null,
      "grid_auto_columns": null,
      "grid_auto_flow": null,
      "grid_auto_rows": null,
      "grid_column": null,
      "grid_gap": null,
      "grid_row": null,
      "grid_template_areas": null,
      "grid_template_columns": null,
      "grid_template_rows": null,
      "height": null,
      "justify_content": null,
      "justify_items": null,
      "left": null,
      "margin": null,
      "max_height": null,
      "max_width": null,
      "min_height": null,
      "min_width": null,
      "object_fit": null,
      "object_position": null,
      "order": null,
      "overflow": null,
      "overflow_x": null,
      "overflow_y": null,
      "padding": null,
      "right": null,
      "top": null,
      "visibility": null,
      "width": null
     }
    },
    "e9b1a6b24c574fe5b7ec18040c6e1f1b": {
     "model_module": "@jupyter-widgets/controls",
     "model_name": "HTMLModel",
     "state": {
      "_dom_classes": [],
      "_model_module": "@jupyter-widgets/controls",
      "_model_module_version": "1.5.0",
      "_model_name": "HTMLModel",
      "_view_count": null,
      "_view_module": "@jupyter-widgets/controls",
      "_view_module_version": "1.5.0",
      "_view_name": "HTMLView",
      "description": "",
      "description_tooltip": null,
      "layout": "IPY_MODEL_ff12fd194e4e4012b644460cd5662863",
      "placeholder": "​",
      "style": "IPY_MODEL_6d99dc9919f44e1c8a152771f142520d",
      "value": "<h1 style='color:#ffffff;background-color:#000000;padding-top: 1%;padding-bottom: 1%;padding-left: 1%; margin-top: 0px'>fake_vigo</h1>"
     }
    },
    "f13a004435a2410d8b89d2ffb2b64723": {
     "model_module": "@jupyter-widgets/base",
     "model_name": "LayoutModel",
     "state": {
      "_model_module": "@jupyter-widgets/base",
      "_model_module_version": "1.2.0",
      "_model_name": "LayoutModel",
      "_view_count": null,
      "_view_module": "@jupyter-widgets/base",
      "_view_module_version": "1.2.0",
      "_view_name": "LayoutView",
      "align_content": null,
      "align_items": null,
      "align_self": null,
      "border": null,
      "bottom": null,
      "display": null,
      "flex": null,
      "flex_flow": null,
      "grid_area": null,
      "grid_auto_columns": null,
      "grid_auto_flow": null,
      "grid_auto_rows": null,
      "grid_column": null,
      "grid_gap": "0px 0px",
      "grid_row": null,
      "grid_template_areas": "\n                               \"left right right right\"\n                               \"bottom bottom bottom bottom\"\n                               ",
      "grid_template_columns": "31% 23% 23% 23%",
      "grid_template_rows": "auto auto",
      "height": null,
      "justify_content": null,
      "justify_items": null,
      "left": null,
      "margin": null,
      "max_height": null,
      "max_width": null,
      "min_height": null,
      "min_width": null,
      "object_fit": null,
      "object_position": null,
      "order": null,
      "overflow": null,
      "overflow_x": null,
      "overflow_y": null,
      "padding": null,
      "right": null,
      "top": null,
      "visibility": null,
      "width": null
     }
    },
    "f4e91141facf4c05aaf48babd9a49595": {
     "model_module": "@jupyter-widgets/controls",
     "model_name": "HTMLMathModel",
     "state": {
      "_dom_classes": [],
      "_model_module": "@jupyter-widgets/controls",
      "_model_module_version": "1.5.0",
      "_model_name": "HTMLMathModel",
      "_view_count": null,
      "_view_module": "@jupyter-widgets/controls",
      "_view_module_version": "1.5.0",
      "_view_name": "HTMLMathView",
      "description": "",
      "description_tooltip": null,
      "layout": "IPY_MODEL_13d9479b5cd54f29862603f59b7e650a",
      "placeholder": "​",
      "style": "IPY_MODEL_58622fe099e344d89352eb920317fc69",
      "value": "<table><style>\ntable {\n    border-collapse: collapse;\n    width: auto;\n}\n\nth, td {\n    text-align: left;\n    padding: 8px;\n}\n\ntr:nth-child(even) {background-color: #f6f6f6;}\n</style><tr><th>Property</th><th>Value</th></tr><tr><td><font style='font-weight:bold'>n_qubits</font></td><td>5</td></tr><tr><td><font style='font-weight:bold'>quantum_volume</font></td><td>16</td></tr><tr><td><font style='font-weight:bold'>operational</font></td><td>True</td></tr><tr><td><font style='font-weight:bold'>status_msg</font></td><td></td></tr><tr><td><font style='font-weight:bold'>pending_jobs</font></td><td>0</td></tr><tr><td><font style='font-weight:bold'>backend_version</font></td><td>1.2.0</td></tr><tr><td><font style='font-weight:bold'>basis_gates</font></td><td>['id', 'u1', 'u2', 'u3', 'cx']</td></tr><tr><td><font style='font-weight:bold'>max_shots</font></td><td>8192</td></tr><tr><td><font style='font-weight:bold'>max_experiments</font></td><td>75</td></tr></table>"
     }
    },
    "fb9fa83bd7674b28aca90358b9e787ea": {
     "model_module": "@jupyter-widgets/base",
     "model_name": "LayoutModel",
     "state": {
      "_model_module": "@jupyter-widgets/base",
      "_model_module_version": "1.2.0",
      "_model_name": "LayoutModel",
      "_view_count": null,
      "_view_module": "@jupyter-widgets/base",
      "_view_module_version": "1.2.0",
      "_view_name": "LayoutView",
      "align_content": null,
      "align_items": null,
      "align_self": null,
      "border": null,
      "bottom": null,
      "display": null,
      "flex": null,
      "flex_flow": null,
      "grid_area": null,
      "grid_auto_columns": null,
      "grid_auto_flow": null,
      "grid_auto_rows": null,
      "grid_column": null,
      "grid_gap": null,
      "grid_row": null,
      "grid_template_areas": null,
      "grid_template_columns": null,
      "grid_template_rows": null,
      "height": null,
      "justify_content": null,
      "justify_items": null,
      "left": null,
      "margin": null,
      "max_height": null,
      "max_width": null,
      "min_height": null,
      "min_width": null,
      "object_fit": null,
      "object_position": null,
      "order": null,
      "overflow": null,
      "overflow_x": null,
      "overflow_y": null,
      "padding": null,
      "right": null,
      "top": null,
      "visibility": null,
      "width": null
     }
    },
    "fd6c3703ab7445bd8b184085922ebe4b": {
     "model_module": "@jupyter-widgets/controls",
     "model_name": "DescriptionStyleModel",
     "state": {
      "_model_module": "@jupyter-widgets/controls",
      "_model_module_version": "1.5.0",
      "_model_name": "DescriptionStyleModel",
      "_view_count": null,
      "_view_module": "@jupyter-widgets/base",
      "_view_module_version": "1.2.0",
      "_view_name": "StyleView",
      "description_width": ""
     }
    },
    "ff12fd194e4e4012b644460cd5662863": {
     "model_module": "@jupyter-widgets/base",
     "model_name": "LayoutModel",
     "state": {
      "_model_module": "@jupyter-widgets/base",
      "_model_module_version": "1.2.0",
      "_model_name": "LayoutModel",
      "_view_count": null,
      "_view_module": "@jupyter-widgets/base",
      "_view_module_version": "1.2.0",
      "_view_name": "LayoutView",
      "align_content": null,
      "align_items": null,
      "align_self": null,
      "border": null,
      "bottom": null,
      "display": null,
      "flex": null,
      "flex_flow": null,
      "grid_area": null,
      "grid_auto_columns": null,
      "grid_auto_flow": null,
      "grid_auto_rows": null,
      "grid_column": null,
      "grid_gap": null,
      "grid_row": null,
      "grid_template_areas": null,
      "grid_template_columns": null,
      "grid_template_rows": null,
      "height": null,
      "justify_content": null,
      "justify_items": null,
      "left": null,
      "margin": "0px 0px 0px 0px",
      "max_height": null,
      "max_width": null,
      "min_height": null,
      "min_width": null,
      "object_fit": null,
      "object_position": null,
      "order": null,
      "overflow": null,
      "overflow_x": null,
      "overflow_y": null,
      "padding": null,
      "right": null,
      "top": null,
      "visibility": null,
      "width": null
     }
    },
    "ff767618308a465a987e45cc60064f95": {
     "model_module": "@jupyter-widgets/controls",
     "model_name": "DescriptionStyleModel",
     "state": {
      "_model_module": "@jupyter-widgets/controls",
      "_model_module_version": "1.5.0",
      "_model_name": "DescriptionStyleModel",
      "_view_count": null,
      "_view_module": "@jupyter-widgets/base",
      "_view_module_version": "1.2.0",
      "_view_name": "StyleView",
      "description_width": ""
     }
    }
   }
  }
 },
 "nbformat": 4,
 "nbformat_minor": 1
}
