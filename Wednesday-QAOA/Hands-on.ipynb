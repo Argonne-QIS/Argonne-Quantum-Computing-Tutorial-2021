{
 "cells": [
  {
   "cell_type": "markdown",
   "metadata": {
    "slideshow": {
     "slide_type": "slide"
    }
   },
   "source": [
    "### If you're using your own machine, install qiskit first\n",
    "To do that, uncomment the line below and run cell"
   ]
  },
  {
   "cell_type": "code",
   "execution_count": 1,
   "metadata": {},
   "outputs": [],
   "source": [
    "# !pip install qiskit\n",
    "# To update qiskit:\n",
    "# !pip install -U qiskit"
   ]
  },
  {
   "cell_type": "markdown",
   "metadata": {},
   "source": [
    "### And check version — should match the one below"
   ]
  },
  {
   "cell_type": "code",
   "execution_count": 2,
   "metadata": {
    "scrolled": true
   },
   "outputs": [
    {
     "data": {
      "text/plain": [
       "{'qiskit-terra': '0.17.4', 'qiskit-aer': '0.8.2', 'qiskit-ignis': '0.6.0', 'qiskit-ibmq-provider': '0.14.0', 'qiskit-aqua': '0.9.2', 'qiskit': '0.27.0', 'qiskit-nature': None, 'qiskit-finance': None, 'qiskit-optimization': None, 'qiskit-machine-learning': None}"
      ]
     },
     "execution_count": 2,
     "metadata": {},
     "output_type": "execute_result"
    }
   ],
   "source": [
    "import qiskit\n",
    "qiskit.__qiskit_version__"
   ]
  },
  {
   "cell_type": "markdown",
   "metadata": {
    "slideshow": {
     "slide_type": "slide"
    }
   },
   "source": [
    "### Let's solve MAXCUT on a simple graph\n",
    "\n",
    "Recall the MAXCUT objective is $\\max_{\\mathbb{s}}\\frac{1}{2}\\sum_{ij\\in E}(1-s_is_j)$\n",
    "\n",
    "Before going further, let's reformulate it:\n",
    "\n",
    "$\\frac{1}{2}\\sum_{ij\\in E}(1-s_is_j) = \\frac{1}{2}\\sum_{ij\\in E}(-s_is_j) + const$\n",
    "\n",
    "Therefore the above _maximization_ problem is equivalent to the problem below:\n",
    "\n",
    "$\\max_{\\mathbb{s}}\\sum_{ij\\in E}(-s_is_j)$"
   ]
  },
  {
   "cell_type": "markdown",
   "metadata": {
    "slideshow": {
     "slide_type": "slide"
    }
   },
   "source": [
    "### Constructing the Hamiltonian\n",
    "\n",
    "MAXCUT is equivalent to the problem below:\n",
    "\n",
    "$\\max_{\\mathbb{s}}\\sum_{ij\\in E}(-s_is_j)$\n",
    "\n",
    "We've seen earlier that the Hamiltonian can be constructed by mapping binary variables $s_i$ onto the eigenvalues of $Z$. For the above maximization problem has the following Hamiltonian:\n",
    "\n",
    "$\\sum_{ij\\in E}(-Z_iZ_j)$"
   ]
  },
  {
   "cell_type": "markdown",
   "metadata": {
    "slideshow": {
     "slide_type": "slide"
    }
   },
   "source": [
    "### Constructing QAOA circuit\n",
    "\n",
    "Cost Hamiltonian: $C = \\sum_{ij\\in E}(-Z_iZ_j)$\n",
    "\n",
    "The full QAOA circuit:\n",
    "\n",
    "$|\\psi{(\\mathbb{\\beta},\\mathbb{\\gamma})}> =  e^{-i\\beta_p B}e^{-i\\gamma_p C}\\cdots e^{-i\\beta_1 B}e^{-i\\gamma_1 C} H^{\\otimes n} |0>$\n",
    "\n",
    "Need to implement cost operator $e^{-i\\gamma_p C}$ and mixer operator $e^{-i\\beta_p B}$"
   ]
  },
  {
   "cell_type": "markdown",
   "metadata": {
    "slideshow": {
     "slide_type": "slide"
    }
   },
   "source": [
    "### Let's beging by importing everything we'll need later"
   ]
  },
  {
   "cell_type": "code",
   "execution_count": 11,
   "metadata": {
    "slideshow": {
     "slide_type": "-"
    }
   },
   "outputs": [],
   "source": [
    "import warnings; warnings.filterwarnings(\"ignore\")\n",
    "import numpy as np\n",
    "import networkx as nx\n",
    "import matplotlib.pyplot as plt\n",
    "from collections import defaultdict\n",
    "from operator import itemgetter\n",
    "from scipy.optimize import minimize\n",
    "from qiskit import QuantumCircuit, QuantumRegister, ClassicalRegister, execute, Aer\n",
    "from qiskit.aqua.algorithms import NumPyEigensolver\n",
    "from qiskit.quantum_info import Pauli\n",
    "from qiskit.aqua.operators import op_converter\n",
    "from qiskit.aqua.operators import WeightedPauliOperator"
   ]
  },
  {
   "cell_type": "markdown",
   "metadata": {
    "slideshow": {
     "slide_type": "slide"
    }
   },
   "source": [
    "### Consider the following graph"
   ]
  },
  {
   "cell_type": "code",
   "execution_count": 4,
   "metadata": {},
   "outputs": [
    {
     "data": {
      "image/png": "[encoded data removed]",
      "text/plain": [
       "<Figure size 432x288 with 1 Axes>"
      ]
     },
     "metadata": {},
     "output_type": "display_data"
    }
   ],
   "source": [
    "G = nx.Graph()\n",
    "G.add_edges_from([[0,3],[0,4],[1,3],[1,4],[2,3],[2,4]])\n",
    "nx.draw(G, pos=nx.bipartite_layout(G, [0,1,2]))"
   ]
  },
  {
   "cell_type": "markdown",
   "metadata": {
    "slideshow": {
     "slide_type": "slide"
    }
   },
   "source": [
    "### We can now build the circuit for cost operator\n",
    "\n",
    "Cost operator $ e^{-i\\gamma_p C} = e^{-i\\gamma_p \\sum_{ij\\in E}(-Z_iZ_j)}$\n",
    "\n",
    "Note that later we will see how to do this more efficiently in Qiskit"
   ]
  },
  {
   "cell_type": "code",
   "execution_count": 5,
   "metadata": {
    "slideshow": {
     "slide_type": "-"
    }
   },
   "outputs": [],
   "source": [
    "def append_zz_term(qc, q1, q2, gamma):\n",
    "    qc.cx(q1,q2)\n",
    "    qc.rz(2*gamma, q2)\n",
    "    qc.cx(q1,q2)\n",
    "\n",
    "def get_cost_operator_circuit(G, gamma):\n",
    "    N = G.number_of_nodes()\n",
    "    qc = QuantumCircuit(N,N)\n",
    "    for i, j in G.edges():\n",
    "        append_zz_term(qc, i, j, gamma)\n",
    "    return qc\n",
    "    "
   ]
  },
  {
   "cell_type": "markdown",
   "metadata": {
    "slideshow": {
     "slide_type": "slide"
    }
   },
   "source": [
    "### Let's verify that our function produces the correct circuit\n",
    "\n",
    "Cost operator $e^{-i\\gamma_p C} = e^{-i\\gamma_p \\sum_{ij\\in E}(-Z_iZ_j)}$"
   ]
  },
  {
   "cell_type": "code",
   "execution_count": 6,
   "metadata": {},
   "outputs": [
    {
     "data": {
      "text/html": [
       "<pre style=\"word-wrap: normal;white-space: pre;background: #fff0;line-height: 1.1;font-family: &quot;Courier New&quot;,Courier,monospace\">                                                                            »\n",
       "q_0: ──■────────────────■────■────────────────────────────■─────────────────»\n",
       "       │                │    │     ┌───┐    ┌──────────┐  │  ┌───┐     ┌───┐»\n",
       "q_1: ──┼────────────────┼────┼─────┤ X ├────┤ RZ(2π/3) ├──┼──┤ X ├─────┤ X ├»\n",
       "       │                │    │     └─┬─┘    └──────────┘  │  └─┬─┘┌───┐└─┬─┘»\n",
       "q_2: ──┼────────────────┼────┼───────┼────────────────────┼────┼──┤ X ├──┼──»\n",
       "     ┌─┴─┐┌──────────┐┌─┴─┐  │       │                    │    │  └─┬─┘  │  »\n",
       "q_3: ┤ X ├┤ RZ(2π/3) ├┤ X ├──┼───────■────────────────────┼────■────■────┼──»\n",
       "     └───┘└──────────┘└───┘┌─┴─┐┌──────────┐            ┌─┴─┐            │  »\n",
       "q_4: ──────────────────────┤ X ├┤ RZ(2π/3) ├────────────┤ X ├────────────■──»\n",
       "                           └───┘└──────────┘            └───┘               »\n",
       "c: 5/═══════════════════════════════════════════════════════════════════════»\n",
       "                                                                            »\n",
       "«                                                 \n",
       "«q_0: ────────────────────────────────────────────\n",
       "«     ┌──────────┐     ┌───┐                      \n",
       "«q_1: ┤ RZ(2π/3) ├─────┤ X ├──────────────────────\n",
       "«     ├──────────┤┌───┐└─┬─┘┌───┐┌──────────┐┌───┐\n",
       "«q_2: ┤ RZ(2π/3) ├┤ X ├──┼──┤ X ├┤ RZ(2π/3) ├┤ X ├\n",
       "«     └──────────┘└─┬─┘  │  └─┬─┘└──────────┘└─┬─┘\n",
       "«q_3: ──────────────■────┼────┼────────────────┼──\n",
       "«                        │    │                │  \n",
       "«q_4: ───────────────────■────■────────────────■──\n",
       "«                                                 \n",
       "«c: 5/════════════════════════════════════════════\n",
       "«                                                 </pre>"
      ],
      "text/plain": [
       "                                                                            »\n",
       "q_0: ──■────────────────■────■────────────────────────────■─────────────────»\n",
       "       │                │    │     ┌───┐    ┌──────────┐  │  ┌───┐     ┌───┐»\n",
       "q_1: ──┼────────────────┼────┼─────┤ X ├────┤ RZ(2π/3) ├──┼──┤ X ├─────┤ X ├»\n",
       "       │                │    │     └─┬─┘    └──────────┘  │  └─┬─┘┌───┐└─┬─┘»\n",
       "q_2: ──┼────────────────┼────┼───────┼────────────────────┼────┼──┤ X ├──┼──»\n",
       "     ┌─┴─┐┌──────────┐┌─┴─┐  │       │                    │    │  └─┬─┘  │  »\n",
       "q_3: ┤ X ├┤ RZ(2π/3) ├┤ X ├──┼───────■────────────────────┼────■────■────┼──»\n",
       "     └───┘└──────────┘└───┘┌─┴─┐┌──────────┐            ┌─┴─┐            │  »\n",
       "q_4: ──────────────────────┤ X ├┤ RZ(2π/3) ├────────────┤ X ├────────────■──»\n",
       "                           └───┘└──────────┘            └───┘               »\n",
       "c: 5/═══════════════════════════════════════════════════════════════════════»\n",
       "                                                                            »\n",
       "«                                                 \n",
       "«q_0: ────────────────────────────────────────────\n",
       "«     ┌──────────┐     ┌───┐                      \n",
       "«q_1: ┤ RZ(2π/3) ├─────┤ X ├──────────────────────\n",
       "«     ├──────────┤┌───┐└─┬─┘┌───┐┌──────────┐┌───┐\n",
       "«q_2: ┤ RZ(2π/3) ├┤ X ├──┼──┤ X ├┤ RZ(2π/3) ├┤ X ├\n",
       "«     └──────────┘└─┬─┘  │  └─┬─┘└──────────┘└─┬─┘\n",
       "«q_3: ──────────────■────┼────┼────────────────┼──\n",
       "«                        │    │                │  \n",
       "«q_4: ───────────────────■────■────────────────■──\n",
       "«                                                 \n",
       "«c: 5/════════════════════════════════════════════\n",
       "«                                                 "
      ]
     },
     "execution_count": 6,
     "metadata": {},
     "output_type": "execute_result"
    }
   ],
   "source": [
    "qc = get_cost_operator_circuit(G, np.pi / 3)\n",
    "qc.draw()"
   ]
  },
  {
   "cell_type": "markdown",
   "metadata": {
    "slideshow": {
     "slide_type": "slide"
    }
   },
   "source": [
    "### Now we need to build mixer operator\n",
    "\n",
    "Mixer operator: $e^{-i\\beta_p B} = e^{-i\\beta_p \\sum_{i\\in V}X_i} = e^{-i\\beta_p X_0}e^{-i\\beta_p X_1}e^{-i\\beta_p X_2}e^{-i\\beta_p X_3}$"
   ]
  },
  {
   "cell_type": "code",
   "execution_count": 7,
   "metadata": {
    "slideshow": {
     "slide_type": "fragment"
    }
   },
   "outputs": [],
   "source": [
    "def append_x_term(qc, q1, beta):\n",
    "    qc.rx(2*beta, q1)\n",
    "\n",
    "def get_mixer_operator_circuit(G, beta):\n",
    "    N = G.number_of_nodes()\n",
    "    qc = QuantumCircuit(N,N)\n",
    "    for n in G.nodes():\n",
    "        append_x_term(qc, n, beta)\n",
    "    return qc\n"
   ]
  },
  {
   "cell_type": "markdown",
   "metadata": {
    "slideshow": {
     "slide_type": "slide"
    }
   },
   "source": [
    "### Let's verify the circuit\n",
    "\n",
    "Mixer operator: $e^{-i\\beta_p B} = e^{-i\\beta_p \\sum_{i\\in V}X_i} = e^{-i\\beta_p X_0}e^{-i\\beta_p X_1}e^{-i\\beta_p X_2}e^{-i\\beta_p X_3}e^{-i\\beta_p X_4}$"
   ]
  },
  {
   "cell_type": "code",
   "execution_count": 8,
   "metadata": {},
   "outputs": [
    {
     "data": {
      "text/html": [
       "<pre style=\"word-wrap: normal;white-space: pre;background: #fff0;line-height: 1.1;font-family: &quot;Courier New&quot;,Courier,monospace\">     ┌──────────┐\n",
       "q_0: ┤ RX(2π/3) ├\n",
       "     ├──────────┤\n",
       "q_1: ┤ RX(2π/3) ├\n",
       "     ├──────────┤\n",
       "q_2: ┤ RX(2π/3) ├\n",
       "     ├──────────┤\n",
       "q_3: ┤ RX(2π/3) ├\n",
       "     ├──────────┤\n",
       "q_4: ┤ RX(2π/3) ├\n",
       "     └──────────┘\n",
       "c: 5/════════════\n",
       "                 </pre>"
      ],
      "text/plain": [
       "     ┌──────────┐\n",
       "q_0: ┤ RX(2π/3) ├\n",
       "     ├──────────┤\n",
       "q_1: ┤ RX(2π/3) ├\n",
       "     ├──────────┤\n",
       "q_2: ┤ RX(2π/3) ├\n",
       "     ├──────────┤\n",
       "q_3: ┤ RX(2π/3) ├\n",
       "     ├──────────┤\n",
       "q_4: ┤ RX(2π/3) ├\n",
       "     └──────────┘\n",
       "c: 5/════════════\n",
       "                 "
      ]
     },
     "execution_count": 8,
     "metadata": {},
     "output_type": "execute_result"
    }
   ],
   "source": [
    "qc = get_mixer_operator_circuit(G, np.pi/3)\n",
    "qc.draw()"
   ]
  },
  {
   "cell_type": "markdown",
   "metadata": {
    "slideshow": {
     "slide_type": "slide"
    }
   },
   "source": [
    "### Now we are ready to build the full circuit\n",
    "\n",
    "$|\\psi{(\\mathbb{\\beta},\\mathbb{\\gamma})}> =  e^{-i\\beta_p B}e^{-i\\gamma_p C}\\cdots e^{-i\\beta_1 B}e^{-i\\gamma_1 C} H^{\\otimes n} |0>$"
   ]
  },
  {
   "cell_type": "code",
   "execution_count": 9,
   "metadata": {},
   "outputs": [],
   "source": [
    "def get_qaoa_circuit(G, beta, gamma):\n",
    "    assert(len(beta) == len(gamma))\n",
    "    p = len(beta) # infering number of QAOA steps from the parameters passed\n",
    "    N = G.number_of_nodes()\n",
    "    qc = QuantumCircuit(N,N)\n",
    "    # first, apply a layer of Hadamards\n",
    "    qc.h(range(N))\n",
    "    # second, apply p alternating operators\n",
    "    for i in range(p):\n",
    "        qc += get_cost_operator_circuit(G,gamma[i])\n",
    "        qc += get_mixer_operator_circuit(G,beta[i])\n",
    "    # finally, do not forget to measure the result!\n",
    "    qc.barrier(range(N))\n",
    "    qc.measure(range(N), range(N))\n",
    "    return qc"
   ]
  },
  {
   "cell_type": "markdown",
   "metadata": {
    "slideshow": {
     "slide_type": "slide"
    }
   },
   "source": [
    "### Let's verify that circuit looks right\n",
    "\n",
    "$|\\psi{(\\mathbb{\\beta},\\mathbb{\\gamma})}> =  e^{-i\\beta_p B}e^{-i\\gamma_p C}\\cdots e^{-i\\beta_1 B}e^{-i\\gamma_1 C} H^{\\otimes n} |0>$"
   ]
  },
  {
   "cell_type": "code",
   "execution_count": 12,
   "metadata": {},
   "outputs": [
    {
     "data": {
      "text/html": [
       "<pre style=\"word-wrap: normal;white-space: pre;background: #fff0;line-height: 1.1;font-family: &quot;Courier New&quot;,Courier,monospace\">     ┌───┐                                               ┌──────────┐          »\n",
       "q_0: ┤ H ├──■─────────────■────■──────────────────────■──┤ RX(2π/3) ├──────────»\n",
       "     ├───┤  │             │    │    ┌───┐  ┌───────┐  │  └──┬───┬───┘     ┌───┐»\n",
       "q_1: ┤ H ├──┼─────────────┼────┼────┤ X ├──┤ RZ(π) ├──┼─────┤ X ├─────────┤ X ├»\n",
       "     ├───┤  │             │    │    └─┬─┘  └───────┘  │     └─┬─┘    ┌───┐└─┬─┘»\n",
       "q_2: ┤ H ├──┼─────────────┼────┼──────┼───────────────┼───────┼──────┤ X ├──┼──»\n",
       "     ├───┤┌─┴─┐┌───────┐┌─┴─┐  │      │               │       │      └─┬─┘  │  »\n",
       "q_3: ┤ H ├┤ X ├┤ RZ(π) ├┤ X ├──┼──────■───────────────┼───────■────────■────┼──»\n",
       "     ├───┤└───┘└───────┘└───┘┌─┴─┐┌───────┐         ┌─┴─┐                   │  »\n",
       "q_4: ┤ H ├───────────────────┤ X ├┤ RZ(π) ├─────────┤ X ├───────────────────■──»\n",
       "     └───┘                   └───┘└───────┘         └───┘                      »\n",
       "c: 5/══════════════════════════════════════════════════════════════════════════»\n",
       "                                                                               »\n",
       "«                                                                  ░ ┌─┐      »\n",
       "«q_0: ─────────────────────────────────────────────────────────────░─┤M├──────»\n",
       "«     ┌───────┐     ┌───┐┌──────────┐                              ░ └╥┘┌─┐   »\n",
       "«q_1: ┤ RZ(π) ├─────┤ X ├┤ RX(2π/3) ├──────────────────────────────░──╫─┤M├───»\n",
       "«     ├───────┤┌───┐└─┬─┘└──┬───┬───┘ ┌───────┐  ┌───┐┌──────────┐ ░  ║ └╥┘┌─┐»\n",
       "«q_2: ┤ RZ(π) ├┤ X ├──┼─────┤ X ├─────┤ RZ(π) ├──┤ X ├┤ RX(2π/3) ├─░──╫──╫─┤M├»\n",
       "«     └───────┘└─┬─┘  │     └─┬─┘    ┌┴───────┴─┐└─┬─┘└──────────┘ ░  ║  ║ └╥┘»\n",
       "«q_3: ───────────■────┼───────┼──────┤ RX(2π/3) ├──┼───────────────░──╫──╫──╫─»\n",
       "«                     │       │      └──────────┘  │  ┌──────────┐ ░  ║  ║  ║ »\n",
       "«q_4: ────────────────■───────■────────────────────■──┤ RX(2π/3) ├─░──╫──╫──╫─»\n",
       "«                                                     └──────────┘ ░  ║  ║  ║ »\n",
       "«c: 5/════════════════════════════════════════════════════════════════╩══╩══╩═»\n",
       "«                                                                     0  1  2 »\n",
       "«           \n",
       "«q_0: ──────\n",
       "«           \n",
       "«q_1: ──────\n",
       "«           \n",
       "«q_2: ──────\n",
       "«     ┌─┐   \n",
       "«q_3: ┤M├───\n",
       "«     └╥┘┌─┐\n",
       "«q_4: ─╫─┤M├\n",
       "«      ║ └╥┘\n",
       "«c: 5/═╩══╩═\n",
       "«      3  4 </pre>"
      ],
      "text/plain": [
       "     ┌───┐                                               ┌──────────┐          »\n",
       "q_0: ┤ H ├──■─────────────■────■──────────────────────■──┤ RX(2π/3) ├──────────»\n",
       "     ├───┤  │             │    │    ┌───┐  ┌───────┐  │  └──┬───┬───┘     ┌───┐»\n",
       "q_1: ┤ H ├──┼─────────────┼────┼────┤ X ├──┤ RZ(π) ├──┼─────┤ X ├─────────┤ X ├»\n",
       "     ├───┤  │             │    │    └─┬─┘  └───────┘  │     └─┬─┘    ┌───┐└─┬─┘»\n",
       "q_2: ┤ H ├──┼─────────────┼────┼──────┼───────────────┼───────┼──────┤ X ├──┼──»\n",
       "     ├───┤┌─┴─┐┌───────┐┌─┴─┐  │      │               │       │      └─┬─┘  │  »\n",
       "q_3: ┤ H ├┤ X ├┤ RZ(π) ├┤ X ├──┼──────■───────────────┼───────■────────■────┼──»\n",
       "     ├───┤└───┘└───────┘└───┘┌─┴─┐┌───────┐         ┌─┴─┐                   │  »\n",
       "q_4: ┤ H ├───────────────────┤ X ├┤ RZ(π) ├─────────┤ X ├───────────────────■──»\n",
       "     └───┘                   └───┘└───────┘         └───┘                      »\n",
       "c: 5/══════════════════════════════════════════════════════════════════════════»\n",
       "                                                                               »\n",
       "«                                                                  ░ ┌─┐      »\n",
       "«q_0: ─────────────────────────────────────────────────────────────░─┤M├──────»\n",
       "«     ┌───────┐     ┌───┐┌──────────┐                              ░ └╥┘┌─┐   »\n",
       "«q_1: ┤ RZ(π) ├─────┤ X ├┤ RX(2π/3) ├──────────────────────────────░──╫─┤M├───»\n",
       "«     ├───────┤┌───┐└─┬─┘└──┬───┬───┘ ┌───────┐  ┌───┐┌──────────┐ ░  ║ └╥┘┌─┐»\n",
       "«q_2: ┤ RZ(π) ├┤ X ├──┼─────┤ X ├─────┤ RZ(π) ├──┤ X ├┤ RX(2π/3) ├─░──╫──╫─┤M├»\n",
       "«     └───────┘└─┬─┘  │     └─┬─┘    ┌┴───────┴─┐└─┬─┘└──────────┘ ░  ║  ║ └╥┘»\n",
       "«q_3: ───────────■────┼───────┼──────┤ RX(2π/3) ├──┼───────────────░──╫──╫──╫─»\n",
       "«                     │       │      └──────────┘  │  ┌──────────┐ ░  ║  ║  ║ »\n",
       "«q_4: ────────────────■───────■────────────────────■──┤ RX(2π/3) ├─░──╫──╫──╫─»\n",
       "«                                                     └──────────┘ ░  ║  ║  ║ »\n",
       "«c: 5/════════════════════════════════════════════════════════════════╩══╩══╩═»\n",
       "«                                                                     0  1  2 »\n",
       "«           \n",
       "«q_0: ──────\n",
       "«           \n",
       "«q_1: ──────\n",
       "«           \n",
       "«q_2: ──────\n",
       "«     ┌─┐   \n",
       "«q_3: ┤M├───\n",
       "«     └╥┘┌─┐\n",
       "«q_4: ─╫─┤M├\n",
       "«      ║ └╥┘\n",
       "«c: 5/═╩══╩═\n",
       "«      3  4 "
      ]
     },
     "execution_count": 12,
     "metadata": {},
     "output_type": "execute_result"
    }
   ],
   "source": [
    "qc = get_qaoa_circuit(G,[np.pi/3], [np.pi/2])\n",
    "qc.draw()"
   ]
  },
  {
   "cell_type": "markdown",
   "metadata": {
    "slideshow": {
     "slide_type": "slide"
    }
   },
   "source": [
    "### Running a circuit in Qiskit\n",
    "\n",
    "For the purposes of this tutorial, we will be running the circuits in simulator. To run your circuits on real IBM quantum computers, all you need to do is change the backend. However, the devices are noisy, so there might be dragons!"
   ]
  },
  {
   "cell_type": "markdown",
   "metadata": {
    "slideshow": {
     "slide_type": "fragment"
    }
   },
   "source": [
    "#### Qiskit qubit ordering\n",
    "\n",
    "Note that Qiskit uses an ordering where zeroth qubit is the rightmost (the least significant bit in the bistring),\n",
    "so we need to invert the samples we received"
   ]
  },
  {
   "cell_type": "code",
   "execution_count": 13,
   "metadata": {},
   "outputs": [],
   "source": [
    "def invert_counts(counts):\n",
    "    return {k[::-1]:v for k, v in counts.items()}"
   ]
  },
  {
   "cell_type": "markdown",
   "metadata": {
    "slideshow": {
     "slide_type": "slide"
    }
   },
   "source": [
    "Now we can run the circuit"
   ]
  },
  {
   "cell_type": "code",
   "execution_count": 14,
   "metadata": {
    "slideshow": {
     "slide_type": "-"
    }
   },
   "outputs": [
    {
     "name": "stdout",
     "output_type": "stream",
     "text": [
      "{'00111': 29, '01000': 32, '11111': 30, '11000': 23, '11110': 31, '01110': 31, '11001': 44, '00011': 31, '11011': 45, '10010': 34, '01011': 33, '10000': 33, '11100': 23, '00101': 23, '10110': 35, '11101': 32, '01010': 40, '01111': 36, '01101': 32, '10111': 28, '01100': 34, '11010': 36, '01001': 38, '10011': 35, '00001': 23, '00000': 37, '00100': 29, '00110': 28, '10001': 32, '00010': 29, '10100': 33, '10101': 25}\n"
     ]
    }
   ],
   "source": [
    "backend = Aer.get_backend('qasm_simulator')\n",
    "job = execute(qc, backend)\n",
    "result = job.result()\n",
    "print(invert_counts(result.get_counts()))"
   ]
  },
  {
   "cell_type": "markdown",
   "metadata": {
    "slideshow": {
     "slide_type": "slide"
    }
   },
   "source": [
    "### How good were these results?\n",
    "\n",
    "To answer that, we need to compute $<\\psi|C|\\psi>$. Luckily, C is a classical Hamiltonian, so we can do this easily. We are going to compute -1 times the value of the cut because by convention classical optimizers minimize (this will come up shortly)."
   ]
  },
  {
   "cell_type": "code",
   "execution_count": 15,
   "metadata": {},
   "outputs": [
    {
     "data": {
      "text/plain": [
       "-6"
      ]
     },
     "execution_count": 15,
     "metadata": {},
     "output_type": "execute_result"
    }
   ],
   "source": [
    "def maxcut_obj(x,G):\n",
    "    cut = 0\n",
    "    for i, j in G.edges():\n",
    "        if x[i] != x[j]:\n",
    "            # the edge is cut\n",
    "            cut -= 1\n",
    "    return cut\n",
    "\n",
    "maxcut_obj('00011', G)"
   ]
  },
  {
   "cell_type": "markdown",
   "metadata": {
    "slideshow": {
     "slide_type": "slide"
    }
   },
   "source": [
    "### Estimate energy from the sample"
   ]
  },
  {
   "cell_type": "code",
   "execution_count": 16,
   "metadata": {
    "slideshow": {
     "slide_type": "-"
    }
   },
   "outputs": [
    {
     "data": {
      "text/plain": [
       "-2.9462890625"
      ]
     },
     "execution_count": 16,
     "metadata": {},
     "output_type": "execute_result"
    }
   ],
   "source": [
    "def compute_maxcut_energy(counts, G):\n",
    "    energy = 0\n",
    "    total_counts = 0\n",
    "    for meas, meas_count in counts.items():\n",
    "        obj_for_meas = maxcut_obj(meas, G)\n",
    "        energy += obj_for_meas * meas_count\n",
    "        total_counts += meas_count\n",
    "    return energy / total_counts\n",
    "\n",
    "compute_maxcut_energy(invert_counts(result.get_counts()), G)"
   ]
  },
  {
   "cell_type": "markdown",
   "metadata": {
    "slideshow": {
     "slide_type": "slide"
    }
   },
   "source": [
    "### Putting all the pieces together\n",
    "\n",
    "As you remember, we run QAOA as a variational algorithm, so we will need a classical optimizer to optimize the parameters $\\beta$, $\\gamma$. We will use Constrained Optimization BY Linear Approximation (COBYLA) from `scipy.optimize`.\n",
    "\n",
    "We need to wrap our circuit into a black-box objective function `f` that COBYLA could optimize. Note that by convention all optimizers perform _minimization_, so we had to put a minus sign in front of our objective earlier."
   ]
  },
  {
   "cell_type": "code",
   "execution_count": 17,
   "metadata": {},
   "outputs": [],
   "source": [
    "def get_black_box_objective(G,p):\n",
    "    backend = Aer.get_backend('qasm_simulator')\n",
    "    def f(theta):\n",
    "        # let's assume first half is betas, second half is gammas\n",
    "        beta = theta[:p]\n",
    "        gamma = theta[p:]\n",
    "        qc = get_qaoa_circuit(G,beta, gamma)\n",
    "        counts = execute(qc, backend, seed_simulator=10).result().get_counts()\n",
    "        # return the energy\n",
    "        return compute_maxcut_energy(invert_counts(counts), G)\n",
    "    return f"
   ]
  },
  {
   "cell_type": "markdown",
   "metadata": {
    "slideshow": {
     "slide_type": "slide"
    }
   },
   "source": [
    "### Now we can run the optimizer to get optimal parameters!"
   ]
  },
  {
   "cell_type": "code",
   "execution_count": 18,
   "metadata": {},
   "outputs": [
    {
     "data": {
      "text/plain": [
       "     fun: -5.2978515625\n",
       "   maxcv: 0.0\n",
       " message: 'Optimization terminated successfully.'\n",
       "    nfev: 134\n",
       "  status: 1\n",
       " success: True\n",
       "       x: array([1.83749394, 2.1345936 , 1.9319531 , 2.09862998, 0.347631  ,\n",
       "       2.04618358, 6.11249139, 2.31785137, 3.56479392, 5.87260613])"
      ]
     },
     "execution_count": 18,
     "metadata": {},
     "output_type": "execute_result"
    }
   ],
   "source": [
    "# p is the number of QAOA alternating operators\n",
    "p = 5\n",
    "obj = get_black_box_objective(G, p)\n",
    "\n",
    "init_point = np.array([0.81069872, 2.2067517 , 0.83830696, 2.15579759, 0.37060699,\n",
    "       2.42068091, 6.1575306 , 2.2453419 , 3.85060091, 6.137845  ])\n",
    "# We are going to limit the number of iterations to 2500\n",
    "res_sample = minimize(obj, init_point, method='COBYLA', options={'maxiter':2500, 'disp': True})\n",
    "res_sample"
   ]
  },
  {
   "cell_type": "markdown",
   "metadata": {
    "slideshow": {
     "slide_type": "slide"
    }
   },
   "source": [
    "### To get the solution strings, let's run the circuit with optimal parameters"
   ]
  },
  {
   "cell_type": "code",
   "execution_count": 19,
   "metadata": {},
   "outputs": [
    {
     "data": {
      "text/plain": [
       "{'10010': 1,\n",
       " '00110': 2,\n",
       " '01000': 5,\n",
       " '00100': 2,\n",
       " '11001': 2,\n",
       " '01110': 1,\n",
       " '11100': 385,\n",
       " '00101': 3,\n",
       " '11011': 2,\n",
       " '00000': 2,\n",
       " '11111': 1,\n",
       " '01100': 15,\n",
       " '10111': 2,\n",
       " '10011': 16,\n",
       " '00001': 25,\n",
       " '10001': 2,\n",
       " '00010': 34,\n",
       " '01010': 2,\n",
       " '10110': 2,\n",
       " '11101': 31,\n",
       " '00111': 18,\n",
       " '00011': 365,\n",
       " '11110': 24,\n",
       " '10000': 1,\n",
       " '01011': 28,\n",
       " '11000': 23,\n",
       " '01111': 2,\n",
       " '10100': 28}"
      ]
     },
     "execution_count": 19,
     "metadata": {},
     "output_type": "execute_result"
    }
   ],
   "source": [
    "optimal_theta = res_sample['x']\n",
    "qc = get_qaoa_circuit(G, optimal_theta[:p], optimal_theta[p:])\n",
    "counts = invert_counts(execute(qc, backend).result().get_counts())\n",
    "counts"
   ]
  },
  {
   "cell_type": "markdown",
   "metadata": {
    "slideshow": {
     "slide_type": "slide"
    }
   },
   "source": [
    "### How good are there results?"
   ]
  },
  {
   "cell_type": "code",
   "execution_count": 20,
   "metadata": {},
   "outputs": [
    {
     "data": {
      "text/plain": [
       "<BarContainer object of 5 artists>"
      ]
     },
     "execution_count": 20,
     "metadata": {},
     "output_type": "execute_result"
    },
    {
     "data": {
      "image/png": "[encoded data removed]",
      "text/plain": [
       "<Figure size 432x288 with 1 Axes>"
      ]
     },
     "metadata": {
      "needs_background": "light"
     },
     "output_type": "display_data"
    }
   ],
   "source": [
    "energies = defaultdict(int)\n",
    "for k, v in counts.items():\n",
    "    energies[maxcut_obj(k,G)] += v\n",
    "\n",
    "x,y = zip(*energies.items())\n",
    "plt.bar(x,y)"
   ]
  },
  {
   "cell_type": "markdown",
   "metadata": {},
   "source": [
    "Pretty good! Most of the results we get correspond to good solutions!"
   ]
  },
  {
   "cell_type": "code",
   "execution_count": 21,
   "metadata": {
    "slideshow": {
     "slide_type": "slide"
    }
   },
   "outputs": [
    {
     "name": "stdout",
     "output_type": "stream",
     "text": [
      "Best string: 11100 with cut: 6\n"
     ]
    },
    {
     "data": {
      "image/png": "[encoded data removed]",
      "text/plain": [
       "<Figure size 432x288 with 1 Axes>"
      ]
     },
     "metadata": {},
     "output_type": "display_data"
    }
   ],
   "source": [
    "# get the best solution:\n",
    "best_cut, best_solution = min([(maxcut_obj(x,G),x) for x in counts.keys()], key=itemgetter(0))\n",
    "print(f\"Best string: {best_solution} with cut: {-best_cut}\")\n",
    "\n",
    "# color the graph nodes by part\n",
    "colors = ['r' if best_solution[node] == '0' else 'b' for node in G]\n",
    "nx.draw(G,node_color = colors, pos=nx.bipartite_layout(G, [0,1,2]))"
   ]
  },
  {
   "cell_type": "markdown",
   "metadata": {
    "slideshow": {
     "slide_type": "slide"
    }
   },
   "source": [
    "### Using statevector simulator\n",
    "\n",
    "What if you want to get the full QAOA state? Luckily, Qiskit provides `statevector_simulator` backend. \n",
    "\n",
    "### What is a state vector?\n",
    "\n",
    "State vector is a vector of amplitudes, e.g.: $\\frac{1}{\\sqrt{2}}\\bigg(|00\\rangle + |11\\rangle\\bigg) \\rightarrow (\\frac{1}{\\sqrt{2}}, 0, 0, \\frac{1}{\\sqrt{2}})$"
   ]
  },
  {
   "cell_type": "code",
   "execution_count": 22,
   "metadata": {},
   "outputs": [
    {
     "data": {
      "text/plain": [
       "array([0.70710678+0.j, 0.        +0.j, 0.        +0.j, 0.70710678+0.j])"
      ]
     },
     "execution_count": 22,
     "metadata": {},
     "output_type": "execute_result"
    }
   ],
   "source": [
    "qc = QuantumCircuit(2)\n",
    "qc.h(0)\n",
    "qc.cx(0,1)\n",
    "sv = execute(qc, backend=Aer.get_backend('statevector_simulator')).result().get_statevector()\n",
    "sv"
   ]
  },
  {
   "cell_type": "markdown",
   "metadata": {
    "slideshow": {
     "slide_type": "slide"
    }
   },
   "source": [
    "Less luckily, qubit ordering considerations still apply. Below are some helper functions we're going to use."
   ]
  },
  {
   "cell_type": "code",
   "execution_count": 23,
   "metadata": {},
   "outputs": [],
   "source": [
    "# Endianness conversion tools from https://github.com/Qiskit/qiskit-terra/issues/1148#issuecomment-438574708\n",
    "\n",
    "import numpy as np\n",
    "\n",
    "def state_num2str(basis_state_as_num, nqubits):\n",
    "    return '{0:b}'.format(basis_state_as_num).zfill(nqubits)\n",
    "\n",
    "def state_str2num(basis_state_as_str):\n",
    "    return int(basis_state_as_str, 2)\n",
    "\n",
    "def state_reverse(basis_state_as_num, nqubits):\n",
    "    basis_state_as_str = state_num2str(basis_state_as_num, nqubits)\n",
    "    new_str = basis_state_as_str[::-1]\n",
    "    return state_str2num(new_str)\n",
    "\n",
    "def get_adjusted_state(state):\n",
    "    nqubits = np.log2(state.shape[0])\n",
    "    if nqubits % 1:\n",
    "        raise ValueError(\"Input vector is not a valid statevector for qubits.\")\n",
    "    nqubits = int(nqubits)\n",
    "\n",
    "    adjusted_state = np.zeros(2**nqubits, dtype=complex)\n",
    "    for basis_state in range(2**nqubits):\n",
    "         adjusted_state[state_reverse(basis_state, nqubits)] = state[basis_state]\n",
    "    return adjusted_state"
   ]
  },
  {
   "cell_type": "markdown",
   "metadata": {
    "slideshow": {
     "slide_type": "slide"
    }
   },
   "source": [
    "### Running using full-state (`statevector`) simulator\n",
    "\n",
    "Note that a few things are different when using the full statevector simulator. First, we must not measure. Second, as the result, we get amplitudes instead of samples."
   ]
  },
  {
   "cell_type": "code",
   "execution_count": 24,
   "metadata": {},
   "outputs": [],
   "source": [
    "def get_qaoa_circuit_sv(G, beta, gamma):\n",
    "    assert(len(beta) == len(gamma))\n",
    "    p = len(beta) # infering number of QAOA steps from the parameters passed\n",
    "    N = G.number_of_nodes()\n",
    "    qc = QuantumCircuit(N,N)\n",
    "    # first, apply a layer of Hadamards\n",
    "    qc.h(range(N))\n",
    "    # second, apply p alternating operators\n",
    "    for i in range(p):\n",
    "        qc += get_cost_operator_circuit(G,gamma[i])\n",
    "        qc += get_mixer_operator_circuit(G,beta[i])\n",
    "    # no measurement in the end!\n",
    "    return qc"
   ]
  },
  {
   "cell_type": "markdown",
   "metadata": {
    "slideshow": {
     "slide_type": "slide"
    }
   },
   "source": [
    "Second, we need to get which amplitudes correspond to which computational basis states (= binary strings)"
   ]
  },
  {
   "cell_type": "code",
   "execution_count": 25,
   "metadata": {},
   "outputs": [],
   "source": [
    "def state_to_ampl_counts(vec, eps=1e-15):\n",
    "    \"\"\"Converts a statevector to a dictionary\n",
    "    of bitstrings and corresponding amplitudes\n",
    "    \"\"\"\n",
    "    qubit_dims = np.log2(vec.shape[0])\n",
    "    if qubit_dims % 1:\n",
    "        raise ValueError(\"Input vector is not a valid statevector for qubits.\")\n",
    "    qubit_dims = int(qubit_dims)\n",
    "    counts = {}\n",
    "    str_format = '0{}b'.format(qubit_dims)\n",
    "    for kk in range(vec.shape[0]):\n",
    "        val = vec[kk]\n",
    "        if val.real**2+val.imag**2 > eps:\n",
    "            counts[format(kk, str_format)] = val\n",
    "    return counts\n"
   ]
  },
  {
   "cell_type": "markdown",
   "metadata": {
    "slideshow": {
     "slide_type": "slide"
    }
   },
   "source": [
    "Let's try plugging in the optimal parameters we found using the QASM simulator"
   ]
  },
  {
   "cell_type": "code",
   "execution_count": 27,
   "metadata": {},
   "outputs": [
    {
     "data": {
      "text/plain": [
       "{'00000': (0.014279499254842742+0.011623320789211036j),\n",
       " '00001': (0.13438201589051332-0.09405829764019878j),\n",
       " '00010': (0.13438201589051343-0.0940582976401987j),\n",
       " '00011': (-0.01602140096028865-0.6036236563655756j),\n",
       " '00100': (-0.053501339525443524+0.006060075992361446j),\n",
       " '00101': (-0.03628471735810238-0.010367992306133616j),\n",
       " '00110': (-0.0362847173581025-0.010367992306133658j),\n",
       " '00111': (-0.06213658117215947+0.13217051841932284j),\n",
       " '01000': (-0.05350133952544355+0.006060075992361485j),\n",
       " '01001': (-0.036284717358102424-0.010367992306133627j),\n",
       " '01010': (-0.036284717358102396-0.010367992306133554j),\n",
       " '01011': (-0.062136581172159436+0.1321705184193229j),\n",
       " '01100': (-0.06213658117215936+0.13217051841932298j),\n",
       " '01101': (-0.036284717358102445-0.010367992306133628j),\n",
       " '01110': (-0.03628471735810239-0.010367992306133656j),\n",
       " '01111': (-0.05350133952544348+0.006060075992361326j),\n",
       " '10000': (-0.053501339525443496+0.00606007599236145j),\n",
       " '10001': (-0.036284717358102375-0.010367992306133703j),\n",
       " '10010': (-0.03628471735810244-0.010367992306133595j),\n",
       " '10011': (-0.06213658117215947+0.13217051841932292j),\n",
       " '10100': (-0.06213658117215942+0.13217051841932295j),\n",
       " '10101': (-0.03628471735810239-0.010367992306133549j),\n",
       " '10110': (-0.03628471735810239-0.010367992306133673j),\n",
       " '10111': (-0.05350133952544353+0.006060075992361368j),\n",
       " '11000': (-0.062136581172159304+0.1321705184193229j),\n",
       " '11001': (-0.03628471735810242-0.010367992306133686j),\n",
       " '11010': (-0.0362847173581024-0.01036799230613369j),\n",
       " '11011': (-0.053501339525443614+0.00606007599236144j),\n",
       " '11100': (-0.01602140096028873-0.6036236563655755j),\n",
       " '11101': (0.13438201589051332-0.09405829764019867j),\n",
       " '11110': (0.1343820158905133-0.0940582976401987j),\n",
       " '11111': (0.014279499254842749+0.011623320789211015j)}"
      ]
     },
     "execution_count": 27,
     "metadata": {},
     "output_type": "execute_result"
    }
   ],
   "source": [
    "backend = Aer.get_backend('statevector_simulator')\n",
    "qc = get_qaoa_circuit_sv(G, optimal_theta[:p], optimal_theta[p:])\n",
    "sv = get_adjusted_state(execute(qc, backend).result().get_statevector())\n",
    "state_to_ampl_counts(sv)"
   ]
  },
  {
   "cell_type": "markdown",
   "metadata": {
    "slideshow": {
     "slide_type": "slide"
    }
   },
   "source": [
    "### Let's verify that we get the same energy"
   ]
  },
  {
   "cell_type": "code",
   "execution_count": 28,
   "metadata": {},
   "outputs": [
    {
     "data": {
      "text/plain": [
       "-5.2962604856081175"
      ]
     },
     "execution_count": 28,
     "metadata": {},
     "output_type": "execute_result"
    }
   ],
   "source": [
    "def compute_maxcut_energy_sv(sv, G):\n",
    "    \"\"\"Compute objective from statevector\n",
    "    For large number of qubits, this is slow. \n",
    "    \"\"\"\n",
    "    counts = state_to_ampl_counts(sv)\n",
    "    return sum(maxcut_obj(np.array([int(x) for x in k]), G) * (np.abs(v)**2) for k, v in counts.items())\n",
    "\n",
    "compute_maxcut_energy_sv(sv, G)"
   ]
  },
  {
   "cell_type": "markdown",
   "metadata": {},
   "source": [
    "Yay! Energy matches"
   ]
  },
  {
   "cell_type": "markdown",
   "metadata": {
    "slideshow": {
     "slide_type": "slide"
    }
   },
   "source": [
    "### Now, we can run the full optimization loop with the statevector simulator"
   ]
  },
  {
   "cell_type": "code",
   "execution_count": 29,
   "metadata": {},
   "outputs": [],
   "source": [
    "def get_black_box_objective_sv(G,p):\n",
    "    backend = Aer.get_backend('statevector_simulator')\n",
    "    def f(theta):\n",
    "        # let's assume first half is betas, second half is gammas\n",
    "        beta = theta[:p]\n",
    "        gamma = theta[p:]\n",
    "        qc = get_qaoa_circuit_sv(G,beta, gamma)\n",
    "        sv = execute(qc, backend).result().get_statevector()\n",
    "        # return the energy\n",
    "        return compute_maxcut_energy_sv(get_adjusted_state(sv), G)\n",
    "    return f"
   ]
  },
  {
   "cell_type": "markdown",
   "metadata": {
    "slideshow": {
     "slide_type": "slide"
    }
   },
   "source": [
    "Copying and pasting the code for the `qasm_simulator`..."
   ]
  },
  {
   "cell_type": "code",
   "execution_count": 30,
   "metadata": {},
   "outputs": [
    {
     "data": {
      "text/plain": [
       "     fun: -5.953065284815716\n",
       "   maxcv: 0.0\n",
       " message: 'Maximum number of function evaluations has been exceeded.'\n",
       "    nfev: 2500\n",
       "  status: 2\n",
       " success: False\n",
       "       x: array([2.23608646, 1.98401476, 1.98178779, 1.81071698, 0.5632291 ,\n",
       "       2.25515488, 6.06921404, 2.40791231, 3.78127733, 6.03418269])"
      ]
     },
     "execution_count": 30,
     "metadata": {},
     "output_type": "execute_result"
    }
   ],
   "source": [
    "# p is the number of QAOA alternating operators\n",
    "p = 5\n",
    "obj = get_black_box_objective_sv(G, p)\n",
    "\n",
    "init_point = np.array([0.81069872, 2.2067517 , 0.83830696, 2.15579759, 0.37060699,\n",
    "       2.42068091, 6.1575306 , 2.2453419 , 3.85060091, 6.137845  ])\n",
    "# We are going to limit the number of iterations to 2500\n",
    "res_sv = minimize(obj, init_point, method='COBYLA', options={'maxiter':2500, 'disp': True})\n",
    "res_sv"
   ]
  },
  {
   "cell_type": "markdown",
   "metadata": {
    "slideshow": {
     "slide_type": "slide"
    }
   },
   "source": [
    "We get **much better solution** if we have access to the full state vector! In fact, if we run it long enough, we will get arbitratily close to the true optimum (to verify it yourself, try setting `'maxiter':10000` above)"
   ]
  },
  {
   "cell_type": "code",
   "execution_count": 31,
   "metadata": {},
   "outputs": [
    {
     "name": "stdout",
     "output_type": "stream",
     "text": [
      "Best energy with samples: -5.30, with full state vector: -5.95\n"
     ]
    }
   ],
   "source": [
    "print(f\"Best energy with samples: {res_sample['fun']:.2f}, with full state vector: {res_sv['fun']:.2f}\")"
   ]
  },
  {
   "cell_type": "markdown",
   "metadata": {
    "slideshow": {
     "slide_type": "fragment"
    }
   },
   "source": [
    "This is because with samples we get stuck in a lower quality point:"
   ]
  },
  {
   "cell_type": "code",
   "execution_count": 32,
   "metadata": {},
   "outputs": [
    {
     "name": "stdout",
     "output_type": "stream",
     "text": [
      "Angles found with samples: beta=[1.83749394 2.1345936  1.9319531  2.09862998 0.347631  ], gamma=[2.04618358 6.11249139 2.31785137 3.56479392 5.87260613]\n",
      "Angles found with full state: beta=[2.23608646 1.98401476 1.98178779 1.81071698 0.5632291 ], gamma=[2.25515488 6.06921404 2.40791231 3.78127733 6.03418269]\n"
     ]
    }
   ],
   "source": [
    "print(f\"Angles found with samples: beta={res_sample['x'][:p]}, gamma={res_sample['x'][p:]}\")\n",
    "print(f\"Angles found with full state: beta={res_sv['x'][:p]}, gamma={res_sv['x'][p:]}\")"
   ]
  },
  {
   "cell_type": "markdown",
   "metadata": {},
   "source": [
    "Note that these are two different points!"
   ]
  },
  {
   "cell_type": "markdown",
   "metadata": {
    "slideshow": {
     "slide_type": "slide"
    }
   },
   "source": [
    "An important point to make is that this is **not a local minimum** that COBYLA gets stuck in when using the sampling. We can easily verify that by running COBYLA with full state from that point"
   ]
  },
  {
   "cell_type": "code",
   "execution_count": 33,
   "metadata": {},
   "outputs": [
    {
     "data": {
      "text/plain": [
       "     fun: -5.379488009621092\n",
       "   maxcv: 0.0\n",
       " message: 'Maximum number of function evaluations has been exceeded.'\n",
       "    nfev: 50\n",
       "  status: 2\n",
       " success: False\n",
       "       x: array([1.84912811, 2.1430627 , 1.94267686, 2.08362536, 0.36741251,\n",
       "       2.04556667, 6.12254338, 2.30958241, 3.57688979, 5.86524965])"
      ]
     },
     "execution_count": 33,
     "metadata": {},
     "output_type": "execute_result"
    }
   ],
   "source": [
    "# p is the number of QAOA alternating operators\n",
    "p = 5\n",
    "obj = get_black_box_objective_sv(G, p)\n",
    "\n",
    "init_point = res_sample['x']\n",
    "# 'rhobeg' controls initial changes to the variables. \n",
    "# We set it low to make sure we are searching a small neighborhood of the optimal point\n",
    "res_sv2 = minimize(obj, init_point, method='COBYLA', options={'maxiter':50, 'disp': True, 'rhobeg': 0.001})\n",
    "res_sv2"
   ]
  },
  {
   "cell_type": "markdown",
   "metadata": {},
   "source": [
    "The lesson here is that our simple deterministic optimizers (like COBYLA) assume that *every function value they get is true*. This causes them to thing that a point is a local minimum, when in fact it is not. We have to bake the assumption of stochaisticity into the optimizers we use!"
   ]
  },
  {
   "cell_type": "markdown",
   "metadata": {
    "slideshow": {
     "slide_type": "slide"
    }
   },
   "source": [
    "### That was pretty involved! Is there an easier way?\n",
    "\n",
    "So far we have effectively reimplemented the entire stack of tools used in Qiskit. Wasn't too bad, huh? Note that you can fairly easily do the above in any framework you prefer (Google cirq, Rigetti PyQuil, ...), all you need to learn is how to apply gates. What follows is more specific to IBM Qiskit (though not entirely).\n",
    "\n",
    "Luckily, you don't have to reimplement QAOA every time you want to use it (though I do recommend doing it at least once to understand what's going on!)\n",
    "\n",
    "Qiskit provides a number of tools for optimization, some as simple to use as plugging your graph into a declarative interface. Today we're going to look at some of them. I have copied and pasted some of the code from Qiskit here for educational purposes."
   ]
  },
  {
   "cell_type": "markdown",
   "metadata": {
    "slideshow": {
     "slide_type": "slide"
    }
   },
   "source": [
    "### Recap\n",
    "\n",
    "To solve MAXCUT we had to do the following:\n",
    "\n",
    "1. Choose a problem class (maxcut) and a problem instance (graph)\n",
    "2. Come up with a general Hamiltonian for the problem class\n",
    "3. Build specific Hamiltonian for the problem instance\n",
    "4. From the Hamiltonian, construct QAOA circuit\n",
    "5. Wrap QAOA circuit in a black box function\n",
    "6. Optimize QAOA parameters\n",
    "7. Get solution by running QAOA circuit with optimal parameters"
   ]
  },
  {
   "cell_type": "markdown",
   "metadata": {
    "slideshow": {
     "slide_type": "slide"
    }
   },
   "source": [
    "### Qiskit to help!\n",
    "\n",
    "Let's see how Qiskit can help us with steps 3 and 4:\n",
    "\n",
    "\n",
    "1. Choose a problem class (maxcut) and a problem instance (graph)\n",
    "2. Come up with a general Hamiltonian for the problem class\n",
    "3. **Build specific Hamiltonian for the problem instance**\n",
    "4. **From the Hamiltonian, construct QAOA circuit**\n",
    "5. Wrap QAOA circuit in a black box function\n",
    "6. Optimize QAOA parameters\n",
    "7. Get solution by running QAOA circuit with optimal parameters"
   ]
  },
  {
   "cell_type": "markdown",
   "metadata": {
    "slideshow": {
     "slide_type": "fragment"
    }
   },
   "source": [
    "### Building the circuit in Qiskit\n",
    "\n",
    "First thing we're going to try is to use Qiskit tools to build circuit instead of building it by hand. To do that, we will have to construct a Hamiltonian object and pass it to QAOA class initializer."
   ]
  },
  {
   "cell_type": "markdown",
   "metadata": {
    "slideshow": {
     "slide_type": "slide"
    }
   },
   "source": [
    "### Building the Hamiltonian in Qiskit\n",
    "\n",
    "Qiskit uses stalibizer-esque notation that we will not get into"
   ]
  },
  {
   "cell_type": "code",
   "execution_count": 34,
   "metadata": {},
   "outputs": [],
   "source": [
    "# copied from qiskit.optimization.ising.max_cut\n",
    "\n",
    "def get_cost_operator(weight_matrix):\n",
    "    \"\"\"Generate Hamiltonian for the max-cut problem of a graph.\n",
    "    Args:\n",
    "        weight_matrix (numpy.ndarray) : adjacency matrix.\n",
    "    Returns:\n",
    "        WeightedPauliOperator: operator for the Hamiltonian\n",
    "        float: a constant shift for the obj function.\n",
    "    \"\"\"\n",
    "    num_nodes = weight_matrix.shape[0]\n",
    "    pauli_list = []\n",
    "    shift = 0\n",
    "    for i in range(num_nodes):\n",
    "        for j in range(i):\n",
    "            if weight_matrix[i, j] != 0:\n",
    "                x_p = np.zeros(num_nodes, dtype=np.bool)\n",
    "                z_p = np.zeros(num_nodes, dtype=np.bool)\n",
    "                z_p[i] = True\n",
    "                z_p[j] = True\n",
    "                pauli_list.append([0.5 * weight_matrix[i, j], Pauli(z_p, x_p)])\n",
    "                shift -= 0.5 * weight_matrix[i, j]\n",
    "    return WeightedPauliOperator(paulis=pauli_list), shift"
   ]
  },
  {
   "cell_type": "markdown",
   "metadata": {
    "slideshow": {
     "slide_type": "slide"
    }
   },
   "source": [
    "### First, let's construct a Hamiltonian \n",
    "\n",
    "Recall the MAXCUT objective is $\\max_{\\mathbb{s}}\\frac{1}{2}\\sum_{ij\\in E}(1-s_is_j) = \\max_{\\mathbb{s}}\\frac{1}{2}\\sum_{ij\\in E}(-s_is_j) + const$. Qiskit conveniently takes care of the constant in form of offset.\n",
    "\n",
    "Corresponding Hamiltonian is $\\frac{1}{2}\\sum_{ij\\in E}(-Z_iZ_j)$, but Qiskit by convention always searches for the _ground_ state, so the sign is flipped."
   ]
  },
  {
   "cell_type": "code",
   "execution_count": 35,
   "metadata": {},
   "outputs": [
    {
     "name": "stdout",
     "output_type": "stream",
     "text": [
      "IZIIZ\t(0.5+0j)\n",
      "IZIZI\t(0.5+0j)\n",
      "IZZII\t(0.5+0j)\n",
      "ZIIIZ\t(0.5+0j)\n",
      "ZIIZI\t(0.5+0j)\n",
      "ZIZII\t(0.5+0j)\n",
      "\n"
     ]
    }
   ],
   "source": [
    "w = nx.adjacency_matrix(G, nodelist=range(G.number_of_nodes())) # have to pass nodelist so the columns are ordered properly\n",
    "C, offset = get_cost_operator(w)\n",
    "print(C.print_details())"
   ]
  },
  {
   "cell_type": "markdown",
   "metadata": {},
   "source": [
    "Looks correct!"
   ]
  },
  {
   "cell_type": "markdown",
   "metadata": {
    "slideshow": {
     "slide_type": "slide"
    }
   },
   "source": [
    "### Verifying that Hamiltonian is correct\n",
    "\n",
    "Recall that since \"Hamiltonian\" is just a fancy word for matrix*, we can find its ground state (lowest eigenvalue eigenvector) classically with any eigensolver. We can use Qiskit `NumPyEigensolver`, which in is just a wrapper around `np.linalg.eig` and `scisparse.linalg.eigs`\n",
    "\n",
    "*not really"
   ]
  },
  {
   "cell_type": "markdown",
   "metadata": {
    "slideshow": {
     "slide_type": "slide"
    }
   },
   "source": [
    "### Let's run NumPyEigensolver on our Hamiltonian (Hermitian matrix)"
   ]
  },
  {
   "cell_type": "code",
   "execution_count": 36,
   "metadata": {
    "slideshow": {
     "slide_type": "-"
    }
   },
   "outputs": [
    {
     "data": {
      "text/plain": [
       "{'eigenvalues': array([-3.+0.j]), 'eigenstates': ListOp([VectorStateFn(Statevector([0.+0.j, 0.+0.j, 0.+0.j, 0.+0.j, 0.+0.j, 0.+0.j, 0.+0.j,\n",
       "             0.+0.j, 0.+0.j, 0.+0.j, 0.+0.j, 0.+0.j, 0.+0.j, 0.+0.j,\n",
       "             0.+0.j, 0.+0.j, 0.+0.j, 0.+0.j, 0.+0.j, 0.+0.j, 0.+0.j,\n",
       "             0.+0.j, 0.+0.j, 0.+0.j, 1.+0.j, 0.+0.j, 0.+0.j, 0.+0.j,\n",
       "             0.+0.j, 0.+0.j, 0.+0.j, 0.+0.j],\n",
       "            dims=(2, 2, 2, 2, 2)), coeff=1.0, is_measurement=False)], coeff=1.0, abelian=False)}"
      ]
     },
     "execution_count": 36,
     "metadata": {},
     "output_type": "execute_result"
    }
   ],
   "source": [
    "ee = NumPyEigensolver(C, k=1) # k=1 means lowest eigenvalue and eigenvector\n",
    "\n",
    "result = ee.run()\n",
    "result"
   ]
  },
  {
   "cell_type": "markdown",
   "metadata": {
    "slideshow": {
     "slide_type": "slide"
    }
   },
   "source": [
    "### Now, we need to convert the eigenvectors of $2^n\\times 2^n$ matrix into solutions to our MAXCUT problem (vectors of size $n$)\n",
    "\n",
    "Luckily, Qiskit has a function for that!"
   ]
  },
  {
   "cell_type": "code",
   "execution_count": 37,
   "metadata": {},
   "outputs": [
    {
     "name": "stdout",
     "output_type": "stream",
     "text": [
      "Solution: [0 0 0 1 1] with cut: [-6.+0.j]\n"
     ]
    }
   ],
   "source": [
    "from qiskit.optimization.applications.ising.common import sample_most_likely\n",
    "print(f\"Solution: {sample_most_likely(result['eigenstates'][0])} with cut: {result['eigenvalues']+offset}\")\n"
   ]
  },
  {
   "cell_type": "markdown",
   "metadata": {},
   "source": [
    "And it's a correct solution. So we've built our Hamiltonian correctly. Note that you can use the same process (building a Hamiltonian, running ExactEigensolver on it) in prototyping your own algorithms."
   ]
  },
  {
   "cell_type": "markdown",
   "metadata": {
    "slideshow": {
     "slide_type": "slide"
    }
   },
   "source": [
    "### Q: Can I build my Hamiltonian as a matrix?\n",
    "\n",
    "Yes you can! Let's try doing it it for the same five-node graph:\n",
    "\n",
    "$C=\\frac{1}{2}\\sum_{ij\\in E}Z_iZ_i = \\frac{1}{2}(Z_0Z_3 + Z_0Z_4 + Z_1Z_3 + Z_1Z_4 + Z_2Z_3 + Z_2Z_4) = \\frac{1}{2}(Z\\otimes I \\otimes I \\otimes Z \\otimes I + Z\\otimes I \\otimes I \\otimes I \\otimes Z + I\\otimes Z \\otimes I \\otimes Z \\otimes I + I\\otimes Z \\otimes I \\otimes I \\otimes Z + I\\otimes I \\otimes Z \\otimes Z \\otimes I + I\\otimes I \\otimes Z \\otimes I \\otimes Z)$"
   ]
  },
  {
   "cell_type": "code",
   "execution_count": 38,
   "metadata": {},
   "outputs": [],
   "source": [
    "I = np.eye(2,2)\n",
    "Z = np.array([[1.,0.], [0.,-1.]])\n",
    "\n",
    "Z0Z3 = np.kron(np.kron(np.kron(np.kron(Z,I), I), Z), I)\n",
    "Z0Z4 = np.kron(np.kron(np.kron(np.kron(Z,I), I), I), Z)\n",
    "Z1Z3 = np.kron(np.kron(np.kron(np.kron(I,Z), I), Z), I)\n",
    "Z1Z4 = np.kron(np.kron(np.kron(np.kron(I,Z), I), I), Z)\n",
    "Z2Z3 = np.kron(np.kron(np.kron(np.kron(I,I), Z), Z), I)\n",
    "Z2Z4 = np.kron(np.kron(np.kron(np.kron(I,I), Z), I), Z)\n",
    "\n",
    "C_numpy = 0.5 * (Z0Z3 + Z0Z4 + Z1Z3 + Z1Z4 + Z2Z3 + Z2Z4)"
   ]
  },
  {
   "cell_type": "markdown",
   "metadata": {
    "slideshow": {
     "slide_type": "slide"
    }
   },
   "source": [
    "### Let's check that the Hamiltonian we've built is correct\n",
    "\n",
    "No shenanigans here -- just numpy."
   ]
  },
  {
   "cell_type": "code",
   "execution_count": 39,
   "metadata": {},
   "outputs": [
    {
     "name": "stdout",
     "output_type": "stream",
     "text": [
      "Solution: [1. 1. 0. 0. 0.] with cut: -6.0\n"
     ]
    }
   ],
   "source": [
    "# Get eigenvalues and eigenvectors\n",
    "eigval, eigvec = np.linalg.eig(C_numpy)\n",
    "# Sort eigenvalues\n",
    "idx = eigval.argsort()\n",
    "# Get lowest\n",
    "lowest_eigval = eigval[idx][0]\n",
    "lowest_eigvec = eigvec[idx][0]\n",
    "# Only need qiskit to convert eigenvector into the solution to our problem\n",
    "print(f\"Solution: {sample_most_likely(lowest_eigvec)} with cut: {lowest_eigval+offset}\")"
   ]
  },
  {
   "cell_type": "markdown",
   "metadata": {},
   "source": [
    "And this is correct!"
   ]
  },
  {
   "cell_type": "markdown",
   "metadata": {
    "slideshow": {
     "slide_type": "slide"
    }
   },
   "source": [
    "### Constructing QAOA circuit for our Hamiltonian\n",
    "\n",
    "Qiskit provides a class that constructs QAOA circuit for us from a Hamiltonian. \n",
    "\n",
    "The abstraction Qiskit uses for this is \"Variational Form\". Roughly speaking, variational form is just a parameterized circuit that prepares some parameterized state $\\psi(\\theta)$. For QAOA, as you might recall, this parameterized state is:\n",
    "\n",
    "$$  \\begin{aligned} \n",
    "    |\\psi{(\\mathbb{\\theta})}> & = |\\psi{(\\mathbb{\\beta},\\mathbb{\\gamma})}>\\\\\n",
    "    &=  e^{-i\\beta_p B}e^{-i\\gamma_p C}\\cdots e^{-i\\beta_1 B}e^{-i\\gamma_1 C} H^{\\otimes n} |0>.\n",
    "  \\end{aligned} $$"
   ]
  },
  {
   "cell_type": "code",
   "execution_count": 40,
   "metadata": {},
   "outputs": [],
   "source": [
    "from qiskit.aqua.algorithms.minimum_eigen_solvers.qaoa.var_form import QAOAVarForm\n",
    "\n",
    "p = 5\n",
    "var_form = QAOAVarForm(C.to_opflow(), p)"
   ]
  },
  {
   "cell_type": "markdown",
   "metadata": {
    "slideshow": {
     "slide_type": "slide"
    }
   },
   "source": [
    "### Constructing QAOA circuit for our Hamiltonian (cont'd)\n",
    "\n",
    "To construct circuit, we need to pass the parameters $\\mathbb{\\beta}, \\mathbb{\\gamma}$ to the variational form."
   ]
  },
  {
   "cell_type": "code",
   "execution_count": 41,
   "metadata": {},
   "outputs": [
    {
     "name": "stdout",
     "output_type": "stream",
     "text": [
      "{'01010': 9, '01001': 13, '10001': 22, '10110': 16, '11111': 26, '11110': 32, '01000': 36, '00000': 30, '10101': 12, '00101': 49, '11010': 64, '00001': 51, '00011': 44, '10010': 12, '00010': 50, '00100': 35, '01100': 10, '01101': 10, '10111': 41, '11100': 55, '00111': 51, '10100': 11, '11001': 53, '10000': 46, '00110': 36, '11101': 39, '11000': 58, '01110': 10, '10011': 9, '01111': 38, '01011': 11, '11011': 45}\n"
     ]
    }
   ],
   "source": [
    "N = G.number_of_nodes()\n",
    "\n",
    "# Lower and upper bounds: beta \\in {0, pi}, gamma \\in {0, 2*pi}\n",
    "lb = np.zeros(2*p)\n",
    "ub = np.hstack([np.full(p, np.pi), np.full(p, 2*np.pi)])\n",
    "random_point = np.random.uniform(lb, ub, 2*p)\n",
    "\n",
    "# Build the circuit\n",
    "qc = var_form.construct_circuit(random_point)\n",
    "\n",
    "# Don't forget to measure!\n",
    "qc.measure_all()\n",
    "# And run\n",
    "backend = Aer.get_backend('qasm_simulator')\n",
    "counts = execute(qc, backend).result().get_counts()\n",
    "print(counts)\n"
   ]
  },
  {
   "cell_type": "markdown",
   "metadata": {
    "slideshow": {
     "slide_type": "slide"
    }
   },
   "source": [
    "### Let's compare Qiskit circuit with the one we constructed earlier\n",
    "\n",
    "Note that Qiskit uses Hamiltonian $C = \\frac{1}{2}\\sum_{ij\\in E}(-Z_iZ_j)$, so we will have to add a factor of $\\frac{1}{2}$ to our parameters gamma to match our circuit"
   ]
  },
  {
   "cell_type": "code",
   "execution_count": 42,
   "metadata": {},
   "outputs": [
    {
     "data": {
      "text/html": [
       "<pre style=\"word-wrap: normal;white-space: pre;background: #fff0;line-height: 1.1;font-family: &quot;Courier New&quot;,Courier,monospace\">     ┌───┐                                               ┌──────────┐          »\n",
       "q_0: ┤ H ├──■─────────────■────■──────────────────────■──┤ RX(2π/3) ├──────────»\n",
       "     ├───┤  │             │    │    ┌───┐  ┌───────┐  │  └──┬───┬───┘     ┌───┐»\n",
       "q_1: ┤ H ├──┼─────────────┼────┼────┤ X ├──┤ RZ(π) ├──┼─────┤ X ├─────────┤ X ├»\n",
       "     ├───┤  │             │    │    └─┬─┘  └───────┘  │     └─┬─┘    ┌───┐└─┬─┘»\n",
       "q_2: ┤ H ├──┼─────────────┼────┼──────┼───────────────┼───────┼──────┤ X ├──┼──»\n",
       "     ├───┤┌─┴─┐┌───────┐┌─┴─┐  │      │               │       │      └─┬─┘  │  »\n",
       "q_3: ┤ H ├┤ X ├┤ RZ(π) ├┤ X ├──┼──────■───────────────┼───────■────────■────┼──»\n",
       "     ├───┤└───┘└───────┘└───┘┌─┴─┐┌───────┐         ┌─┴─┐                   │  »\n",
       "q_4: ┤ H ├───────────────────┤ X ├┤ RZ(π) ├─────────┤ X ├───────────────────■──»\n",
       "     └───┘                   └───┘└───────┘         └───┘                      »\n",
       "c: 5/══════════════════════════════════════════════════════════════════════════»\n",
       "                                                                               »\n",
       "«                                                                 \n",
       "«q_0: ────────────────────────────────────────────────────────────\n",
       "«     ┌───────┐     ┌───┐┌──────────┐                             \n",
       "«q_1: ┤ RZ(π) ├─────┤ X ├┤ RX(2π/3) ├─────────────────────────────\n",
       "«     ├───────┤┌───┐└─┬─┘└──┬───┬───┘ ┌───────┐  ┌───┐┌──────────┐\n",
       "«q_2: ┤ RZ(π) ├┤ X ├──┼─────┤ X ├─────┤ RZ(π) ├──┤ X ├┤ RX(2π/3) ├\n",
       "«     └───────┘└─┬─┘  │     └─┬─┘    ┌┴───────┴─┐└─┬─┘└──────────┘\n",
       "«q_3: ───────────■────┼───────┼──────┤ RX(2π/3) ├──┼──────────────\n",
       "«                     │       │      └──────────┘  │  ┌──────────┐\n",
       "«q_4: ────────────────■───────■────────────────────■──┤ RX(2π/3) ├\n",
       "«                                                     └──────────┘\n",
       "«c: 5/════════════════════════════════════════════════════════════\n",
       "«                                                                 </pre>"
      ],
      "text/plain": [
       "     ┌───┐                                               ┌──────────┐          »\n",
       "q_0: ┤ H ├──■─────────────■────■──────────────────────■──┤ RX(2π/3) ├──────────»\n",
       "     ├───┤  │             │    │    ┌───┐  ┌───────┐  │  └──┬───┬───┘     ┌───┐»\n",
       "q_1: ┤ H ├──┼─────────────┼────┼────┤ X ├──┤ RZ(π) ├──┼─────┤ X ├─────────┤ X ├»\n",
       "     ├───┤  │             │    │    └─┬─┘  └───────┘  │     └─┬─┘    ┌───┐└─┬─┘»\n",
       "q_2: ┤ H ├──┼─────────────┼────┼──────┼───────────────┼───────┼──────┤ X ├──┼──»\n",
       "     ├───┤┌─┴─┐┌───────┐┌─┴─┐  │      │               │       │      └─┬─┘  │  »\n",
       "q_3: ┤ H ├┤ X ├┤ RZ(π) ├┤ X ├──┼──────■───────────────┼───────■────────■────┼──»\n",
       "     ├───┤└───┘└───────┘└───┘┌─┴─┐┌───────┐         ┌─┴─┐                   │  »\n",
       "q_4: ┤ H ├───────────────────┤ X ├┤ RZ(π) ├─────────┤ X ├───────────────────■──»\n",
       "     └───┘                   └───┘└───────┘         └───┘                      »\n",
       "c: 5/══════════════════════════════════════════════════════════════════════════»\n",
       "                                                                               »\n",
       "«                                                                 \n",
       "«q_0: ────────────────────────────────────────────────────────────\n",
       "«     ┌───────┐     ┌───┐┌──────────┐                             \n",
       "«q_1: ┤ RZ(π) ├─────┤ X ├┤ RX(2π/3) ├─────────────────────────────\n",
       "«     ├───────┤┌───┐└─┬─┘└──┬───┬───┘ ┌───────┐  ┌───┐┌──────────┐\n",
       "«q_2: ┤ RZ(π) ├┤ X ├──┼─────┤ X ├─────┤ RZ(π) ├──┤ X ├┤ RX(2π/3) ├\n",
       "«     └───────┘└─┬─┘  │     └─┬─┘    ┌┴───────┴─┐└─┬─┘└──────────┘\n",
       "«q_3: ───────────■────┼───────┼──────┤ RX(2π/3) ├──┼──────────────\n",
       "«                     │       │      └──────────┘  │  ┌──────────┐\n",
       "«q_4: ────────────────■───────■────────────────────■──┤ RX(2π/3) ├\n",
       "«                                                     └──────────┘\n",
       "«c: 5/════════════════════════════════════════════════════════════\n",
       "«                                                                 "
      ]
     },
     "execution_count": 42,
     "metadata": {},
     "output_type": "execute_result"
    }
   ],
   "source": [
    "qc_our = get_qaoa_circuit_sv(G,[np.pi/3], [np.pi/2])\n",
    "qc_our.draw()"
   ]
  },
  {
   "cell_type": "code",
   "execution_count": 47,
   "metadata": {
    "scrolled": false,
    "slideshow": {
     "slide_type": "fragment"
    }
   },
   "outputs": [
    {
     "data": {
      "text/html": [
       "<pre style=\"word-wrap: normal;white-space: pre;background: #fff0;line-height: 1.1;font-family: &quot;Courier New&quot;,Courier,monospace\">     ┌───┐                                                                 »\n",
       "q_0: ┤ H ├─────────────────────────────────────────────────────────────────»\n",
       "     ├───┤                        ┌───┐┌───────┐     ┌───┐            ┌───┐»\n",
       "q_1: ┤ H ├────────────────────────┤ X ├┤ RZ(π) ├─────┤ X ├────────────┤ X ├»\n",
       "     ├───┤┌───┐┌───────┐┌───┐┌───┐└─┬─┘├───────┤┌───┐└─┬─┘┌──────────┐└─┬─┘»\n",
       "q_2: ┤ H ├┤ X ├┤ RZ(π) ├┤ X ├┤ X ├──┼──┤ RZ(π) ├┤ X ├──┼──┤ RX(2π/3) ├──┼──»\n",
       "     ├───┤└─┬─┘└───────┘└─┬─┘└─┬─┘  │  └───────┘└─┬─┘  │  └──────────┘  │  »\n",
       "q_3: ┤ H ├──┼─────────────┼────■────┼─────────────■────┼────────────────■──»\n",
       "     ├───┤  │             │         │                  │                   »\n",
       "q_4: ┤ H ├──■─────────────■─────────■──────────────────■───────────────────»\n",
       "     └───┘                                                                 »\n",
       "«     ┌───┐┌───────┐     ┌───┐            ┌───┐┌───────┐┌───┐┌──────────┐\n",
       "«q_0: ┤ X ├┤ RZ(π) ├─────┤ X ├────────────┤ X ├┤ RZ(π) ├┤ X ├┤ RX(2π/3) ├\n",
       "«     └─┬─┘├───────┤┌───┐└─┬─┘┌──────────┐└─┬─┘└───────┘└─┬─┘└──────────┘\n",
       "«q_1: ──┼──┤ RZ(π) ├┤ X ├──┼──┤ RX(2π/3) ├──┼─────────────┼──────────────\n",
       "«       │  └───────┘└─┬─┘  │  └──────────┘  │             │              \n",
       "«q_2: ──┼─────────────┼────┼────────────────┼─────────────┼──────────────\n",
       "«       │             │    │                │             │  ┌──────────┐\n",
       "«q_3: ──┼─────────────■────┼────────────────■─────────────■──┤ RX(2π/3) ├\n",
       "«       │                  │  ┌──────────┐                   └──────────┘\n",
       "«q_4: ──■──────────────────■──┤ RX(2π/3) ├───────────────────────────────\n",
       "«                             └──────────┘                               </pre>"
      ],
      "text/plain": [
       "     ┌───┐                                                                 »\n",
       "q_0: ┤ H ├─────────────────────────────────────────────────────────────────»\n",
       "     ├───┤                        ┌───┐┌───────┐     ┌───┐            ┌───┐»\n",
       "q_1: ┤ H ├────────────────────────┤ X ├┤ RZ(π) ├─────┤ X ├────────────┤ X ├»\n",
       "     ├───┤┌───┐┌───────┐┌───┐┌───┐└─┬─┘├───────┤┌───┐└─┬─┘┌──────────┐└─┬─┘»\n",
       "q_2: ┤ H ├┤ X ├┤ RZ(π) ├┤ X ├┤ X ├──┼──┤ RZ(π) ├┤ X ├──┼──┤ RX(2π/3) ├──┼──»\n",
       "     ├───┤└─┬─┘└───────┘└─┬─┘└─┬─┘  │  └───────┘└─┬─┘  │  └──────────┘  │  »\n",
       "q_3: ┤ H ├──┼─────────────┼────■────┼─────────────■────┼────────────────■──»\n",
       "     ├───┤  │             │         │                  │                   »\n",
       "q_4: ┤ H ├──■─────────────■─────────■──────────────────■───────────────────»\n",
       "     └───┘                                                                 »\n",
       "«     ┌───┐┌───────┐     ┌───┐            ┌───┐┌───────┐┌───┐┌──────────┐\n",
       "«q_0: ┤ X ├┤ RZ(π) ├─────┤ X ├────────────┤ X ├┤ RZ(π) ├┤ X ├┤ RX(2π/3) ├\n",
       "«     └─┬─┘├───────┤┌───┐└─┬─┘┌──────────┐└─┬─┘└───────┘└─┬─┘└──────────┘\n",
       "«q_1: ──┼──┤ RZ(π) ├┤ X ├──┼──┤ RX(2π/3) ├──┼─────────────┼──────────────\n",
       "«       │  └───────┘└─┬─┘  │  └──────────┘  │             │              \n",
       "«q_2: ──┼─────────────┼────┼────────────────┼─────────────┼──────────────\n",
       "«       │             │    │                │             │  ┌──────────┐\n",
       "«q_3: ──┼─────────────■────┼────────────────■─────────────■──┤ RX(2π/3) ├\n",
       "«       │                  │  ┌──────────┐                   └──────────┘\n",
       "«q_4: ──■──────────────────■──┤ RX(2π/3) ├───────────────────────────────\n",
       "«                             └──────────┘                               "
      ]
     },
     "execution_count": 47,
     "metadata": {},
     "output_type": "execute_result"
    }
   ],
   "source": [
    "from qiskit.compiler import transpile\n",
    "var_form_qiskit = QAOAVarForm(C.to_opflow(), 1)\n",
    "qc_qiskit = var_form_qiskit.construct_circuit([np.pi, np.pi/3])\n",
    "circuit_qiskit = transpile(qc_qiskit, optimization_level=0,basis_gates=['rz', 'rx', 'h', 'cx'])\n",
    "circuit_qiskit.draw()"
   ]
  },
  {
   "cell_type": "markdown",
   "metadata": {
    "slideshow": {
     "slide_type": "slide"
    }
   },
   "source": [
    "### Yay! The two match"
   ]
  },
  {
   "cell_type": "markdown",
   "metadata": {
    "slideshow": {
     "slide_type": "slide"
    }
   },
   "source": [
    "### Confirming two circuits produce the same unitary (up to global phase)"
   ]
  },
  {
   "cell_type": "code",
   "execution_count": 48,
   "metadata": {},
   "outputs": [
    {
     "name": "stdout",
     "output_type": "stream",
     "text": [
      "True\n"
     ]
    }
   ],
   "source": [
    "def equal_up_to_global_phase(sv1, sv2):\n",
    "    nnz = np.nonzero((sv1 != 0) & (sv2 != 0))  \n",
    "    phase = sv1[nnz] / sv2[nnz]\n",
    "    return np.all(np.isclose(phase, phase[0]))\n",
    "\n",
    "# to get rid of numerical errors\n",
    "def remove_vals_smaller_than_eps(a, eps=10*np.finfo(np.float).eps):\n",
    "    a.real[abs(a.real) < eps] = 0.0\n",
    "    a.imag[abs(a.imag) < eps] = 0.0\n",
    "    return a\n",
    "\n",
    "backend = Aer.get_backend(\"unitary_simulator\")\n",
    "unitary_our = remove_vals_smaller_than_eps(execute(qc_our, backend=backend).result().get_unitary())\n",
    "unitary_qiskit = remove_vals_smaller_than_eps(execute(qc_qiskit, backend=backend).result().get_unitary())\n",
    "print(equal_up_to_global_phase(unitary_our, unitary_qiskit))"
   ]
  },
  {
   "cell_type": "markdown",
   "metadata": {
    "slideshow": {
     "slide_type": "slide"
    }
   },
   "source": [
    "### Q: what if I want to use the Hamiltonian that I've built in numpy?\n",
    "\n",
    "You can do that too! All you need to do is to convert it to Qiskit object"
   ]
  },
  {
   "cell_type": "code",
   "execution_count": 49,
   "metadata": {},
   "outputs": [
    {
     "name": "stdout",
     "output_type": "stream",
     "text": [
      "type of C_numpy is <class 'numpy.ndarray'>\n"
     ]
    },
    {
     "data": {
      "text/plain": [
       "<qiskit.aqua.algorithms.minimum_eigen_solvers.qaoa.var_form.QAOAVarForm at 0x7fdc888bef10>"
      ]
     },
     "execution_count": 49,
     "metadata": {},
     "output_type": "execute_result"
    }
   ],
   "source": [
    "print(f\"type of C_numpy is {type(C_numpy)}\")\n",
    "\n",
    "from qiskit.aqua.operators import MatrixOperator\n",
    "C_converted = MatrixOperator(C_numpy)\n",
    "\n",
    "# Now we can use it!\n",
    "var_form = QAOAVarForm(C_converted.to_opflow(), p)\n",
    "var_form"
   ]
  }
 ],
 "metadata": {
  "celltoolbar": "Slideshow",
  "kernelspec": {
   "display_name": "Python 3",
   "language": "python",
   "name": "python3"
  },
  "language_info": {
   "codemirror_mode": {
    "name": "ipython",
    "version": 3
   },
   "file_extension": ".py",
   "mimetype": "text/x-python",
   "name": "python",
   "nbconvert_exporter": "python",
   "pygments_lexer": "ipython3",
   "version": "3.8.8"
  }
 },
 "nbformat": 4,
 "nbformat_minor": 2
}
